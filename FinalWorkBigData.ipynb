{
  "nbformat": 4,
  "nbformat_minor": 0,
  "metadata": {
    "colab": {
      "name": "FinalWorkBigData",
      "provenance": [],
      "collapsed_sections": [],
      "authorship_tag": "ABX9TyPobB7LI3dE2dSphmTpbdz1",
      "include_colab_link": true
    },
    "kernelspec": {
      "name": "python3",
      "display_name": "Python 3"
    },
    "language_info": {
      "name": "python"
    }
  },
  "cells": [
    {
      "cell_type": "markdown",
      "metadata": {
        "id": "view-in-github",
        "colab_type": "text"
      },
      "source": [
        "<a href=\"https://colab.research.google.com/github/suleymanovan/Analytical-projects/blob/main/FinalWorkBigData.ipynb\" target=\"_parent\"><img src=\"https://colab.research.google.com/assets/colab-badge.svg\" alt=\"Open In Colab\"/></a>"
      ]
    },
    {
      "cell_type": "code",
      "metadata": {
        "id": "GwFEljW9hLBX"
      },
      "source": [
        "import pandas as pd"
      ],
      "execution_count": null,
      "outputs": []
    },
    {
      "cell_type": "code",
      "metadata": {
        "id": "qiLQr2nF1ofV"
      },
      "source": [
        "import numpy as np"
      ],
      "execution_count": null,
      "outputs": []
    },
    {
      "cell_type": "markdown",
      "metadata": {
        "id": "8wTt1vxdjQQ_"
      },
      "source": [
        "Загружаем в колаб файлы по оценкам (u.data) и фильмам (u.items) и создаем на их основе pandas-датафреймы"
      ]
    },
    {
      "cell_type": "code",
      "metadata": {
        "id": "x7y1JKJthq8C"
      },
      "source": [
        "df_rat = pd.read_csv(\"u.data.csv\", sep='\\t', names=['user id', 'item id', 'rating', 'timestamp'], encoding=\"ISO-8859-1\")"
      ],
      "execution_count": null,
      "outputs": []
    },
    {
      "cell_type": "code",
      "metadata": {
        "colab": {
          "base_uri": "https://localhost:8080/",
          "height": 204
        },
        "id": "iz98ePAYh_HJ",
        "outputId": "6c2caf33-86f9-4ef3-c0cc-cde85e7eec07"
      },
      "source": [
        "df_rat.head()"
      ],
      "execution_count": null,
      "outputs": [
        {
          "output_type": "execute_result",
          "data": {
            "text/html": [
              "<div>\n",
              "<style scoped>\n",
              "    .dataframe tbody tr th:only-of-type {\n",
              "        vertical-align: middle;\n",
              "    }\n",
              "\n",
              "    .dataframe tbody tr th {\n",
              "        vertical-align: top;\n",
              "    }\n",
              "\n",
              "    .dataframe thead th {\n",
              "        text-align: right;\n",
              "    }\n",
              "</style>\n",
              "<table border=\"1\" class=\"dataframe\">\n",
              "  <thead>\n",
              "    <tr style=\"text-align: right;\">\n",
              "      <th></th>\n",
              "      <th>user id</th>\n",
              "      <th>item id</th>\n",
              "      <th>rating</th>\n",
              "      <th>timestamp</th>\n",
              "    </tr>\n",
              "  </thead>\n",
              "  <tbody>\n",
              "    <tr>\n",
              "      <th>0</th>\n",
              "      <td>196</td>\n",
              "      <td>242</td>\n",
              "      <td>3</td>\n",
              "      <td>881250949</td>\n",
              "    </tr>\n",
              "    <tr>\n",
              "      <th>1</th>\n",
              "      <td>186</td>\n",
              "      <td>302</td>\n",
              "      <td>3</td>\n",
              "      <td>891717742</td>\n",
              "    </tr>\n",
              "    <tr>\n",
              "      <th>2</th>\n",
              "      <td>22</td>\n",
              "      <td>377</td>\n",
              "      <td>1</td>\n",
              "      <td>878887116</td>\n",
              "    </tr>\n",
              "    <tr>\n",
              "      <th>3</th>\n",
              "      <td>244</td>\n",
              "      <td>51</td>\n",
              "      <td>2</td>\n",
              "      <td>880606923</td>\n",
              "    </tr>\n",
              "    <tr>\n",
              "      <th>4</th>\n",
              "      <td>166</td>\n",
              "      <td>346</td>\n",
              "      <td>1</td>\n",
              "      <td>886397596</td>\n",
              "    </tr>\n",
              "  </tbody>\n",
              "</table>\n",
              "</div>"
            ],
            "text/plain": [
              "   user id  item id  rating  timestamp\n",
              "0      196      242       3  881250949\n",
              "1      186      302       3  891717742\n",
              "2       22      377       1  878887116\n",
              "3      244       51       2  880606923\n",
              "4      166      346       1  886397596"
            ]
          },
          "metadata": {
            "tags": []
          },
          "execution_count": 103
        }
      ]
    },
    {
      "cell_type": "code",
      "metadata": {
        "id": "zsBiczPyjSFT"
      },
      "source": [
        "df_mov = pd.read_csv(\"u.item.csv\", \n",
        "sep='|', header=None, names=['movie id', 'movie title', 'release date', 'video release date', 'IMDb URL', 'unknown', 'Action', 'Adventure', \n",
        "'Animation', 'Childrens', 'Comedy', 'Crime', 'Documentary', 'Drama', 'Fantasy', 'Film-Noir', 'Horror', 'Musical', 'Mystery', 'Romance', 'Sci-Fi', \n",
        "'Thriller', 'War', 'Western'], encoding=\"ISO-8859-1\")"
      ],
      "execution_count": null,
      "outputs": []
    },
    {
      "cell_type": "markdown",
      "metadata": {
        "id": "2dgKVkM8H44u"
      },
      "source": [
        "Добавим год релиза"
      ]
    },
    {
      "cell_type": "code",
      "metadata": {
        "id": "UXUcSr8YAqjf"
      },
      "source": [
        "df_mov['release date'] = pd.to_datetime(df_mov['release date'])"
      ],
      "execution_count": null,
      "outputs": []
    },
    {
      "cell_type": "code",
      "metadata": {
        "id": "FCtT-SkfEiyy"
      },
      "source": [
        "df_mov['video release date'] = df_mov['release date'].dt.year"
      ],
      "execution_count": null,
      "outputs": []
    },
    {
      "cell_type": "code",
      "metadata": {
        "id": "Ph9RJ63cja2i",
        "colab": {
          "base_uri": "https://localhost:8080/",
          "height": 377
        },
        "outputId": "521128af-48f9-49fd-a207-d04cdda3e2c3"
      },
      "source": [
        "df_mov.head()"
      ],
      "execution_count": null,
      "outputs": [
        {
          "output_type": "execute_result",
          "data": {
            "text/html": [
              "<div>\n",
              "<style scoped>\n",
              "    .dataframe tbody tr th:only-of-type {\n",
              "        vertical-align: middle;\n",
              "    }\n",
              "\n",
              "    .dataframe tbody tr th {\n",
              "        vertical-align: top;\n",
              "    }\n",
              "\n",
              "    .dataframe thead th {\n",
              "        text-align: right;\n",
              "    }\n",
              "</style>\n",
              "<table border=\"1\" class=\"dataframe\">\n",
              "  <thead>\n",
              "    <tr style=\"text-align: right;\">\n",
              "      <th></th>\n",
              "      <th>movie id</th>\n",
              "      <th>movie title</th>\n",
              "      <th>release date</th>\n",
              "      <th>video release date</th>\n",
              "      <th>IMDb URL</th>\n",
              "      <th>unknown</th>\n",
              "      <th>Action</th>\n",
              "      <th>Adventure</th>\n",
              "      <th>Animation</th>\n",
              "      <th>Childrens</th>\n",
              "      <th>Comedy</th>\n",
              "      <th>Crime</th>\n",
              "      <th>Documentary</th>\n",
              "      <th>Drama</th>\n",
              "      <th>Fantasy</th>\n",
              "      <th>Film-Noir</th>\n",
              "      <th>Horror</th>\n",
              "      <th>Musical</th>\n",
              "      <th>Mystery</th>\n",
              "      <th>Romance</th>\n",
              "      <th>Sci-Fi</th>\n",
              "      <th>Thriller</th>\n",
              "      <th>War</th>\n",
              "      <th>Western</th>\n",
              "    </tr>\n",
              "  </thead>\n",
              "  <tbody>\n",
              "    <tr>\n",
              "      <th>0</th>\n",
              "      <td>1</td>\n",
              "      <td>Toy Story (1995)</td>\n",
              "      <td>1995-01-01</td>\n",
              "      <td>1995.0</td>\n",
              "      <td>http://us.imdb.com/M/title-exact?Toy%20Story%2...</td>\n",
              "      <td>0</td>\n",
              "      <td>0</td>\n",
              "      <td>0</td>\n",
              "      <td>1</td>\n",
              "      <td>1</td>\n",
              "      <td>1</td>\n",
              "      <td>0</td>\n",
              "      <td>0</td>\n",
              "      <td>0</td>\n",
              "      <td>0</td>\n",
              "      <td>0</td>\n",
              "      <td>0</td>\n",
              "      <td>0</td>\n",
              "      <td>0</td>\n",
              "      <td>0</td>\n",
              "      <td>0</td>\n",
              "      <td>0</td>\n",
              "      <td>0</td>\n",
              "      <td>0</td>\n",
              "    </tr>\n",
              "    <tr>\n",
              "      <th>1</th>\n",
              "      <td>2</td>\n",
              "      <td>GoldenEye (1995)</td>\n",
              "      <td>1995-01-01</td>\n",
              "      <td>1995.0</td>\n",
              "      <td>http://us.imdb.com/M/title-exact?GoldenEye%20(...</td>\n",
              "      <td>0</td>\n",
              "      <td>1</td>\n",
              "      <td>1</td>\n",
              "      <td>0</td>\n",
              "      <td>0</td>\n",
              "      <td>0</td>\n",
              "      <td>0</td>\n",
              "      <td>0</td>\n",
              "      <td>0</td>\n",
              "      <td>0</td>\n",
              "      <td>0</td>\n",
              "      <td>0</td>\n",
              "      <td>0</td>\n",
              "      <td>0</td>\n",
              "      <td>0</td>\n",
              "      <td>0</td>\n",
              "      <td>1</td>\n",
              "      <td>0</td>\n",
              "      <td>0</td>\n",
              "    </tr>\n",
              "    <tr>\n",
              "      <th>2</th>\n",
              "      <td>3</td>\n",
              "      <td>Four Rooms (1995)</td>\n",
              "      <td>1995-01-01</td>\n",
              "      <td>1995.0</td>\n",
              "      <td>http://us.imdb.com/M/title-exact?Four%20Rooms%...</td>\n",
              "      <td>0</td>\n",
              "      <td>0</td>\n",
              "      <td>0</td>\n",
              "      <td>0</td>\n",
              "      <td>0</td>\n",
              "      <td>0</td>\n",
              "      <td>0</td>\n",
              "      <td>0</td>\n",
              "      <td>0</td>\n",
              "      <td>0</td>\n",
              "      <td>0</td>\n",
              "      <td>0</td>\n",
              "      <td>0</td>\n",
              "      <td>0</td>\n",
              "      <td>0</td>\n",
              "      <td>0</td>\n",
              "      <td>1</td>\n",
              "      <td>0</td>\n",
              "      <td>0</td>\n",
              "    </tr>\n",
              "    <tr>\n",
              "      <th>3</th>\n",
              "      <td>4</td>\n",
              "      <td>Get Shorty (1995)</td>\n",
              "      <td>1995-01-01</td>\n",
              "      <td>1995.0</td>\n",
              "      <td>http://us.imdb.com/M/title-exact?Get%20Shorty%...</td>\n",
              "      <td>0</td>\n",
              "      <td>1</td>\n",
              "      <td>0</td>\n",
              "      <td>0</td>\n",
              "      <td>0</td>\n",
              "      <td>1</td>\n",
              "      <td>0</td>\n",
              "      <td>0</td>\n",
              "      <td>1</td>\n",
              "      <td>0</td>\n",
              "      <td>0</td>\n",
              "      <td>0</td>\n",
              "      <td>0</td>\n",
              "      <td>0</td>\n",
              "      <td>0</td>\n",
              "      <td>0</td>\n",
              "      <td>0</td>\n",
              "      <td>0</td>\n",
              "      <td>0</td>\n",
              "    </tr>\n",
              "    <tr>\n",
              "      <th>4</th>\n",
              "      <td>5</td>\n",
              "      <td>Copycat (1995)</td>\n",
              "      <td>1995-01-01</td>\n",
              "      <td>1995.0</td>\n",
              "      <td>http://us.imdb.com/M/title-exact?Copycat%20(1995)</td>\n",
              "      <td>0</td>\n",
              "      <td>0</td>\n",
              "      <td>0</td>\n",
              "      <td>0</td>\n",
              "      <td>0</td>\n",
              "      <td>0</td>\n",
              "      <td>1</td>\n",
              "      <td>0</td>\n",
              "      <td>1</td>\n",
              "      <td>0</td>\n",
              "      <td>0</td>\n",
              "      <td>0</td>\n",
              "      <td>0</td>\n",
              "      <td>0</td>\n",
              "      <td>0</td>\n",
              "      <td>0</td>\n",
              "      <td>1</td>\n",
              "      <td>0</td>\n",
              "      <td>0</td>\n",
              "    </tr>\n",
              "  </tbody>\n",
              "</table>\n",
              "</div>"
            ],
            "text/plain": [
              "   movie id        movie title release date  ...  Thriller War  Western\n",
              "0         1   Toy Story (1995)   1995-01-01  ...         0   0        0\n",
              "1         2   GoldenEye (1995)   1995-01-01  ...         1   0        0\n",
              "2         3  Four Rooms (1995)   1995-01-01  ...         1   0        0\n",
              "3         4  Get Shorty (1995)   1995-01-01  ...         0   0        0\n",
              "4         5     Copycat (1995)   1995-01-01  ...         1   0        0\n",
              "\n",
              "[5 rows x 24 columns]"
            ]
          },
          "metadata": {
            "tags": []
          },
          "execution_count": 107
        }
      ]
    },
    {
      "cell_type": "markdown",
      "metadata": {
        "id": "c7h67_Q25KP0"
      },
      "source": [
        "Средствами Pandas, используя dataframe ratings, найдем id пользователя, поставившего больше всего оценок"
      ]
    },
    {
      "cell_type": "code",
      "metadata": {
        "id": "Hy-qmJoe6493"
      },
      "source": [
        "df_id = df_rat.groupby('user id').count()"
      ],
      "execution_count": null,
      "outputs": []
    },
    {
      "cell_type": "code",
      "metadata": {
        "colab": {
          "base_uri": "https://localhost:8080/",
          "height": 111
        },
        "id": "FPhxRpVv9k07",
        "outputId": "fd87f621-5d82-4619-ccf6-090cc13f9f27"
      },
      "source": [
        "df_id.sort_values(by=['rating'], ascending=False).iloc[0:1]"
      ],
      "execution_count": null,
      "outputs": [
        {
          "output_type": "execute_result",
          "data": {
            "text/html": [
              "<div>\n",
              "<style scoped>\n",
              "    .dataframe tbody tr th:only-of-type {\n",
              "        vertical-align: middle;\n",
              "    }\n",
              "\n",
              "    .dataframe tbody tr th {\n",
              "        vertical-align: top;\n",
              "    }\n",
              "\n",
              "    .dataframe thead th {\n",
              "        text-align: right;\n",
              "    }\n",
              "</style>\n",
              "<table border=\"1\" class=\"dataframe\">\n",
              "  <thead>\n",
              "    <tr style=\"text-align: right;\">\n",
              "      <th></th>\n",
              "      <th>item id</th>\n",
              "      <th>rating</th>\n",
              "      <th>timestamp</th>\n",
              "    </tr>\n",
              "    <tr>\n",
              "      <th>user id</th>\n",
              "      <th></th>\n",
              "      <th></th>\n",
              "      <th></th>\n",
              "    </tr>\n",
              "  </thead>\n",
              "  <tbody>\n",
              "    <tr>\n",
              "      <th>405</th>\n",
              "      <td>737</td>\n",
              "      <td>737</td>\n",
              "      <td>737</td>\n",
              "    </tr>\n",
              "  </tbody>\n",
              "</table>\n",
              "</div>"
            ],
            "text/plain": [
              "         item id  rating  timestamp\n",
              "user id                            \n",
              "405          737     737        737"
            ]
          },
          "metadata": {
            "tags": []
          },
          "execution_count": 109
        }
      ]
    },
    {
      "cell_type": "markdown",
      "metadata": {
        "id": "kVnBpFQY_zdW"
      },
      "source": [
        "Оставим в датафрейме ratings только те фильмы, который оценил данный пользователь "
      ]
    },
    {
      "cell_type": "code",
      "metadata": {
        "id": "jWqvLIl7oico"
      },
      "source": [
        "df_filt= df_rat.loc[df_rat['user id'] == 405]"
      ],
      "execution_count": null,
      "outputs": []
    },
    {
      "cell_type": "code",
      "metadata": {
        "colab": {
          "base_uri": "https://localhost:8080/",
          "height": 204
        },
        "id": "lxNaJeWBDZvM",
        "outputId": "147960e5-a456-424f-efbf-277bd345d940"
      },
      "source": [
        "df_filt.head()"
      ],
      "execution_count": null,
      "outputs": [
        {
          "output_type": "execute_result",
          "data": {
            "text/html": [
              "<div>\n",
              "<style scoped>\n",
              "    .dataframe tbody tr th:only-of-type {\n",
              "        vertical-align: middle;\n",
              "    }\n",
              "\n",
              "    .dataframe tbody tr th {\n",
              "        vertical-align: top;\n",
              "    }\n",
              "\n",
              "    .dataframe thead th {\n",
              "        text-align: right;\n",
              "    }\n",
              "</style>\n",
              "<table border=\"1\" class=\"dataframe\">\n",
              "  <thead>\n",
              "    <tr style=\"text-align: right;\">\n",
              "      <th></th>\n",
              "      <th>user id</th>\n",
              "      <th>item id</th>\n",
              "      <th>rating</th>\n",
              "      <th>timestamp</th>\n",
              "    </tr>\n",
              "  </thead>\n",
              "  <tbody>\n",
              "    <tr>\n",
              "      <th>12276</th>\n",
              "      <td>405</td>\n",
              "      <td>56</td>\n",
              "      <td>4</td>\n",
              "      <td>885544911</td>\n",
              "    </tr>\n",
              "    <tr>\n",
              "      <th>12383</th>\n",
              "      <td>405</td>\n",
              "      <td>592</td>\n",
              "      <td>1</td>\n",
              "      <td>885548670</td>\n",
              "    </tr>\n",
              "    <tr>\n",
              "      <th>12430</th>\n",
              "      <td>405</td>\n",
              "      <td>1582</td>\n",
              "      <td>1</td>\n",
              "      <td>885548670</td>\n",
              "    </tr>\n",
              "    <tr>\n",
              "      <th>12449</th>\n",
              "      <td>405</td>\n",
              "      <td>171</td>\n",
              "      <td>1</td>\n",
              "      <td>885549544</td>\n",
              "    </tr>\n",
              "    <tr>\n",
              "      <th>12460</th>\n",
              "      <td>405</td>\n",
              "      <td>580</td>\n",
              "      <td>1</td>\n",
              "      <td>885547447</td>\n",
              "    </tr>\n",
              "  </tbody>\n",
              "</table>\n",
              "</div>"
            ],
            "text/plain": [
              "       user id  item id  rating  timestamp\n",
              "12276      405       56       4  885544911\n",
              "12383      405      592       1  885548670\n",
              "12430      405     1582       1  885548670\n",
              "12449      405      171       1  885549544\n",
              "12460      405      580       1  885547447"
            ]
          },
          "metadata": {
            "tags": []
          },
          "execution_count": 111
        }
      ]
    },
    {
      "cell_type": "markdown",
      "metadata": {
        "id": "uw3GR3CHEQfl"
      },
      "source": [
        "Добавляем к датафрейму из задания 3 столбцы:\n",
        "* По жанрам. Каждый столбец - это жанр. Единицу записываем, если фильм принадлежит данному жанру и 0 - если нет.\n",
        "* Cтолбцы с общим количеством оценок от всех пользователей на фильм и суммарной оценкой от всех пользователей\n"
      ]
    },
    {
      "cell_type": "code",
      "metadata": {
        "id": "P9oTh9IvGpde"
      },
      "source": [
        "df = df_filt.merge(\n",
        "    df_mov,\n",
        "    left_on = 'item id',\n",
        "    right_on = 'movie id',\n",
        "    how = 'inner'\n",
        "     )"
      ],
      "execution_count": null,
      "outputs": []
    },
    {
      "cell_type": "code",
      "metadata": {
        "colab": {
          "base_uri": "https://localhost:8080/"
        },
        "id": "wnq4i2sLIoCW",
        "outputId": "3c53d7ba-4447-4388-a4c5-e8882c1fbe58"
      },
      "source": [
        "df.columns"
      ],
      "execution_count": null,
      "outputs": [
        {
          "output_type": "execute_result",
          "data": {
            "text/plain": [
              "Index(['user id', 'item id', 'rating', 'timestamp', 'movie id', 'movie title',\n",
              "       'release date', 'video release date', 'IMDb URL', 'unknown', 'Action',\n",
              "       'Adventure', 'Animation', 'Childrens', 'Comedy', 'Crime', 'Documentary',\n",
              "       'Drama', 'Fantasy', 'Film-Noir', 'Horror', 'Musical', 'Mystery',\n",
              "       'Romance', 'Sci-Fi', 'Thriller', 'War', 'Western'],\n",
              "      dtype='object')"
            ]
          },
          "metadata": {
            "tags": []
          },
          "execution_count": 113
        }
      ]
    },
    {
      "cell_type": "code",
      "metadata": {
        "id": "7i6misJgHi0-"
      },
      "source": [
        "df = df[['item id', 'rating', 'video release date', 'unknown', 'Action',\n",
        "       'Adventure', 'Animation', 'Childrens', 'Comedy', 'Crime',\n",
        "       'Documentary', 'Drama', 'Fantasy', 'Film-Noir', 'Horror', 'Musical',\n",
        "       'Mystery', 'Romance', 'Sci-Fi', 'Thriller', 'War', 'Western']]"
      ],
      "execution_count": null,
      "outputs": []
    },
    {
      "cell_type": "code",
      "metadata": {
        "colab": {
          "base_uri": "https://localhost:8080/",
          "height": 235
        },
        "id": "fGMjRgiWhUXk",
        "outputId": "d53db446-39d3-4610-8383-e7ebb384743b"
      },
      "source": [
        "df_agg = df_rat.groupby('item id')['rating'].agg(['sum', 'count'])\n",
        "df_agg.head()"
      ],
      "execution_count": null,
      "outputs": [
        {
          "output_type": "execute_result",
          "data": {
            "text/html": [
              "<div>\n",
              "<style scoped>\n",
              "    .dataframe tbody tr th:only-of-type {\n",
              "        vertical-align: middle;\n",
              "    }\n",
              "\n",
              "    .dataframe tbody tr th {\n",
              "        vertical-align: top;\n",
              "    }\n",
              "\n",
              "    .dataframe thead th {\n",
              "        text-align: right;\n",
              "    }\n",
              "</style>\n",
              "<table border=\"1\" class=\"dataframe\">\n",
              "  <thead>\n",
              "    <tr style=\"text-align: right;\">\n",
              "      <th></th>\n",
              "      <th>sum</th>\n",
              "      <th>count</th>\n",
              "    </tr>\n",
              "    <tr>\n",
              "      <th>item id</th>\n",
              "      <th></th>\n",
              "      <th></th>\n",
              "    </tr>\n",
              "  </thead>\n",
              "  <tbody>\n",
              "    <tr>\n",
              "      <th>1</th>\n",
              "      <td>1753</td>\n",
              "      <td>452</td>\n",
              "    </tr>\n",
              "    <tr>\n",
              "      <th>2</th>\n",
              "      <td>420</td>\n",
              "      <td>131</td>\n",
              "    </tr>\n",
              "    <tr>\n",
              "      <th>3</th>\n",
              "      <td>273</td>\n",
              "      <td>90</td>\n",
              "    </tr>\n",
              "    <tr>\n",
              "      <th>4</th>\n",
              "      <td>742</td>\n",
              "      <td>209</td>\n",
              "    </tr>\n",
              "    <tr>\n",
              "      <th>5</th>\n",
              "      <td>284</td>\n",
              "      <td>86</td>\n",
              "    </tr>\n",
              "  </tbody>\n",
              "</table>\n",
              "</div>"
            ],
            "text/plain": [
              "          sum  count\n",
              "item id             \n",
              "1        1753    452\n",
              "2         420    131\n",
              "3         273     90\n",
              "4         742    209\n",
              "5         284     86"
            ]
          },
          "metadata": {
            "tags": []
          },
          "execution_count": 115
        }
      ]
    },
    {
      "cell_type": "code",
      "metadata": {
        "id": "63OlblWcho--"
      },
      "source": [
        "df_all = df.merge(\n",
        "    df_agg,\n",
        "    left_on = 'item id',\n",
        "    right_on = 'item id',\n",
        "    how = 'inner'\n",
        "     )"
      ],
      "execution_count": null,
      "outputs": []
    },
    {
      "cell_type": "code",
      "metadata": {
        "colab": {
          "base_uri": "https://localhost:8080/",
          "height": 258
        },
        "id": "3BsP7Fa1J1lr",
        "outputId": "23bc7699-5f44-4e97-dac4-6f9a92b0cdfe"
      },
      "source": [
        "df_all.head()"
      ],
      "execution_count": null,
      "outputs": [
        {
          "output_type": "execute_result",
          "data": {
            "text/html": [
              "<div>\n",
              "<style scoped>\n",
              "    .dataframe tbody tr th:only-of-type {\n",
              "        vertical-align: middle;\n",
              "    }\n",
              "\n",
              "    .dataframe tbody tr th {\n",
              "        vertical-align: top;\n",
              "    }\n",
              "\n",
              "    .dataframe thead th {\n",
              "        text-align: right;\n",
              "    }\n",
              "</style>\n",
              "<table border=\"1\" class=\"dataframe\">\n",
              "  <thead>\n",
              "    <tr style=\"text-align: right;\">\n",
              "      <th></th>\n",
              "      <th>item id</th>\n",
              "      <th>rating</th>\n",
              "      <th>video release date</th>\n",
              "      <th>unknown</th>\n",
              "      <th>Action</th>\n",
              "      <th>Adventure</th>\n",
              "      <th>Animation</th>\n",
              "      <th>Childrens</th>\n",
              "      <th>Comedy</th>\n",
              "      <th>Crime</th>\n",
              "      <th>Documentary</th>\n",
              "      <th>Drama</th>\n",
              "      <th>Fantasy</th>\n",
              "      <th>Film-Noir</th>\n",
              "      <th>Horror</th>\n",
              "      <th>Musical</th>\n",
              "      <th>Mystery</th>\n",
              "      <th>Romance</th>\n",
              "      <th>Sci-Fi</th>\n",
              "      <th>Thriller</th>\n",
              "      <th>War</th>\n",
              "      <th>Western</th>\n",
              "      <th>sum</th>\n",
              "      <th>count</th>\n",
              "    </tr>\n",
              "  </thead>\n",
              "  <tbody>\n",
              "    <tr>\n",
              "      <th>0</th>\n",
              "      <td>56</td>\n",
              "      <td>4</td>\n",
              "      <td>1994.0</td>\n",
              "      <td>0</td>\n",
              "      <td>0</td>\n",
              "      <td>0</td>\n",
              "      <td>0</td>\n",
              "      <td>0</td>\n",
              "      <td>0</td>\n",
              "      <td>1</td>\n",
              "      <td>0</td>\n",
              "      <td>1</td>\n",
              "      <td>0</td>\n",
              "      <td>0</td>\n",
              "      <td>0</td>\n",
              "      <td>0</td>\n",
              "      <td>0</td>\n",
              "      <td>0</td>\n",
              "      <td>0</td>\n",
              "      <td>0</td>\n",
              "      <td>0</td>\n",
              "      <td>0</td>\n",
              "      <td>1600</td>\n",
              "      <td>394</td>\n",
              "    </tr>\n",
              "    <tr>\n",
              "      <th>1</th>\n",
              "      <td>592</td>\n",
              "      <td>1</td>\n",
              "      <td>1995.0</td>\n",
              "      <td>0</td>\n",
              "      <td>0</td>\n",
              "      <td>0</td>\n",
              "      <td>0</td>\n",
              "      <td>0</td>\n",
              "      <td>0</td>\n",
              "      <td>0</td>\n",
              "      <td>0</td>\n",
              "      <td>0</td>\n",
              "      <td>0</td>\n",
              "      <td>0</td>\n",
              "      <td>0</td>\n",
              "      <td>0</td>\n",
              "      <td>1</td>\n",
              "      <td>0</td>\n",
              "      <td>0</td>\n",
              "      <td>1</td>\n",
              "      <td>0</td>\n",
              "      <td>0</td>\n",
              "      <td>30</td>\n",
              "      <td>9</td>\n",
              "    </tr>\n",
              "    <tr>\n",
              "      <th>2</th>\n",
              "      <td>1582</td>\n",
              "      <td>1</td>\n",
              "      <td>1947.0</td>\n",
              "      <td>0</td>\n",
              "      <td>0</td>\n",
              "      <td>0</td>\n",
              "      <td>0</td>\n",
              "      <td>0</td>\n",
              "      <td>0</td>\n",
              "      <td>0</td>\n",
              "      <td>0</td>\n",
              "      <td>0</td>\n",
              "      <td>0</td>\n",
              "      <td>1</td>\n",
              "      <td>0</td>\n",
              "      <td>0</td>\n",
              "      <td>0</td>\n",
              "      <td>0</td>\n",
              "      <td>0</td>\n",
              "      <td>0</td>\n",
              "      <td>0</td>\n",
              "      <td>0</td>\n",
              "      <td>1</td>\n",
              "      <td>1</td>\n",
              "    </tr>\n",
              "    <tr>\n",
              "      <th>3</th>\n",
              "      <td>171</td>\n",
              "      <td>1</td>\n",
              "      <td>1991.0</td>\n",
              "      <td>0</td>\n",
              "      <td>0</td>\n",
              "      <td>0</td>\n",
              "      <td>0</td>\n",
              "      <td>0</td>\n",
              "      <td>1</td>\n",
              "      <td>0</td>\n",
              "      <td>0</td>\n",
              "      <td>0</td>\n",
              "      <td>0</td>\n",
              "      <td>0</td>\n",
              "      <td>0</td>\n",
              "      <td>0</td>\n",
              "      <td>0</td>\n",
              "      <td>0</td>\n",
              "      <td>1</td>\n",
              "      <td>0</td>\n",
              "      <td>0</td>\n",
              "      <td>0</td>\n",
              "      <td>252</td>\n",
              "      <td>65</td>\n",
              "    </tr>\n",
              "    <tr>\n",
              "      <th>4</th>\n",
              "      <td>580</td>\n",
              "      <td>1</td>\n",
              "      <td>1995.0</td>\n",
              "      <td>0</td>\n",
              "      <td>0</td>\n",
              "      <td>0</td>\n",
              "      <td>0</td>\n",
              "      <td>0</td>\n",
              "      <td>1</td>\n",
              "      <td>0</td>\n",
              "      <td>0</td>\n",
              "      <td>0</td>\n",
              "      <td>0</td>\n",
              "      <td>0</td>\n",
              "      <td>0</td>\n",
              "      <td>0</td>\n",
              "      <td>0</td>\n",
              "      <td>1</td>\n",
              "      <td>0</td>\n",
              "      <td>0</td>\n",
              "      <td>0</td>\n",
              "      <td>0</td>\n",
              "      <td>108</td>\n",
              "      <td>32</td>\n",
              "    </tr>\n",
              "  </tbody>\n",
              "</table>\n",
              "</div>"
            ],
            "text/plain": [
              "   item id  rating  video release date  unknown  ...  War  Western   sum  count\n",
              "0       56       4              1994.0        0  ...    0        0  1600    394\n",
              "1      592       1              1995.0        0  ...    0        0    30      9\n",
              "2     1582       1              1947.0        0  ...    0        0     1      1\n",
              "3      171       1              1991.0        0  ...    0        0   252     65\n",
              "4      580       1              1995.0        0  ...    0        0   108     32\n",
              "\n",
              "[5 rows x 24 columns]"
            ]
          },
          "metadata": {
            "tags": []
          },
          "execution_count": 117
        }
      ]
    },
    {
      "cell_type": "markdown",
      "metadata": {
        "id": "IwRz1WEHjhSB"
      },
      "source": [
        "Теперь все готово и можно строить модель. Сформируем X_train, X_test, y_train, y_test."
      ]
    },
    {
      "cell_type": "code",
      "metadata": {
        "id": "2L4lkyUujomX"
      },
      "source": [
        "from sklearn.model_selection import train_test_split"
      ],
      "execution_count": null,
      "outputs": []
    },
    {
      "cell_type": "code",
      "metadata": {
        "colab": {
          "base_uri": "https://localhost:8080/"
        },
        "id": "-xnSrJ80l5af",
        "outputId": "a30e18f4-af7b-4c73-f83e-c47428bc5adc"
      },
      "source": [
        "df_all.columns"
      ],
      "execution_count": null,
      "outputs": [
        {
          "output_type": "execute_result",
          "data": {
            "text/plain": [
              "Index(['item id', 'rating', 'video release date', 'unknown', 'Action',\n",
              "       'Adventure', 'Animation', 'Childrens', 'Comedy', 'Crime', 'Documentary',\n",
              "       'Drama', 'Fantasy', 'Film-Noir', 'Horror', 'Musical', 'Mystery',\n",
              "       'Romance', 'Sci-Fi', 'Thriller', 'War', 'Western', 'sum', 'count'],\n",
              "      dtype='object')"
            ]
          },
          "metadata": {
            "tags": []
          },
          "execution_count": 119
        }
      ]
    },
    {
      "cell_type": "code",
      "metadata": {
        "id": "byek5U0Eqqci"
      },
      "source": [
        "X, y = df_all[['item id', 'video release date', 'unknown', 'Action', 'Adventure',\n",
        "       'Animation', 'Childrens', 'Comedy', 'Crime', 'Documentary', 'Drama',\n",
        "       'Fantasy', 'Film-Noir', 'Horror', 'Musical', 'Mystery', 'Romance',\n",
        "       'Sci-Fi', 'Thriller', 'War', 'Western', 'sum', 'count']], df_all['rating']"
      ],
      "execution_count": null,
      "outputs": []
    },
    {
      "cell_type": "code",
      "metadata": {
        "id": "8wUvTvy5mA6q"
      },
      "source": [
        "X_train, X_test, y_train, y_test = train_test_split(X, y, test_size=0.2)"
      ],
      "execution_count": null,
      "outputs": []
    },
    {
      "cell_type": "markdown",
      "metadata": {
        "id": "7DXsMKFkmUfu"
      },
      "source": [
        "Приведем данные к одному масштабу при помощи StandardScaler"
      ]
    },
    {
      "cell_type": "code",
      "metadata": {
        "id": "bip0w7yvmVSR"
      },
      "source": [
        "from sklearn.preprocessing import StandardScaler"
      ],
      "execution_count": null,
      "outputs": []
    },
    {
      "cell_type": "code",
      "metadata": {
        "id": "Doo_e3W7mYlQ"
      },
      "source": [
        "sc = StandardScaler()"
      ],
      "execution_count": null,
      "outputs": []
    },
    {
      "cell_type": "code",
      "metadata": {
        "id": "ePikzLyxmcHX"
      },
      "source": [
        "X_train = sc.fit_transform(X_train)\n",
        "X_test = sc.transform(X_test)"
      ],
      "execution_count": null,
      "outputs": []
    },
    {
      "cell_type": "markdown",
      "metadata": {
        "id": "gI-nXauYmoOe"
      },
      "source": [
        "Возьмем модель линейной регрессии и обучим ее на фильмах"
      ]
    },
    {
      "cell_type": "code",
      "metadata": {
        "id": "XPw0A4Iimoy0"
      },
      "source": [
        "from sklearn.linear_model import LinearRegression"
      ],
      "execution_count": null,
      "outputs": []
    },
    {
      "cell_type": "code",
      "metadata": {
        "id": "FyetFrDnm5TP"
      },
      "source": [
        "model = LinearRegression()"
      ],
      "execution_count": null,
      "outputs": []
    },
    {
      "cell_type": "code",
      "metadata": {
        "colab": {
          "base_uri": "https://localhost:8080/"
        },
        "id": "TUei_TG3m-ff",
        "outputId": "f5cc15e3-1091-41e6-abd6-28d61bc9da6b"
      },
      "source": [
        "model.fit(X_train, y_train)"
      ],
      "execution_count": null,
      "outputs": [
        {
          "output_type": "execute_result",
          "data": {
            "text/plain": [
              "LinearRegression(copy_X=True, fit_intercept=True, n_jobs=None, normalize=False)"
            ]
          },
          "metadata": {
            "tags": []
          },
          "execution_count": 127
        }
      ]
    },
    {
      "cell_type": "code",
      "metadata": {
        "colab": {
          "base_uri": "https://localhost:8080/"
        },
        "id": "9hpuiu9VnCTd",
        "outputId": "84b2ed26-24cb-4c65-9c84-db9f88f4a2e4"
      },
      "source": [
        "model.coef_"
      ],
      "execution_count": null,
      "outputs": [
        {
          "output_type": "execute_result",
          "data": {
            "text/plain": [
              "array([ 2.86760204e-02, -1.01668919e-01, -1.27675648e-15, -1.12248715e-01,\n",
              "       -1.07081287e-01, -9.16493578e-02,  1.37354717e-01,  7.01882899e-02,\n",
              "       -2.30578106e-03,  3.03353812e-02,  5.55311845e-02, -2.25434829e-02,\n",
              "       -1.09640683e-01,  1.63775732e-03,  7.83019276e-02, -9.62120419e-03,\n",
              "       -3.48840658e-02, -4.27076385e-03,  5.88587663e-02, -7.59178982e-02,\n",
              "        5.04414636e-03, -7.99479213e-01,  1.55577112e+00])"
            ]
          },
          "metadata": {
            "tags": []
          },
          "execution_count": 128
        }
      ]
    },
    {
      "cell_type": "markdown",
      "metadata": {
        "id": "SwNzT0lvnIij"
      },
      "source": [
        "Оценим качество модели на X_test, y_test при помощи метрик для задачи регрессии. Оцениваем качество с метрикой MSE (среднее отклонение предсказаний от правильных значений)."
      ]
    },
    {
      "cell_type": "code",
      "metadata": {
        "id": "N98izSaroIqh"
      },
      "source": [
        "from sklearn.metrics import mean_squared_error"
      ],
      "execution_count": null,
      "outputs": []
    },
    {
      "cell_type": "code",
      "metadata": {
        "colab": {
          "base_uri": "https://localhost:8080/"
        },
        "id": "du3wmu6wtQqC",
        "outputId": "7fc2ad7c-2d41-4db7-fa42-1bfbcd405ba9"
      },
      "source": [
        "model.predict(X_test)"
      ],
      "execution_count": null,
      "outputs": [
        {
          "output_type": "execute_result",
          "data": {
            "text/plain": [
              "array([1.51397529, 3.25684576, 1.23221489, 1.64303523, 1.3566551 ,\n",
              "       1.26576079, 2.08567214, 1.17728415, 1.30475453, 1.54483389,\n",
              "       2.66824123, 1.72351885, 1.3229466 , 1.5905652 , 1.81852409,\n",
              "       2.04385981, 2.11548272, 1.21546795, 1.32293451, 3.84339422,\n",
              "       1.34282044, 1.27868538, 2.0231106 , 2.0813822 , 1.48043758,\n",
              "       1.24771484, 1.60617834, 1.83897447, 1.83069403, 0.74498353,\n",
              "       3.82764557, 2.32551709, 1.30958885, 1.44006965, 1.2395798 ,\n",
              "       1.94173651, 2.28023337, 1.15013082, 1.51357283, 1.11515082,\n",
              "       1.42276808, 1.19757231, 1.21907827, 2.47662439, 1.46847376,\n",
              "       2.00185687, 1.81408646, 1.98009558, 1.39991984, 1.23991106,\n",
              "       2.77245405, 1.27054989, 1.48610112, 1.37499256, 4.87964479,\n",
              "       1.32235663, 2.04096237, 3.06603271, 1.24272497, 1.28503255,\n",
              "       1.49649894, 1.74621402, 1.22513601, 2.13612716, 1.78578341,\n",
              "       1.20824144, 2.05738799, 1.42107502, 1.26241983, 2.03818802,\n",
              "       3.16091657, 2.17548952, 2.56091512, 2.36193657, 1.29888708,\n",
              "       1.41706779, 1.45742824, 1.82944295, 1.23473428, 3.06933585,\n",
              "       6.24008249, 1.92121056, 1.45090326, 1.83653276, 1.40580684,\n",
              "       1.41553722, 2.78270987, 1.09179866, 1.38666633, 1.4124339 ,\n",
              "       1.11048918, 3.8281319 , 1.27225004, 1.20770786, 1.42263415,\n",
              "       1.32246808, 0.53121346, 1.38451591, 2.3802769 , 1.32542005,\n",
              "       1.90165736, 1.32819726, 1.63967667, 1.41253006, 1.48247409,\n",
              "       1.68881155, 1.66659947, 2.41341337, 1.22847215, 1.48356597,\n",
              "       2.12667211, 2.15304077, 2.76489112, 0.99429221, 2.52411317,\n",
              "       1.22932224, 1.66332659, 1.7532715 , 2.63002811, 1.69671011,\n",
              "       0.89891563, 1.25549384, 1.3563802 , 3.06739584, 1.53587225,\n",
              "       2.07326988, 2.85722066, 2.22705012, 1.23169258, 1.33057405,\n",
              "       1.37809164, 1.32043198, 2.89435045, 1.93015013, 2.14260325,\n",
              "       1.62606761, 1.38059015, 1.79865751, 0.81102472, 0.32734863,\n",
              "       1.6387197 , 1.69258326, 1.42824684, 1.44564767, 2.9155516 ,\n",
              "       4.50940425, 1.5095499 , 3.19473242])"
            ]
          },
          "metadata": {
            "tags": []
          },
          "execution_count": 130
        }
      ]
    },
    {
      "cell_type": "code",
      "metadata": {
        "colab": {
          "base_uri": "https://localhost:8080/"
        },
        "id": "0jbh0MLUnU1H",
        "outputId": "67d5b804-3b68-4e04-d06a-f67fb72327bd"
      },
      "source": [
        "mean_squared_error(y_train, model.predict(X_train))"
      ],
      "execution_count": null,
      "outputs": [
        {
          "output_type": "execute_result",
          "data": {
            "text/plain": [
              "1.1930637379734848"
            ]
          },
          "metadata": {
            "tags": []
          },
          "execution_count": 131
        }
      ]
    },
    {
      "cell_type": "code",
      "metadata": {
        "colab": {
          "base_uri": "https://localhost:8080/"
        },
        "id": "CyCRI4KooUYc",
        "outputId": "f731f18e-3604-4542-c479-ace69d03ffaf"
      },
      "source": [
        "mean_squared_error(y_test, model.predict(X_test))"
      ],
      "execution_count": null,
      "outputs": [
        {
          "output_type": "execute_result",
          "data": {
            "text/plain": [
              "1.1921541554627064"
            ]
          },
          "metadata": {
            "tags": []
          },
          "execution_count": 132
        }
      ]
    },
    {
      "cell_type": "markdown",
      "metadata": {
        "id": "GaLaH9fFI1E-"
      },
      "source": [
        "Загрузим данные в spark"
      ]
    },
    {
      "cell_type": "code",
      "metadata": {
        "colab": {
          "base_uri": "https://localhost:8080/"
        },
        "id": "inUv7w6bI7tA",
        "outputId": "7617beb3-4000-49e6-ee7b-35e4e67b20e7"
      },
      "source": [
        "!apt-get update"
      ],
      "execution_count": null,
      "outputs": [
        {
          "output_type": "stream",
          "text": [
            "\r0% [Working]\r            \rHit:1 https://cloud.r-project.org/bin/linux/ubuntu bionic-cran40/ InRelease\n",
            "\r0% [Connecting to archive.ubuntu.com (91.189.88.142)] [Connecting to security.u\r0% [1 InRelease gpgv 3,626 B] [Connecting to archive.ubuntu.com (91.189.88.142)\r                                                                               \rIgn:2 https://developer.download.nvidia.com/compute/cuda/repos/ubuntu1804/x86_64  InRelease\n",
            "\r0% [1 InRelease gpgv 3,626 B] [Connecting to archive.ubuntu.com (91.189.88.142)\r                                                                               \rIgn:3 https://developer.download.nvidia.com/compute/machine-learning/repos/ubuntu1804/x86_64  InRelease\n",
            "\r0% [1 InRelease gpgv 3,626 B] [Connecting to archive.ubuntu.com (91.189.88.142)\r                                                                               \rHit:4 https://developer.download.nvidia.com/compute/cuda/repos/ubuntu1804/x86_64  Release\n",
            "\r0% [1 InRelease gpgv 3,626 B] [Connecting to archive.ubuntu.com (91.189.88.142)\r                                                                               \rHit:5 https://developer.download.nvidia.com/compute/machine-learning/repos/ubuntu1804/x86_64  Release\n",
            "Get:6 http://security.ubuntu.com/ubuntu bionic-security InRelease [88.7 kB]\n",
            "Hit:7 http://ppa.launchpad.net/c2d4u.team/c2d4u4.0+/ubuntu bionic InRelease\n",
            "Hit:8 http://archive.ubuntu.com/ubuntu bionic InRelease\n",
            "Get:10 http://archive.ubuntu.com/ubuntu bionic-updates InRelease [88.7 kB]\n",
            "Hit:11 http://ppa.launchpad.net/cran/libgit2/ubuntu bionic InRelease\n",
            "Hit:13 http://ppa.launchpad.net/deadsnakes/ppa/ubuntu bionic InRelease\n",
            "Get:14 http://archive.ubuntu.com/ubuntu bionic-backports InRelease [74.6 kB]\n",
            "Hit:15 http://ppa.launchpad.net/graphics-drivers/ppa/ubuntu bionic InRelease\n",
            "Get:16 http://archive.ubuntu.com/ubuntu bionic-updates/universe amd64 Packages [2,181 kB]\n",
            "Get:17 http://archive.ubuntu.com/ubuntu bionic-updates/main amd64 Packages [2,546 kB]\n",
            "Fetched 4,980 kB in 3s (1,669 kB/s)\n",
            "Reading package lists... Done\n"
          ],
          "name": "stdout"
        }
      ]
    },
    {
      "cell_type": "code",
      "metadata": {
        "id": "F65HK4wFJIdN"
      },
      "source": [
        "!apt-get install openjdk-8-jdk-headless -qq > /dev/null"
      ],
      "execution_count": null,
      "outputs": []
    },
    {
      "cell_type": "code",
      "metadata": {
        "id": "u0DqIiiNJKjB"
      },
      "source": [
        "!wget -q www-us.apache.org/dist/spark/spark-2.4.7/spark-2.4.7-bin-hadoop2.7.tgz"
      ],
      "execution_count": null,
      "outputs": []
    },
    {
      "cell_type": "code",
      "metadata": {
        "colab": {
          "base_uri": "https://localhost:8080/"
        },
        "id": "slWBsx1IJVLM",
        "outputId": "58443155-0dd8-4f51-cf1d-e641961cf1e0"
      },
      "source": [
        "!tar -xvf spark-2.4.7-bin-hadoop2.7.tgz"
      ],
      "execution_count": null,
      "outputs": [
        {
          "output_type": "stream",
          "text": [
            "spark-2.4.7-bin-hadoop2.7/\n",
            "spark-2.4.7-bin-hadoop2.7/kubernetes/\n",
            "spark-2.4.7-bin-hadoop2.7/kubernetes/tests/\n",
            "spark-2.4.7-bin-hadoop2.7/kubernetes/tests/py_container_checks.py\n",
            "spark-2.4.7-bin-hadoop2.7/kubernetes/tests/pyfiles.py\n",
            "spark-2.4.7-bin-hadoop2.7/kubernetes/tests/worker_memory_check.py\n",
            "spark-2.4.7-bin-hadoop2.7/kubernetes/dockerfiles/\n",
            "spark-2.4.7-bin-hadoop2.7/kubernetes/dockerfiles/spark/\n",
            "spark-2.4.7-bin-hadoop2.7/kubernetes/dockerfiles/spark/entrypoint.sh\n",
            "spark-2.4.7-bin-hadoop2.7/kubernetes/dockerfiles/spark/bindings/\n",
            "spark-2.4.7-bin-hadoop2.7/kubernetes/dockerfiles/spark/bindings/python/\n",
            "spark-2.4.7-bin-hadoop2.7/kubernetes/dockerfiles/spark/bindings/python/Dockerfile\n",
            "spark-2.4.7-bin-hadoop2.7/kubernetes/dockerfiles/spark/bindings/R/\n",
            "spark-2.4.7-bin-hadoop2.7/kubernetes/dockerfiles/spark/bindings/R/Dockerfile\n",
            "spark-2.4.7-bin-hadoop2.7/kubernetes/dockerfiles/spark/Dockerfile\n",
            "spark-2.4.7-bin-hadoop2.7/NOTICE\n",
            "spark-2.4.7-bin-hadoop2.7/data/\n",
            "spark-2.4.7-bin-hadoop2.7/data/streaming/\n",
            "spark-2.4.7-bin-hadoop2.7/data/streaming/AFINN-111.txt\n",
            "spark-2.4.7-bin-hadoop2.7/data/mllib/\n",
            "spark-2.4.7-bin-hadoop2.7/data/mllib/sample_multiclass_classification_data.txt\n",
            "spark-2.4.7-bin-hadoop2.7/data/mllib/streaming_kmeans_data_test.txt\n",
            "spark-2.4.7-bin-hadoop2.7/data/mllib/ridge-data/\n",
            "spark-2.4.7-bin-hadoop2.7/data/mllib/ridge-data/lpsa.data\n",
            "spark-2.4.7-bin-hadoop2.7/data/mllib/als/\n",
            "spark-2.4.7-bin-hadoop2.7/data/mllib/als/test.data\n",
            "spark-2.4.7-bin-hadoop2.7/data/mllib/als/sample_movielens_ratings.txt\n",
            "spark-2.4.7-bin-hadoop2.7/data/mllib/sample_svm_data.txt\n",
            "spark-2.4.7-bin-hadoop2.7/data/mllib/images/\n",
            "spark-2.4.7-bin-hadoop2.7/data/mllib/images/origin/\n",
            "spark-2.4.7-bin-hadoop2.7/data/mllib/images/origin/license.txt\n",
            "spark-2.4.7-bin-hadoop2.7/data/mllib/images/origin/multi-channel/\n",
            "spark-2.4.7-bin-hadoop2.7/data/mllib/images/origin/multi-channel/grayscale.jpg\n",
            "spark-2.4.7-bin-hadoop2.7/data/mllib/images/origin/multi-channel/BGRA_alpha_60.png\n",
            "spark-2.4.7-bin-hadoop2.7/data/mllib/images/origin/multi-channel/chr30.4.184.jpg\n",
            "spark-2.4.7-bin-hadoop2.7/data/mllib/images/origin/multi-channel/BGRA.png\n",
            "spark-2.4.7-bin-hadoop2.7/data/mllib/images/origin/kittens/\n",
            "spark-2.4.7-bin-hadoop2.7/data/mllib/images/origin/kittens/not-image.txt\n",
            "spark-2.4.7-bin-hadoop2.7/data/mllib/images/origin/kittens/29.5.a_b_EGDP022204.jpg\n",
            "spark-2.4.7-bin-hadoop2.7/data/mllib/images/origin/kittens/54893.jpg\n",
            "spark-2.4.7-bin-hadoop2.7/data/mllib/images/origin/kittens/DP153539.jpg\n",
            "spark-2.4.7-bin-hadoop2.7/data/mllib/images/origin/kittens/DP802813.jpg\n",
            "spark-2.4.7-bin-hadoop2.7/data/mllib/images/partitioned/\n",
            "spark-2.4.7-bin-hadoop2.7/data/mllib/images/partitioned/cls=multichannel/\n",
            "spark-2.4.7-bin-hadoop2.7/data/mllib/images/partitioned/cls=multichannel/date=2018-01/\n",
            "spark-2.4.7-bin-hadoop2.7/data/mllib/images/partitioned/cls=multichannel/date=2018-01/BGRA_alpha_60.png\n",
            "spark-2.4.7-bin-hadoop2.7/data/mllib/images/partitioned/cls=multichannel/date=2018-01/BGRA.png\n",
            "spark-2.4.7-bin-hadoop2.7/data/mllib/images/partitioned/cls=multichannel/date=2018-02/\n",
            "spark-2.4.7-bin-hadoop2.7/data/mllib/images/partitioned/cls=multichannel/date=2018-02/grayscale.jpg\n",
            "spark-2.4.7-bin-hadoop2.7/data/mllib/images/partitioned/cls=multichannel/date=2018-02/chr30.4.184.jpg\n",
            "spark-2.4.7-bin-hadoop2.7/data/mllib/images/partitioned/cls=kittens/\n",
            "spark-2.4.7-bin-hadoop2.7/data/mllib/images/partitioned/cls=kittens/date=2018-01/\n",
            "spark-2.4.7-bin-hadoop2.7/data/mllib/images/partitioned/cls=kittens/date=2018-01/not-image.txt\n",
            "spark-2.4.7-bin-hadoop2.7/data/mllib/images/partitioned/cls=kittens/date=2018-01/29.5.a_b_EGDP022204.jpg\n",
            "spark-2.4.7-bin-hadoop2.7/data/mllib/images/partitioned/cls=kittens/date=2018-02/\n",
            "spark-2.4.7-bin-hadoop2.7/data/mllib/images/partitioned/cls=kittens/date=2018-02/54893.jpg\n",
            "spark-2.4.7-bin-hadoop2.7/data/mllib/images/partitioned/cls=kittens/date=2018-02/DP153539.jpg\n",
            "spark-2.4.7-bin-hadoop2.7/data/mllib/images/partitioned/cls=kittens/date=2018-02/DP802813.jpg\n",
            "spark-2.4.7-bin-hadoop2.7/data/mllib/images/license.txt\n",
            "spark-2.4.7-bin-hadoop2.7/data/mllib/sample_fpgrowth.txt\n",
            "spark-2.4.7-bin-hadoop2.7/data/mllib/iris_libsvm.txt\n",
            "spark-2.4.7-bin-hadoop2.7/data/mllib/sample_lda_data.txt\n",
            "spark-2.4.7-bin-hadoop2.7/data/mllib/sample_movielens_data.txt\n",
            "spark-2.4.7-bin-hadoop2.7/data/mllib/sample_binary_classification_data.txt\n",
            "spark-2.4.7-bin-hadoop2.7/data/mllib/sample_lda_libsvm_data.txt\n",
            "spark-2.4.7-bin-hadoop2.7/data/mllib/pagerank_data.txt\n",
            "spark-2.4.7-bin-hadoop2.7/data/mllib/sample_linear_regression_data.txt\n",
            "spark-2.4.7-bin-hadoop2.7/data/mllib/gmm_data.txt\n",
            "spark-2.4.7-bin-hadoop2.7/data/mllib/sample_kmeans_data.txt\n",
            "spark-2.4.7-bin-hadoop2.7/data/mllib/pic_data.txt\n",
            "spark-2.4.7-bin-hadoop2.7/data/mllib/kmeans_data.txt\n",
            "spark-2.4.7-bin-hadoop2.7/data/mllib/sample_isotonic_regression_libsvm_data.txt\n",
            "spark-2.4.7-bin-hadoop2.7/data/mllib/sample_libsvm_data.txt\n",
            "spark-2.4.7-bin-hadoop2.7/data/graphx/\n",
            "spark-2.4.7-bin-hadoop2.7/data/graphx/followers.txt\n",
            "spark-2.4.7-bin-hadoop2.7/data/graphx/users.txt\n",
            "spark-2.4.7-bin-hadoop2.7/README.md\n",
            "spark-2.4.7-bin-hadoop2.7/conf/\n",
            "spark-2.4.7-bin-hadoop2.7/conf/docker.properties.template\n",
            "spark-2.4.7-bin-hadoop2.7/conf/spark-env.sh.template\n",
            "spark-2.4.7-bin-hadoop2.7/conf/metrics.properties.template\n",
            "spark-2.4.7-bin-hadoop2.7/conf/log4j.properties.template\n",
            "spark-2.4.7-bin-hadoop2.7/conf/spark-defaults.conf.template\n",
            "spark-2.4.7-bin-hadoop2.7/conf/fairscheduler.xml.template\n",
            "spark-2.4.7-bin-hadoop2.7/conf/slaves.template\n",
            "spark-2.4.7-bin-hadoop2.7/licenses/\n",
            "spark-2.4.7-bin-hadoop2.7/licenses/LICENSE-jline.txt\n",
            "spark-2.4.7-bin-hadoop2.7/licenses/LICENSE-javolution.txt\n",
            "spark-2.4.7-bin-hadoop2.7/licenses/LICENSE-heapq.txt\n",
            "spark-2.4.7-bin-hadoop2.7/licenses/LICENSE-dagre-d3.txt\n",
            "spark-2.4.7-bin-hadoop2.7/licenses/LICENSE-modernizr.txt\n",
            "spark-2.4.7-bin-hadoop2.7/licenses/LICENSE-bootstrap.txt\n",
            "spark-2.4.7-bin-hadoop2.7/licenses/LICENSE-mustache.txt\n",
            "spark-2.4.7-bin-hadoop2.7/licenses/LICENSE-respond.txt\n",
            "spark-2.4.7-bin-hadoop2.7/licenses/LICENSE-jtransforms.html\n",
            "spark-2.4.7-bin-hadoop2.7/licenses/LICENSE-zstd-jni.txt\n",
            "spark-2.4.7-bin-hadoop2.7/licenses/LICENSE-vis-timeline.txt\n",
            "spark-2.4.7-bin-hadoop2.7/licenses/LICENSE-protobuf.txt\n",
            "spark-2.4.7-bin-hadoop2.7/licenses/LICENSE-netlib.txt\n",
            "spark-2.4.7-bin-hadoop2.7/licenses/LICENSE-xmlenc.txt\n",
            "spark-2.4.7-bin-hadoop2.7/licenses/LICENSE-reflectasm.txt\n",
            "spark-2.4.7-bin-hadoop2.7/licenses/LICENSE-jodd.txt\n",
            "spark-2.4.7-bin-hadoop2.7/licenses/LICENSE-arpack.txt\n",
            "spark-2.4.7-bin-hadoop2.7/licenses/LICENSE-zstd.txt\n",
            "spark-2.4.7-bin-hadoop2.7/licenses/LICENSE-machinist.txt\n",
            "spark-2.4.7-bin-hadoop2.7/licenses/LICENSE-CC0.txt\n",
            "spark-2.4.7-bin-hadoop2.7/licenses/LICENSE-leveldbjni.txt\n",
            "spark-2.4.7-bin-hadoop2.7/licenses/LICENSE-minlog.txt\n",
            "spark-2.4.7-bin-hadoop2.7/licenses/LICENSE-spire.txt\n",
            "spark-2.4.7-bin-hadoop2.7/licenses/LICENSE-scala.txt\n",
            "spark-2.4.7-bin-hadoop2.7/licenses/LICENSE-janino.txt\n",
            "spark-2.4.7-bin-hadoop2.7/licenses/LICENSE-antlr.txt\n",
            "spark-2.4.7-bin-hadoop2.7/licenses/LICENSE-AnchorJS.txt\n",
            "spark-2.4.7-bin-hadoop2.7/licenses/LICENSE-cloudpickle.txt\n",
            "spark-2.4.7-bin-hadoop2.7/licenses/LICENSE-f2j.txt\n",
            "spark-2.4.7-bin-hadoop2.7/licenses/LICENSE-graphlib-dot.txt\n",
            "spark-2.4.7-bin-hadoop2.7/licenses/LICENSE-pyrolite.txt\n",
            "spark-2.4.7-bin-hadoop2.7/licenses/LICENSE-datatables.txt\n",
            "spark-2.4.7-bin-hadoop2.7/licenses/LICENSE-kryo.txt\n",
            "spark-2.4.7-bin-hadoop2.7/licenses/LICENSE-join.txt\n",
            "spark-2.4.7-bin-hadoop2.7/licenses/LICENSE-scopt.txt\n",
            "spark-2.4.7-bin-hadoop2.7/licenses/LICENSE-sbt-launch-lib.txt\n",
            "spark-2.4.7-bin-hadoop2.7/licenses/LICENSE-paranamer.txt\n",
            "spark-2.4.7-bin-hadoop2.7/licenses/LICENSE-d3.min.js.txt\n",
            "spark-2.4.7-bin-hadoop2.7/licenses/LICENSE-automaton.txt\n",
            "spark-2.4.7-bin-hadoop2.7/licenses/LICENSE-slf4j.txt\n",
            "spark-2.4.7-bin-hadoop2.7/licenses/LICENSE-matchMedia-polyfill.txt\n",
            "spark-2.4.7-bin-hadoop2.7/licenses/LICENSE-javassist.html\n",
            "spark-2.4.7-bin-hadoop2.7/licenses/LICENSE-pmml-model.txt\n",
            "spark-2.4.7-bin-hadoop2.7/licenses/LICENSE-jquery.txt\n",
            "spark-2.4.7-bin-hadoop2.7/licenses/LICENSE-sorttable.js.txt\n",
            "spark-2.4.7-bin-hadoop2.7/licenses/LICENSE-py4j.txt\n",
            "spark-2.4.7-bin-hadoop2.7/licenses/LICENSE-json-formatter.txt\n",
            "spark-2.4.7-bin-hadoop2.7/yarn/\n",
            "spark-2.4.7-bin-hadoop2.7/yarn/spark-2.4.7-yarn-shuffle.jar\n",
            "spark-2.4.7-bin-hadoop2.7/bin/\n",
            "spark-2.4.7-bin-hadoop2.7/bin/spark-shell\n",
            "spark-2.4.7-bin-hadoop2.7/bin/spark-sql.cmd\n",
            "spark-2.4.7-bin-hadoop2.7/bin/spark-shell2.cmd\n",
            "spark-2.4.7-bin-hadoop2.7/bin/find-spark-home.cmd\n",
            "spark-2.4.7-bin-hadoop2.7/bin/load-spark-env.sh\n",
            "spark-2.4.7-bin-hadoop2.7/bin/beeline.cmd\n",
            "spark-2.4.7-bin-hadoop2.7/bin/spark-class\n",
            "spark-2.4.7-bin-hadoop2.7/bin/sparkR2.cmd\n",
            "spark-2.4.7-bin-hadoop2.7/bin/run-example\n",
            "spark-2.4.7-bin-hadoop2.7/bin/sparkR\n",
            "spark-2.4.7-bin-hadoop2.7/bin/pyspark2.cmd\n",
            "spark-2.4.7-bin-hadoop2.7/bin/run-example.cmd\n",
            "spark-2.4.7-bin-hadoop2.7/bin/spark-sql2.cmd\n",
            "spark-2.4.7-bin-hadoop2.7/bin/spark-submit\n",
            "spark-2.4.7-bin-hadoop2.7/bin/spark-shell.cmd\n",
            "spark-2.4.7-bin-hadoop2.7/bin/docker-image-tool.sh\n",
            "spark-2.4.7-bin-hadoop2.7/bin/find-spark-home\n",
            "spark-2.4.7-bin-hadoop2.7/bin/sparkR.cmd\n",
            "spark-2.4.7-bin-hadoop2.7/bin/load-spark-env.cmd\n",
            "spark-2.4.7-bin-hadoop2.7/bin/pyspark\n",
            "spark-2.4.7-bin-hadoop2.7/bin/beeline\n",
            "spark-2.4.7-bin-hadoop2.7/bin/spark-sql\n",
            "spark-2.4.7-bin-hadoop2.7/bin/spark-submit.cmd\n",
            "spark-2.4.7-bin-hadoop2.7/bin/spark-submit2.cmd\n",
            "spark-2.4.7-bin-hadoop2.7/bin/spark-class2.cmd\n",
            "spark-2.4.7-bin-hadoop2.7/bin/pyspark.cmd\n",
            "spark-2.4.7-bin-hadoop2.7/bin/spark-class.cmd\n",
            "spark-2.4.7-bin-hadoop2.7/sbin/\n",
            "spark-2.4.7-bin-hadoop2.7/sbin/stop-shuffle-service.sh\n",
            "spark-2.4.7-bin-hadoop2.7/sbin/start-master.sh\n",
            "spark-2.4.7-bin-hadoop2.7/sbin/start-mesos-dispatcher.sh\n",
            "spark-2.4.7-bin-hadoop2.7/sbin/stop-slave.sh\n",
            "spark-2.4.7-bin-hadoop2.7/sbin/stop-thriftserver.sh\n",
            "spark-2.4.7-bin-hadoop2.7/sbin/stop-history-server.sh\n",
            "spark-2.4.7-bin-hadoop2.7/sbin/start-thriftserver.sh\n",
            "spark-2.4.7-bin-hadoop2.7/sbin/stop-master.sh\n",
            "spark-2.4.7-bin-hadoop2.7/sbin/start-history-server.sh\n",
            "spark-2.4.7-bin-hadoop2.7/sbin/stop-mesos-shuffle-service.sh\n",
            "spark-2.4.7-bin-hadoop2.7/sbin/stop-mesos-dispatcher.sh\n",
            "spark-2.4.7-bin-hadoop2.7/sbin/stop-all.sh\n",
            "spark-2.4.7-bin-hadoop2.7/sbin/start-mesos-shuffle-service.sh\n",
            "spark-2.4.7-bin-hadoop2.7/sbin/start-slaves.sh\n",
            "spark-2.4.7-bin-hadoop2.7/sbin/spark-config.sh\n",
            "spark-2.4.7-bin-hadoop2.7/sbin/start-shuffle-service.sh\n",
            "spark-2.4.7-bin-hadoop2.7/sbin/start-slave.sh\n",
            "spark-2.4.7-bin-hadoop2.7/sbin/spark-daemons.sh\n",
            "spark-2.4.7-bin-hadoop2.7/sbin/start-all.sh\n",
            "spark-2.4.7-bin-hadoop2.7/sbin/spark-daemon.sh\n",
            "spark-2.4.7-bin-hadoop2.7/sbin/slaves.sh\n",
            "spark-2.4.7-bin-hadoop2.7/sbin/stop-slaves.sh\n",
            "spark-2.4.7-bin-hadoop2.7/LICENSE\n",
            "spark-2.4.7-bin-hadoop2.7/python/\n",
            "spark-2.4.7-bin-hadoop2.7/python/setup.py\n",
            "spark-2.4.7-bin-hadoop2.7/python/pylintrc\n",
            "spark-2.4.7-bin-hadoop2.7/python/README.md\n",
            "spark-2.4.7-bin-hadoop2.7/python/run-tests.py\n",
            "spark-2.4.7-bin-hadoop2.7/python/.coveragerc\n",
            "spark-2.4.7-bin-hadoop2.7/python/run-tests-with-coverage\n",
            "spark-2.4.7-bin-hadoop2.7/python/.gitignore\n",
            "spark-2.4.7-bin-hadoop2.7/python/test_support/\n",
            "spark-2.4.7-bin-hadoop2.7/python/test_support/userlibrary.py\n",
            "spark-2.4.7-bin-hadoop2.7/python/test_support/sql/\n",
            "spark-2.4.7-bin-hadoop2.7/python/test_support/sql/parquet_partitioned/\n",
            "spark-2.4.7-bin-hadoop2.7/python/test_support/sql/parquet_partitioned/_SUCCESS\n",
            "spark-2.4.7-bin-hadoop2.7/python/test_support/sql/parquet_partitioned/year=2014/\n",
            "spark-2.4.7-bin-hadoop2.7/python/test_support/sql/parquet_partitioned/year=2014/month=9/\n",
            "spark-2.4.7-bin-hadoop2.7/python/test_support/sql/parquet_partitioned/year=2014/month=9/day=1/\n",
            "spark-2.4.7-bin-hadoop2.7/python/test_support/sql/parquet_partitioned/year=2014/month=9/day=1/.part-r-00008.gz.parquet.crc\n",
            "spark-2.4.7-bin-hadoop2.7/python/test_support/sql/parquet_partitioned/year=2014/month=9/day=1/part-r-00008.gz.parquet\n",
            "spark-2.4.7-bin-hadoop2.7/python/test_support/sql/parquet_partitioned/year=2015/\n",
            "spark-2.4.7-bin-hadoop2.7/python/test_support/sql/parquet_partitioned/year=2015/month=10/\n",
            "spark-2.4.7-bin-hadoop2.7/python/test_support/sql/parquet_partitioned/year=2015/month=10/day=26/\n",
            "spark-2.4.7-bin-hadoop2.7/python/test_support/sql/parquet_partitioned/year=2015/month=10/day=26/part-r-00005.gz.parquet\n",
            "spark-2.4.7-bin-hadoop2.7/python/test_support/sql/parquet_partitioned/year=2015/month=10/day=26/.part-r-00005.gz.parquet.crc\n",
            "spark-2.4.7-bin-hadoop2.7/python/test_support/sql/parquet_partitioned/year=2015/month=10/day=25/\n",
            "spark-2.4.7-bin-hadoop2.7/python/test_support/sql/parquet_partitioned/year=2015/month=10/day=25/part-r-00002.gz.parquet\n",
            "spark-2.4.7-bin-hadoop2.7/python/test_support/sql/parquet_partitioned/year=2015/month=10/day=25/.part-r-00002.gz.parquet.crc\n",
            "spark-2.4.7-bin-hadoop2.7/python/test_support/sql/parquet_partitioned/year=2015/month=10/day=25/.part-r-00004.gz.parquet.crc\n",
            "spark-2.4.7-bin-hadoop2.7/python/test_support/sql/parquet_partitioned/year=2015/month=10/day=25/part-r-00004.gz.parquet\n",
            "spark-2.4.7-bin-hadoop2.7/python/test_support/sql/parquet_partitioned/year=2015/month=9/\n",
            "spark-2.4.7-bin-hadoop2.7/python/test_support/sql/parquet_partitioned/year=2015/month=9/day=1/\n",
            "spark-2.4.7-bin-hadoop2.7/python/test_support/sql/parquet_partitioned/year=2015/month=9/day=1/.part-r-00007.gz.parquet.crc\n",
            "spark-2.4.7-bin-hadoop2.7/python/test_support/sql/parquet_partitioned/year=2015/month=9/day=1/part-r-00007.gz.parquet\n",
            "spark-2.4.7-bin-hadoop2.7/python/test_support/sql/parquet_partitioned/_metadata\n",
            "spark-2.4.7-bin-hadoop2.7/python/test_support/sql/parquet_partitioned/_common_metadata\n",
            "spark-2.4.7-bin-hadoop2.7/python/test_support/sql/people_array.json\n",
            "spark-2.4.7-bin-hadoop2.7/python/test_support/sql/ages.csv\n",
            "spark-2.4.7-bin-hadoop2.7/python/test_support/sql/ages_newlines.csv\n",
            "spark-2.4.7-bin-hadoop2.7/python/test_support/sql/people_array_utf16le.json\n",
            "spark-2.4.7-bin-hadoop2.7/python/test_support/sql/people1.json\n",
            "spark-2.4.7-bin-hadoop2.7/python/test_support/sql/people.json\n",
            "spark-2.4.7-bin-hadoop2.7/python/test_support/sql/orc_partitioned/\n",
            "spark-2.4.7-bin-hadoop2.7/python/test_support/sql/orc_partitioned/_SUCCESS\n",
            "spark-2.4.7-bin-hadoop2.7/python/test_support/sql/orc_partitioned/b=0/\n",
            "spark-2.4.7-bin-hadoop2.7/python/test_support/sql/orc_partitioned/b=0/c=0/\n",
            "spark-2.4.7-bin-hadoop2.7/python/test_support/sql/orc_partitioned/b=0/c=0/part-r-00000-829af031-b970-49d6-ad39-30460a0be2c8.orc\n",
            "spark-2.4.7-bin-hadoop2.7/python/test_support/sql/orc_partitioned/b=0/c=0/.part-r-00000-829af031-b970-49d6-ad39-30460a0be2c8.orc.crc\n",
            "spark-2.4.7-bin-hadoop2.7/python/test_support/sql/orc_partitioned/b=1/\n",
            "spark-2.4.7-bin-hadoop2.7/python/test_support/sql/orc_partitioned/b=1/c=1/\n",
            "spark-2.4.7-bin-hadoop2.7/python/test_support/sql/orc_partitioned/b=1/c=1/part-r-00000-829af031-b970-49d6-ad39-30460a0be2c8.orc\n",
            "spark-2.4.7-bin-hadoop2.7/python/test_support/sql/orc_partitioned/b=1/c=1/.part-r-00000-829af031-b970-49d6-ad39-30460a0be2c8.orc.crc\n",
            "spark-2.4.7-bin-hadoop2.7/python/test_support/sql/streaming/\n",
            "spark-2.4.7-bin-hadoop2.7/python/test_support/sql/streaming/text-test.txt\n",
            "spark-2.4.7-bin-hadoop2.7/python/test_support/sql/text-test.txt\n",
            "spark-2.4.7-bin-hadoop2.7/python/test_support/userlib-0.1.zip\n",
            "spark-2.4.7-bin-hadoop2.7/python/test_support/SimpleHTTPServer.py\n",
            "spark-2.4.7-bin-hadoop2.7/python/test_support/hello/\n",
            "spark-2.4.7-bin-hadoop2.7/python/test_support/hello/sub_hello/\n",
            "spark-2.4.7-bin-hadoop2.7/python/test_support/hello/sub_hello/sub_hello.txt\n",
            "spark-2.4.7-bin-hadoop2.7/python/test_support/hello/hello.txt\n",
            "spark-2.4.7-bin-hadoop2.7/python/MANIFEST.in\n",
            "spark-2.4.7-bin-hadoop2.7/python/lib/\n",
            "spark-2.4.7-bin-hadoop2.7/python/lib/PY4J_LICENSE.txt\n",
            "spark-2.4.7-bin-hadoop2.7/python/lib/pyspark.zip\n",
            "spark-2.4.7-bin-hadoop2.7/python/lib/py4j-0.10.7-src.zip\n",
            "spark-2.4.7-bin-hadoop2.7/python/pyspark/\n",
            "spark-2.4.7-bin-hadoop2.7/python/pyspark/find_spark_home.py\n",
            "spark-2.4.7-bin-hadoop2.7/python/pyspark/serializers.py\n",
            "spark-2.4.7-bin-hadoop2.7/python/pyspark/__init__.py\n",
            "spark-2.4.7-bin-hadoop2.7/python/pyspark/util.py\n",
            "spark-2.4.7-bin-hadoop2.7/python/pyspark/_globals.py\n",
            "spark-2.4.7-bin-hadoop2.7/python/pyspark/heapq3.py\n",
            "spark-2.4.7-bin-hadoop2.7/python/pyspark/cloudpickle.py\n",
            "spark-2.4.7-bin-hadoop2.7/python/pyspark/version.py\n",
            "spark-2.4.7-bin-hadoop2.7/python/pyspark/shell.py\n",
            "spark-2.4.7-bin-hadoop2.7/python/pyspark/traceback_utils.py\n",
            "spark-2.4.7-bin-hadoop2.7/python/pyspark/taskcontext.py\n",
            "spark-2.4.7-bin-hadoop2.7/python/pyspark/worker.py\n",
            "spark-2.4.7-bin-hadoop2.7/python/pyspark/daemon.py\n",
            "spark-2.4.7-bin-hadoop2.7/python/pyspark/statcounter.py\n",
            "spark-2.4.7-bin-hadoop2.7/python/pyspark/java_gateway.py\n",
            "spark-2.4.7-bin-hadoop2.7/python/pyspark/context.py\n",
            "spark-2.4.7-bin-hadoop2.7/python/pyspark/sql/\n",
            "spark-2.4.7-bin-hadoop2.7/python/pyspark/sql/readwriter.py\n",
            "spark-2.4.7-bin-hadoop2.7/python/pyspark/sql/streaming.py\n",
            "spark-2.4.7-bin-hadoop2.7/python/pyspark/sql/__init__.py\n",
            "spark-2.4.7-bin-hadoop2.7/python/pyspark/sql/utils.py\n",
            "spark-2.4.7-bin-hadoop2.7/python/pyspark/sql/udf.py\n",
            "spark-2.4.7-bin-hadoop2.7/python/pyspark/sql/session.py\n",
            "spark-2.4.7-bin-hadoop2.7/python/pyspark/sql/dataframe.py\n",
            "spark-2.4.7-bin-hadoop2.7/python/pyspark/sql/column.py\n",
            "spark-2.4.7-bin-hadoop2.7/python/pyspark/sql/context.py\n",
            "spark-2.4.7-bin-hadoop2.7/python/pyspark/sql/functions.py\n",
            "spark-2.4.7-bin-hadoop2.7/python/pyspark/sql/types.py\n",
            "spark-2.4.7-bin-hadoop2.7/python/pyspark/sql/catalog.py\n",
            "spark-2.4.7-bin-hadoop2.7/python/pyspark/sql/tests.py\n",
            "spark-2.4.7-bin-hadoop2.7/python/pyspark/sql/conf.py\n",
            "spark-2.4.7-bin-hadoop2.7/python/pyspark/sql/window.py\n",
            "spark-2.4.7-bin-hadoop2.7/python/pyspark/sql/group.py\n",
            "spark-2.4.7-bin-hadoop2.7/python/pyspark/shuffle.py\n",
            "spark-2.4.7-bin-hadoop2.7/python/pyspark/test_serializers.py\n",
            "spark-2.4.7-bin-hadoop2.7/python/pyspark/rddsampler.py\n",
            "spark-2.4.7-bin-hadoop2.7/python/pyspark/files.py\n",
            "spark-2.4.7-bin-hadoop2.7/python/pyspark/join.py\n",
            "spark-2.4.7-bin-hadoop2.7/python/pyspark/profiler.py\n",
            "spark-2.4.7-bin-hadoop2.7/python/pyspark/streaming/\n",
            "spark-2.4.7-bin-hadoop2.7/python/pyspark/streaming/__init__.py\n",
            "spark-2.4.7-bin-hadoop2.7/python/pyspark/streaming/util.py\n",
            "spark-2.4.7-bin-hadoop2.7/python/pyspark/streaming/flume.py\n",
            "spark-2.4.7-bin-hadoop2.7/python/pyspark/streaming/context.py\n",
            "spark-2.4.7-bin-hadoop2.7/python/pyspark/streaming/listener.py\n",
            "spark-2.4.7-bin-hadoop2.7/python/pyspark/streaming/kafka.py\n",
            "spark-2.4.7-bin-hadoop2.7/python/pyspark/streaming/kinesis.py\n",
            "spark-2.4.7-bin-hadoop2.7/python/pyspark/streaming/dstream.py\n",
            "spark-2.4.7-bin-hadoop2.7/python/pyspark/streaming/tests.py\n",
            "spark-2.4.7-bin-hadoop2.7/python/pyspark/ml/\n",
            "spark-2.4.7-bin-hadoop2.7/python/pyspark/ml/recommendation.py\n",
            "spark-2.4.7-bin-hadoop2.7/python/pyspark/ml/linalg/\n",
            "spark-2.4.7-bin-hadoop2.7/python/pyspark/ml/linalg/__init__.py\n",
            "spark-2.4.7-bin-hadoop2.7/python/pyspark/ml/clustering.py\n",
            "spark-2.4.7-bin-hadoop2.7/python/pyspark/ml/__init__.py\n",
            "spark-2.4.7-bin-hadoop2.7/python/pyspark/ml/tuning.py\n",
            "spark-2.4.7-bin-hadoop2.7/python/pyspark/ml/util.py\n",
            "spark-2.4.7-bin-hadoop2.7/python/pyspark/ml/classification.py\n",
            "spark-2.4.7-bin-hadoop2.7/python/pyspark/ml/wrapper.py\n",
            "spark-2.4.7-bin-hadoop2.7/python/pyspark/ml/param/\n",
            "spark-2.4.7-bin-hadoop2.7/python/pyspark/ml/param/__init__.py\n",
            "spark-2.4.7-bin-hadoop2.7/python/pyspark/ml/param/_shared_params_code_gen.py\n",
            "spark-2.4.7-bin-hadoop2.7/python/pyspark/ml/param/shared.py\n",
            "spark-2.4.7-bin-hadoop2.7/python/pyspark/ml/feature.py\n",
            "spark-2.4.7-bin-hadoop2.7/python/pyspark/ml/regression.py\n",
            "spark-2.4.7-bin-hadoop2.7/python/pyspark/ml/stat.py\n",
            "spark-2.4.7-bin-hadoop2.7/python/pyspark/ml/common.py\n",
            "spark-2.4.7-bin-hadoop2.7/python/pyspark/ml/evaluation.py\n",
            "spark-2.4.7-bin-hadoop2.7/python/pyspark/ml/tests.py\n",
            "spark-2.4.7-bin-hadoop2.7/python/pyspark/ml/image.py\n",
            "spark-2.4.7-bin-hadoop2.7/python/pyspark/ml/pipeline.py\n",
            "spark-2.4.7-bin-hadoop2.7/python/pyspark/ml/fpm.py\n",
            "spark-2.4.7-bin-hadoop2.7/python/pyspark/ml/base.py\n",
            "spark-2.4.7-bin-hadoop2.7/python/pyspark/resultiterable.py\n",
            "spark-2.4.7-bin-hadoop2.7/python/pyspark/tests.py\n",
            "spark-2.4.7-bin-hadoop2.7/python/pyspark/conf.py\n",
            "spark-2.4.7-bin-hadoop2.7/python/pyspark/broadcast.py\n",
            "spark-2.4.7-bin-hadoop2.7/python/pyspark/accumulators.py\n",
            "spark-2.4.7-bin-hadoop2.7/python/pyspark/python/\n",
            "spark-2.4.7-bin-hadoop2.7/python/pyspark/python/pyspark/\n",
            "spark-2.4.7-bin-hadoop2.7/python/pyspark/python/pyspark/shell.py\n",
            "spark-2.4.7-bin-hadoop2.7/python/pyspark/status.py\n",
            "spark-2.4.7-bin-hadoop2.7/python/pyspark/test_broadcast.py\n",
            "spark-2.4.7-bin-hadoop2.7/python/pyspark/mllib/\n",
            "spark-2.4.7-bin-hadoop2.7/python/pyspark/mllib/recommendation.py\n",
            "spark-2.4.7-bin-hadoop2.7/python/pyspark/mllib/linalg/\n",
            "spark-2.4.7-bin-hadoop2.7/python/pyspark/mllib/linalg/distributed.py\n",
            "spark-2.4.7-bin-hadoop2.7/python/pyspark/mllib/linalg/__init__.py\n",
            "spark-2.4.7-bin-hadoop2.7/python/pyspark/mllib/clustering.py\n",
            "spark-2.4.7-bin-hadoop2.7/python/pyspark/mllib/random.py\n",
            "spark-2.4.7-bin-hadoop2.7/python/pyspark/mllib/__init__.py\n",
            "spark-2.4.7-bin-hadoop2.7/python/pyspark/mllib/util.py\n",
            "spark-2.4.7-bin-hadoop2.7/python/pyspark/mllib/classification.py\n",
            "spark-2.4.7-bin-hadoop2.7/python/pyspark/mllib/stat/\n",
            "spark-2.4.7-bin-hadoop2.7/python/pyspark/mllib/stat/_statistics.py\n",
            "spark-2.4.7-bin-hadoop2.7/python/pyspark/mllib/stat/__init__.py\n",
            "spark-2.4.7-bin-hadoop2.7/python/pyspark/mllib/stat/KernelDensity.py\n",
            "spark-2.4.7-bin-hadoop2.7/python/pyspark/mllib/stat/distribution.py\n",
            "spark-2.4.7-bin-hadoop2.7/python/pyspark/mllib/stat/test.py\n",
            "spark-2.4.7-bin-hadoop2.7/python/pyspark/mllib/feature.py\n",
            "spark-2.4.7-bin-hadoop2.7/python/pyspark/mllib/regression.py\n",
            "spark-2.4.7-bin-hadoop2.7/python/pyspark/mllib/common.py\n",
            "spark-2.4.7-bin-hadoop2.7/python/pyspark/mllib/evaluation.py\n",
            "spark-2.4.7-bin-hadoop2.7/python/pyspark/mllib/tests.py\n",
            "spark-2.4.7-bin-hadoop2.7/python/pyspark/mllib/tree.py\n",
            "spark-2.4.7-bin-hadoop2.7/python/pyspark/mllib/fpm.py\n",
            "spark-2.4.7-bin-hadoop2.7/python/pyspark/rdd.py\n",
            "spark-2.4.7-bin-hadoop2.7/python/pyspark/storagelevel.py\n",
            "spark-2.4.7-bin-hadoop2.7/python/dist/\n",
            "spark-2.4.7-bin-hadoop2.7/python/setup.cfg\n",
            "spark-2.4.7-bin-hadoop2.7/python/pyspark.egg-info/\n",
            "spark-2.4.7-bin-hadoop2.7/python/pyspark.egg-info/top_level.txt\n",
            "spark-2.4.7-bin-hadoop2.7/python/pyspark.egg-info/SOURCES.txt\n",
            "spark-2.4.7-bin-hadoop2.7/python/pyspark.egg-info/PKG-INFO\n",
            "spark-2.4.7-bin-hadoop2.7/python/pyspark.egg-info/requires.txt\n",
            "spark-2.4.7-bin-hadoop2.7/python/pyspark.egg-info/dependency_links.txt\n",
            "spark-2.4.7-bin-hadoop2.7/python/docs/\n",
            "spark-2.4.7-bin-hadoop2.7/python/docs/pyspark.ml.rst\n",
            "spark-2.4.7-bin-hadoop2.7/python/docs/epytext.py\n",
            "spark-2.4.7-bin-hadoop2.7/python/docs/Makefile\n",
            "spark-2.4.7-bin-hadoop2.7/python/docs/pyspark.sql.rst\n",
            "spark-2.4.7-bin-hadoop2.7/python/docs/pyspark.streaming.rst\n",
            "spark-2.4.7-bin-hadoop2.7/python/docs/pyspark.mllib.rst\n",
            "spark-2.4.7-bin-hadoop2.7/python/docs/make.bat\n",
            "spark-2.4.7-bin-hadoop2.7/python/docs/conf.py\n",
            "spark-2.4.7-bin-hadoop2.7/python/docs/_templates/\n",
            "spark-2.4.7-bin-hadoop2.7/python/docs/_templates/layout.html\n",
            "spark-2.4.7-bin-hadoop2.7/python/docs/_static/\n",
            "spark-2.4.7-bin-hadoop2.7/python/docs/_static/pyspark.js\n",
            "spark-2.4.7-bin-hadoop2.7/python/docs/_static/pyspark.css\n",
            "spark-2.4.7-bin-hadoop2.7/python/docs/make2.bat\n",
            "spark-2.4.7-bin-hadoop2.7/python/docs/index.rst\n",
            "spark-2.4.7-bin-hadoop2.7/python/docs/pyspark.rst\n",
            "spark-2.4.7-bin-hadoop2.7/python/run-tests\n",
            "spark-2.4.7-bin-hadoop2.7/python/test_coverage/\n",
            "spark-2.4.7-bin-hadoop2.7/python/test_coverage/conf/\n",
            "spark-2.4.7-bin-hadoop2.7/python/test_coverage/conf/spark-defaults.conf\n",
            "spark-2.4.7-bin-hadoop2.7/python/test_coverage/coverage_daemon.py\n",
            "spark-2.4.7-bin-hadoop2.7/python/test_coverage/sitecustomize.py\n",
            "spark-2.4.7-bin-hadoop2.7/examples/\n",
            "spark-2.4.7-bin-hadoop2.7/examples/src/\n",
            "spark-2.4.7-bin-hadoop2.7/examples/src/main/\n",
            "spark-2.4.7-bin-hadoop2.7/examples/src/main/r/\n",
            "spark-2.4.7-bin-hadoop2.7/examples/src/main/r/dataframe.R\n",
            "spark-2.4.7-bin-hadoop2.7/examples/src/main/r/data-manipulation.R\n",
            "spark-2.4.7-bin-hadoop2.7/examples/src/main/r/RSparkSQLExample.R\n",
            "spark-2.4.7-bin-hadoop2.7/examples/src/main/r/streaming/\n",
            "spark-2.4.7-bin-hadoop2.7/examples/src/main/r/streaming/structured_network_wordcount.R\n",
            "spark-2.4.7-bin-hadoop2.7/examples/src/main/r/ml/\n",
            "spark-2.4.7-bin-hadoop2.7/examples/src/main/r/ml/fpm.R\n",
            "spark-2.4.7-bin-hadoop2.7/examples/src/main/r/ml/glm.R\n",
            "spark-2.4.7-bin-hadoop2.7/examples/src/main/r/ml/mlp.R\n",
            "spark-2.4.7-bin-hadoop2.7/examples/src/main/r/ml/naiveBayes.R\n",
            "spark-2.4.7-bin-hadoop2.7/examples/src/main/r/ml/logit.R\n",
            "spark-2.4.7-bin-hadoop2.7/examples/src/main/r/ml/decisionTree.R\n",
            "spark-2.4.7-bin-hadoop2.7/examples/src/main/r/ml/svmLinear.R\n",
            "spark-2.4.7-bin-hadoop2.7/examples/src/main/r/ml/isoreg.R\n",
            "spark-2.4.7-bin-hadoop2.7/examples/src/main/r/ml/gaussianMixture.R\n",
            "spark-2.4.7-bin-hadoop2.7/examples/src/main/r/ml/randomForest.R\n",
            "spark-2.4.7-bin-hadoop2.7/examples/src/main/r/ml/gbt.R\n",
            "spark-2.4.7-bin-hadoop2.7/examples/src/main/r/ml/als.R\n",
            "spark-2.4.7-bin-hadoop2.7/examples/src/main/r/ml/lda.R\n",
            "spark-2.4.7-bin-hadoop2.7/examples/src/main/r/ml/ml.R\n",
            "spark-2.4.7-bin-hadoop2.7/examples/src/main/r/ml/survreg.R\n",
            "spark-2.4.7-bin-hadoop2.7/examples/src/main/r/ml/bisectingKmeans.R\n",
            "spark-2.4.7-bin-hadoop2.7/examples/src/main/r/ml/kmeans.R\n",
            "spark-2.4.7-bin-hadoop2.7/examples/src/main/r/ml/kstest.R\n",
            "spark-2.4.7-bin-hadoop2.7/examples/src/main/resources/\n",
            "spark-2.4.7-bin-hadoop2.7/examples/src/main/resources/users.avro\n",
            "spark-2.4.7-bin-hadoop2.7/examples/src/main/resources/people.txt\n",
            "spark-2.4.7-bin-hadoop2.7/examples/src/main/resources/people.csv\n",
            "spark-2.4.7-bin-hadoop2.7/examples/src/main/resources/users.parquet\n",
            "spark-2.4.7-bin-hadoop2.7/examples/src/main/resources/kv1.txt\n",
            "spark-2.4.7-bin-hadoop2.7/examples/src/main/resources/people.json\n",
            "spark-2.4.7-bin-hadoop2.7/examples/src/main/resources/employees.json\n",
            "spark-2.4.7-bin-hadoop2.7/examples/src/main/resources/user.avsc\n",
            "spark-2.4.7-bin-hadoop2.7/examples/src/main/resources/full_user.avsc\n",
            "spark-2.4.7-bin-hadoop2.7/examples/src/main/resources/users.orc\n",
            "spark-2.4.7-bin-hadoop2.7/examples/src/main/scala/\n",
            "spark-2.4.7-bin-hadoop2.7/examples/src/main/scala/org/\n",
            "spark-2.4.7-bin-hadoop2.7/examples/src/main/scala/org/apache/\n",
            "spark-2.4.7-bin-hadoop2.7/examples/src/main/scala/org/apache/spark/\n",
            "spark-2.4.7-bin-hadoop2.7/examples/src/main/scala/org/apache/spark/examples/\n",
            "spark-2.4.7-bin-hadoop2.7/examples/src/main/scala/org/apache/spark/examples/ExceptionHandlingTest.scala\n",
            "spark-2.4.7-bin-hadoop2.7/examples/src/main/scala/org/apache/spark/examples/GroupByTest.scala\n",
            "spark-2.4.7-bin-hadoop2.7/examples/src/main/scala/org/apache/spark/examples/LogQuery.scala\n",
            "spark-2.4.7-bin-hadoop2.7/examples/src/main/scala/org/apache/spark/examples/DriverSubmissionTest.scala\n",
            "spark-2.4.7-bin-hadoop2.7/examples/src/main/scala/org/apache/spark/examples/SparkPi.scala\n",
            "spark-2.4.7-bin-hadoop2.7/examples/src/main/scala/org/apache/spark/examples/SparkALS.scala\n",
            "spark-2.4.7-bin-hadoop2.7/examples/src/main/scala/org/apache/spark/examples/SparkRemoteFileTest.scala\n",
            "spark-2.4.7-bin-hadoop2.7/examples/src/main/scala/org/apache/spark/examples/SparkLR.scala\n",
            "spark-2.4.7-bin-hadoop2.7/examples/src/main/scala/org/apache/spark/examples/SparkKMeans.scala\n",
            "spark-2.4.7-bin-hadoop2.7/examples/src/main/scala/org/apache/spark/examples/SparkPageRank.scala\n",
            "spark-2.4.7-bin-hadoop2.7/examples/src/main/scala/org/apache/spark/examples/LocalPi.scala\n",
            "spark-2.4.7-bin-hadoop2.7/examples/src/main/scala/org/apache/spark/examples/BroadcastTest.scala\n",
            "spark-2.4.7-bin-hadoop2.7/examples/src/main/scala/org/apache/spark/examples/SimpleSkewedGroupByTest.scala\n",
            "spark-2.4.7-bin-hadoop2.7/examples/src/main/scala/org/apache/spark/examples/pythonconverters/\n",
            "spark-2.4.7-bin-hadoop2.7/examples/src/main/scala/org/apache/spark/examples/pythonconverters/AvroConverters.scala\n",
            "spark-2.4.7-bin-hadoop2.7/examples/src/main/scala/org/apache/spark/examples/LocalKMeans.scala\n",
            "spark-2.4.7-bin-hadoop2.7/examples/src/main/scala/org/apache/spark/examples/sql/\n",
            "spark-2.4.7-bin-hadoop2.7/examples/src/main/scala/org/apache/spark/examples/sql/UserDefinedTypedAggregation.scala\n",
            "spark-2.4.7-bin-hadoop2.7/examples/src/main/scala/org/apache/spark/examples/sql/SparkSQLExample.scala\n",
            "spark-2.4.7-bin-hadoop2.7/examples/src/main/scala/org/apache/spark/examples/sql/SQLDataSourceExample.scala\n",
            "spark-2.4.7-bin-hadoop2.7/examples/src/main/scala/org/apache/spark/examples/sql/RDDRelation.scala\n",
            "spark-2.4.7-bin-hadoop2.7/examples/src/main/scala/org/apache/spark/examples/sql/UserDefinedUntypedAggregation.scala\n",
            "spark-2.4.7-bin-hadoop2.7/examples/src/main/scala/org/apache/spark/examples/sql/streaming/\n",
            "spark-2.4.7-bin-hadoop2.7/examples/src/main/scala/org/apache/spark/examples/sql/streaming/StructuredNetworkWordCount.scala\n",
            "spark-2.4.7-bin-hadoop2.7/examples/src/main/scala/org/apache/spark/examples/sql/streaming/StructuredKafkaWordCount.scala\n",
            "spark-2.4.7-bin-hadoop2.7/examples/src/main/scala/org/apache/spark/examples/sql/streaming/StructuredSessionization.scala\n",
            "spark-2.4.7-bin-hadoop2.7/examples/src/main/scala/org/apache/spark/examples/sql/streaming/StructuredNetworkWordCountWindowed.scala\n",
            "spark-2.4.7-bin-hadoop2.7/examples/src/main/scala/org/apache/spark/examples/sql/hive/\n",
            "spark-2.4.7-bin-hadoop2.7/examples/src/main/scala/org/apache/spark/examples/sql/hive/SparkHiveExample.scala\n",
            "spark-2.4.7-bin-hadoop2.7/examples/src/main/scala/org/apache/spark/examples/SparkHdfsLR.scala\n",
            "spark-2.4.7-bin-hadoop2.7/examples/src/main/scala/org/apache/spark/examples/SparkTC.scala\n",
            "spark-2.4.7-bin-hadoop2.7/examples/src/main/scala/org/apache/spark/examples/LocalLR.scala\n",
            "spark-2.4.7-bin-hadoop2.7/examples/src/main/scala/org/apache/spark/examples/LocalFileLR.scala\n",
            "spark-2.4.7-bin-hadoop2.7/examples/src/main/scala/org/apache/spark/examples/streaming/\n",
            "spark-2.4.7-bin-hadoop2.7/examples/src/main/scala/org/apache/spark/examples/streaming/clickstream/\n",
            "spark-2.4.7-bin-hadoop2.7/examples/src/main/scala/org/apache/spark/examples/streaming/clickstream/PageViewStream.scala\n",
            "spark-2.4.7-bin-hadoop2.7/examples/src/main/scala/org/apache/spark/examples/streaming/clickstream/PageViewGenerator.scala\n",
            "spark-2.4.7-bin-hadoop2.7/examples/src/main/scala/org/apache/spark/examples/streaming/QueueStream.scala\n",
            "spark-2.4.7-bin-hadoop2.7/examples/src/main/scala/org/apache/spark/examples/streaming/RecoverableNetworkWordCount.scala\n",
            "spark-2.4.7-bin-hadoop2.7/examples/src/main/scala/org/apache/spark/examples/streaming/DirectKafkaWordCount.scala\n",
            "spark-2.4.7-bin-hadoop2.7/examples/src/main/scala/org/apache/spark/examples/streaming/StreamingExamples.scala\n",
            "spark-2.4.7-bin-hadoop2.7/examples/src/main/scala/org/apache/spark/examples/streaming/CustomReceiver.scala\n",
            "spark-2.4.7-bin-hadoop2.7/examples/src/main/scala/org/apache/spark/examples/streaming/NetworkWordCount.scala\n",
            "spark-2.4.7-bin-hadoop2.7/examples/src/main/scala/org/apache/spark/examples/streaming/StatefulNetworkWordCount.scala\n",
            "spark-2.4.7-bin-hadoop2.7/examples/src/main/scala/org/apache/spark/examples/streaming/SqlNetworkWordCount.scala\n",
            "spark-2.4.7-bin-hadoop2.7/examples/src/main/scala/org/apache/spark/examples/streaming/HdfsWordCount.scala\n",
            "spark-2.4.7-bin-hadoop2.7/examples/src/main/scala/org/apache/spark/examples/streaming/RawNetworkGrep.scala\n",
            "spark-2.4.7-bin-hadoop2.7/examples/src/main/scala/org/apache/spark/examples/MultiBroadcastTest.scala\n",
            "spark-2.4.7-bin-hadoop2.7/examples/src/main/scala/org/apache/spark/examples/ml/\n",
            "spark-2.4.7-bin-hadoop2.7/examples/src/main/scala/org/apache/spark/examples/ml/StringIndexerExample.scala\n",
            "spark-2.4.7-bin-hadoop2.7/examples/src/main/scala/org/apache/spark/examples/ml/StopWordsRemoverExample.scala\n",
            "spark-2.4.7-bin-hadoop2.7/examples/src/main/scala/org/apache/spark/examples/ml/ModelSelectionViaTrainValidationSplitExample.scala\n",
            "spark-2.4.7-bin-hadoop2.7/examples/src/main/scala/org/apache/spark/examples/ml/StandardScalerExample.scala\n",
            "spark-2.4.7-bin-hadoop2.7/examples/src/main/scala/org/apache/spark/examples/ml/ImputerExample.scala\n",
            "spark-2.4.7-bin-hadoop2.7/examples/src/main/scala/org/apache/spark/examples/ml/CorrelationExample.scala\n",
            "spark-2.4.7-bin-hadoop2.7/examples/src/main/scala/org/apache/spark/examples/ml/ElementwiseProductExample.scala\n",
            "spark-2.4.7-bin-hadoop2.7/examples/src/main/scala/org/apache/spark/examples/ml/NormalizerExample.scala\n",
            "spark-2.4.7-bin-hadoop2.7/examples/src/main/scala/org/apache/spark/examples/ml/ChiSqSelectorExample.scala\n",
            "spark-2.4.7-bin-hadoop2.7/examples/src/main/scala/org/apache/spark/examples/ml/NaiveBayesExample.scala\n",
            "spark-2.4.7-bin-hadoop2.7/examples/src/main/scala/org/apache/spark/examples/ml/SQLTransformerExample.scala\n",
            "spark-2.4.7-bin-hadoop2.7/examples/src/main/scala/org/apache/spark/examples/ml/MinHashLSHExample.scala\n",
            "spark-2.4.7-bin-hadoop2.7/examples/src/main/scala/org/apache/spark/examples/ml/FPGrowthExample.scala\n",
            "spark-2.4.7-bin-hadoop2.7/examples/src/main/scala/org/apache/spark/examples/ml/LogisticRegressionSummaryExample.scala\n",
            "spark-2.4.7-bin-hadoop2.7/examples/src/main/scala/org/apache/spark/examples/ml/DataFrameExample.scala\n",
            "spark-2.4.7-bin-hadoop2.7/examples/src/main/scala/org/apache/spark/examples/ml/VectorSlicerExample.scala\n",
            "spark-2.4.7-bin-hadoop2.7/examples/src/main/scala/org/apache/spark/examples/ml/VectorAssemblerExample.scala\n",
            "spark-2.4.7-bin-hadoop2.7/examples/src/main/scala/org/apache/spark/examples/ml/VectorSizeHintExample.scala\n",
            "spark-2.4.7-bin-hadoop2.7/examples/src/main/scala/org/apache/spark/examples/ml/DecisionTreeClassificationExample.scala\n",
            "spark-2.4.7-bin-hadoop2.7/examples/src/main/scala/org/apache/spark/examples/ml/RFormulaExample.scala\n",
            "spark-2.4.7-bin-hadoop2.7/examples/src/main/scala/org/apache/spark/examples/ml/BinarizerExample.scala\n",
            "spark-2.4.7-bin-hadoop2.7/examples/src/main/scala/org/apache/spark/examples/ml/TfIdfExample.scala\n",
            "spark-2.4.7-bin-hadoop2.7/examples/src/main/scala/org/apache/spark/examples/ml/RandomForestRegressorExample.scala\n",
            "spark-2.4.7-bin-hadoop2.7/examples/src/main/scala/org/apache/spark/examples/ml/LinearSVCExample.scala\n",
            "spark-2.4.7-bin-hadoop2.7/examples/src/main/scala/org/apache/spark/examples/ml/DecisionTreeRegressionExample.scala\n",
            "spark-2.4.7-bin-hadoop2.7/examples/src/main/scala/org/apache/spark/examples/ml/MinMaxScalerExample.scala\n",
            "spark-2.4.7-bin-hadoop2.7/examples/src/main/scala/org/apache/spark/examples/ml/CountVectorizerExample.scala\n",
            "spark-2.4.7-bin-hadoop2.7/examples/src/main/scala/org/apache/spark/examples/ml/DecisionTreeExample.scala\n",
            "spark-2.4.7-bin-hadoop2.7/examples/src/main/scala/org/apache/spark/examples/ml/LinearRegressionWithElasticNetExample.scala\n",
            "spark-2.4.7-bin-hadoop2.7/examples/src/main/scala/org/apache/spark/examples/ml/FeatureHasherExample.scala\n",
            "spark-2.4.7-bin-hadoop2.7/examples/src/main/scala/org/apache/spark/examples/ml/ALSExample.scala\n",
            "spark-2.4.7-bin-hadoop2.7/examples/src/main/scala/org/apache/spark/examples/ml/GeneralizedLinearRegressionExample.scala\n",
            "spark-2.4.7-bin-hadoop2.7/examples/src/main/scala/org/apache/spark/examples/ml/LinearRegressionExample.scala\n",
            "spark-2.4.7-bin-hadoop2.7/examples/src/main/scala/org/apache/spark/examples/ml/VectorIndexerExample.scala\n",
            "spark-2.4.7-bin-hadoop2.7/examples/src/main/scala/org/apache/spark/examples/ml/BucketizerExample.scala\n",
            "spark-2.4.7-bin-hadoop2.7/examples/src/main/scala/org/apache/spark/examples/ml/AFTSurvivalRegressionExample.scala\n",
            "spark-2.4.7-bin-hadoop2.7/examples/src/main/scala/org/apache/spark/examples/ml/TokenizerExample.scala\n",
            "spark-2.4.7-bin-hadoop2.7/examples/src/main/scala/org/apache/spark/examples/ml/QuantileDiscretizerExample.scala\n",
            "spark-2.4.7-bin-hadoop2.7/examples/src/main/scala/org/apache/spark/examples/ml/GaussianMixtureExample.scala\n",
            "spark-2.4.7-bin-hadoop2.7/examples/src/main/scala/org/apache/spark/examples/ml/DeveloperApiExample.scala\n",
            "spark-2.4.7-bin-hadoop2.7/examples/src/main/scala/org/apache/spark/examples/ml/IsotonicRegressionExample.scala\n",
            "spark-2.4.7-bin-hadoop2.7/examples/src/main/scala/org/apache/spark/examples/ml/GBTExample.scala\n",
            "spark-2.4.7-bin-hadoop2.7/examples/src/main/scala/org/apache/spark/examples/ml/MaxAbsScalerExample.scala\n",
            "spark-2.4.7-bin-hadoop2.7/examples/src/main/scala/org/apache/spark/examples/ml/ChiSquareTestExample.scala\n",
            "spark-2.4.7-bin-hadoop2.7/examples/src/main/scala/org/apache/spark/examples/ml/BucketedRandomProjectionLSHExample.scala\n",
            "spark-2.4.7-bin-hadoop2.7/examples/src/main/scala/org/apache/spark/examples/ml/Word2VecExample.scala\n",
            "spark-2.4.7-bin-hadoop2.7/examples/src/main/scala/org/apache/spark/examples/ml/NGramExample.scala\n",
            "spark-2.4.7-bin-hadoop2.7/examples/src/main/scala/org/apache/spark/examples/ml/DCTExample.scala\n",
            "spark-2.4.7-bin-hadoop2.7/examples/src/main/scala/org/apache/spark/examples/ml/LDAExample.scala\n",
            "spark-2.4.7-bin-hadoop2.7/examples/src/main/scala/org/apache/spark/examples/ml/SummarizerExample.scala\n",
            "spark-2.4.7-bin-hadoop2.7/examples/src/main/scala/org/apache/spark/examples/ml/InteractionExample.scala\n",
            "spark-2.4.7-bin-hadoop2.7/examples/src/main/scala/org/apache/spark/examples/ml/RandomForestClassifierExample.scala\n",
            "spark-2.4.7-bin-hadoop2.7/examples/src/main/scala/org/apache/spark/examples/ml/RandomForestExample.scala\n",
            "spark-2.4.7-bin-hadoop2.7/examples/src/main/scala/org/apache/spark/examples/ml/ModelSelectionViaCrossValidationExample.scala\n",
            "spark-2.4.7-bin-hadoop2.7/examples/src/main/scala/org/apache/spark/examples/ml/KMeansExample.scala\n",
            "spark-2.4.7-bin-hadoop2.7/examples/src/main/scala/org/apache/spark/examples/ml/GradientBoostedTreeRegressorExample.scala\n",
            "spark-2.4.7-bin-hadoop2.7/examples/src/main/scala/org/apache/spark/examples/ml/UnaryTransformerExample.scala\n",
            "spark-2.4.7-bin-hadoop2.7/examples/src/main/scala/org/apache/spark/examples/ml/PolynomialExpansionExample.scala\n",
            "spark-2.4.7-bin-hadoop2.7/examples/src/main/scala/org/apache/spark/examples/ml/IndexToStringExample.scala\n",
            "spark-2.4.7-bin-hadoop2.7/examples/src/main/scala/org/apache/spark/examples/ml/LogisticRegressionWithElasticNetExample.scala\n",
            "spark-2.4.7-bin-hadoop2.7/examples/src/main/scala/org/apache/spark/examples/ml/BisectingKMeansExample.scala\n",
            "spark-2.4.7-bin-hadoop2.7/examples/src/main/scala/org/apache/spark/examples/ml/LogisticRegressionExample.scala\n",
            "spark-2.4.7-bin-hadoop2.7/examples/src/main/scala/org/apache/spark/examples/ml/MulticlassLogisticRegressionWithElasticNetExample.scala\n",
            "spark-2.4.7-bin-hadoop2.7/examples/src/main/scala/org/apache/spark/examples/ml/PipelineExample.scala\n",
            "spark-2.4.7-bin-hadoop2.7/examples/src/main/scala/org/apache/spark/examples/ml/PCAExample.scala\n",
            "spark-2.4.7-bin-hadoop2.7/examples/src/main/scala/org/apache/spark/examples/ml/OneVsRestExample.scala\n",
            "spark-2.4.7-bin-hadoop2.7/examples/src/main/scala/org/apache/spark/examples/ml/MultilayerPerceptronClassifierExample.scala\n",
            "spark-2.4.7-bin-hadoop2.7/examples/src/main/scala/org/apache/spark/examples/ml/EstimatorTransformerParamExample.scala\n",
            "spark-2.4.7-bin-hadoop2.7/examples/src/main/scala/org/apache/spark/examples/ml/OneHotEncoderEstimatorExample.scala\n",
            "spark-2.4.7-bin-hadoop2.7/examples/src/main/scala/org/apache/spark/examples/ml/GradientBoostedTreeClassifierExample.scala\n",
            "spark-2.4.7-bin-hadoop2.7/examples/src/main/scala/org/apache/spark/examples/ml/PrefixSpanExample.scala\n",
            "spark-2.4.7-bin-hadoop2.7/examples/src/main/scala/org/apache/spark/examples/ml/PowerIterationClusteringExample.scala\n",
            "spark-2.4.7-bin-hadoop2.7/examples/src/main/scala/org/apache/spark/examples/HdfsTest.scala\n",
            "spark-2.4.7-bin-hadoop2.7/examples/src/main/scala/org/apache/spark/examples/LocalALS.scala\n",
            "spark-2.4.7-bin-hadoop2.7/examples/src/main/scala/org/apache/spark/examples/mllib/\n",
            "spark-2.4.7-bin-hadoop2.7/examples/src/main/scala/org/apache/spark/examples/mllib/LinearRegressionWithSGDExample.scala\n",
            "spark-2.4.7-bin-hadoop2.7/examples/src/main/scala/org/apache/spark/examples/mllib/StandardScalerExample.scala\n",
            "spark-2.4.7-bin-hadoop2.7/examples/src/main/scala/org/apache/spark/examples/mllib/MultiLabelMetricsExample.scala\n",
            "spark-2.4.7-bin-hadoop2.7/examples/src/main/scala/org/apache/spark/examples/mllib/HypothesisTestingKolmogorovSmirnovTestExample.scala\n",
            "spark-2.4.7-bin-hadoop2.7/examples/src/main/scala/org/apache/spark/examples/mllib/StreamingLogisticRegression.scala\n",
            "spark-2.4.7-bin-hadoop2.7/examples/src/main/scala/org/apache/spark/examples/mllib/RandomForestRegressionExample.scala\n",
            "spark-2.4.7-bin-hadoop2.7/examples/src/main/scala/org/apache/spark/examples/mllib/RandomForestClassificationExample.scala\n",
            "spark-2.4.7-bin-hadoop2.7/examples/src/main/scala/org/apache/spark/examples/mllib/ElementwiseProductExample.scala\n",
            "spark-2.4.7-bin-hadoop2.7/examples/src/main/scala/org/apache/spark/examples/mllib/NormalizerExample.scala\n",
            "spark-2.4.7-bin-hadoop2.7/examples/src/main/scala/org/apache/spark/examples/mllib/ChiSqSelectorExample.scala\n",
            "spark-2.4.7-bin-hadoop2.7/examples/src/main/scala/org/apache/spark/examples/mllib/NaiveBayesExample.scala\n",
            "spark-2.4.7-bin-hadoop2.7/examples/src/main/scala/org/apache/spark/examples/mllib/RecommendationExample.scala\n",
            "spark-2.4.7-bin-hadoop2.7/examples/src/main/scala/org/apache/spark/examples/mllib/BinaryClassification.scala\n",
            "spark-2.4.7-bin-hadoop2.7/examples/src/main/scala/org/apache/spark/examples/mllib/StreamingTestExample.scala\n",
            "spark-2.4.7-bin-hadoop2.7/examples/src/main/scala/org/apache/spark/examples/mllib/FPGrowthExample.scala\n",
            "spark-2.4.7-bin-hadoop2.7/examples/src/main/scala/org/apache/spark/examples/mllib/GradientBoostingClassificationExample.scala\n",
            "spark-2.4.7-bin-hadoop2.7/examples/src/main/scala/org/apache/spark/examples/mllib/BinaryClassificationMetricsExample.scala\n",
            "spark-2.4.7-bin-hadoop2.7/examples/src/main/scala/org/apache/spark/examples/mllib/AssociationRulesExample.scala\n",
            "spark-2.4.7-bin-hadoop2.7/examples/src/main/scala/org/apache/spark/examples/mllib/DecisionTreeRunner.scala\n",
            "spark-2.4.7-bin-hadoop2.7/examples/src/main/scala/org/apache/spark/examples/mllib/DecisionTreeClassificationExample.scala\n",
            "spark-2.4.7-bin-hadoop2.7/examples/src/main/scala/org/apache/spark/examples/mllib/MulticlassMetricsExample.scala\n",
            "spark-2.4.7-bin-hadoop2.7/examples/src/main/scala/org/apache/spark/examples/mllib/RankingMetricsExample.scala\n",
            "spark-2.4.7-bin-hadoop2.7/examples/src/main/scala/org/apache/spark/examples/mllib/StreamingLinearRegressionExample.scala\n",
            "spark-2.4.7-bin-hadoop2.7/examples/src/main/scala/org/apache/spark/examples/mllib/MovieLensALS.scala\n",
            "spark-2.4.7-bin-hadoop2.7/examples/src/main/scala/org/apache/spark/examples/mllib/DecisionTreeRegressionExample.scala\n",
            "spark-2.4.7-bin-hadoop2.7/examples/src/main/scala/org/apache/spark/examples/mllib/TallSkinnySVD.scala\n",
            "spark-2.4.7-bin-hadoop2.7/examples/src/main/scala/org/apache/spark/examples/mllib/SummaryStatisticsExample.scala\n",
            "spark-2.4.7-bin-hadoop2.7/examples/src/main/scala/org/apache/spark/examples/mllib/CosineSimilarity.scala\n",
            "spark-2.4.7-bin-hadoop2.7/examples/src/main/scala/org/apache/spark/examples/mllib/CorrelationsExample.scala\n",
            "spark-2.4.7-bin-hadoop2.7/examples/src/main/scala/org/apache/spark/examples/mllib/LatentDirichletAllocationExample.scala\n",
            "spark-2.4.7-bin-hadoop2.7/examples/src/main/scala/org/apache/spark/examples/mllib/LBFGSExample.scala\n",
            "spark-2.4.7-bin-hadoop2.7/examples/src/main/scala/org/apache/spark/examples/mllib/PCAOnRowMatrixExample.scala\n",
            "spark-2.4.7-bin-hadoop2.7/examples/src/main/scala/org/apache/spark/examples/mllib/SVDExample.scala\n",
            "spark-2.4.7-bin-hadoop2.7/examples/src/main/scala/org/apache/spark/examples/mllib/TFIDFExample.scala\n",
            "spark-2.4.7-bin-hadoop2.7/examples/src/main/scala/org/apache/spark/examples/mllib/GaussianMixtureExample.scala\n",
            "spark-2.4.7-bin-hadoop2.7/examples/src/main/scala/org/apache/spark/examples/mllib/SampledRDDs.scala\n",
            "spark-2.4.7-bin-hadoop2.7/examples/src/main/scala/org/apache/spark/examples/mllib/DenseKMeans.scala\n",
            "spark-2.4.7-bin-hadoop2.7/examples/src/main/scala/org/apache/spark/examples/mllib/IsotonicRegressionExample.scala\n",
            "spark-2.4.7-bin-hadoop2.7/examples/src/main/scala/org/apache/spark/examples/mllib/SVMWithSGDExample.scala\n",
            "spark-2.4.7-bin-hadoop2.7/examples/src/main/scala/org/apache/spark/examples/mllib/GradientBoostingRegressionExample.scala\n",
            "spark-2.4.7-bin-hadoop2.7/examples/src/main/scala/org/apache/spark/examples/mllib/StratifiedSamplingExample.scala\n",
            "spark-2.4.7-bin-hadoop2.7/examples/src/main/scala/org/apache/spark/examples/mllib/StreamingKMeansExample.scala\n",
            "spark-2.4.7-bin-hadoop2.7/examples/src/main/scala/org/apache/spark/examples/mllib/SparseNaiveBayes.scala\n",
            "spark-2.4.7-bin-hadoop2.7/examples/src/main/scala/org/apache/spark/examples/mllib/Word2VecExample.scala\n",
            "spark-2.4.7-bin-hadoop2.7/examples/src/main/scala/org/apache/spark/examples/mllib/LDAExample.scala\n",
            "spark-2.4.7-bin-hadoop2.7/examples/src/main/scala/org/apache/spark/examples/mllib/PMMLModelExportExample.scala\n",
            "spark-2.4.7-bin-hadoop2.7/examples/src/main/scala/org/apache/spark/examples/mllib/Correlations.scala\n",
            "spark-2.4.7-bin-hadoop2.7/examples/src/main/scala/org/apache/spark/examples/mllib/MultivariateSummarizer.scala\n",
            "spark-2.4.7-bin-hadoop2.7/examples/src/main/scala/org/apache/spark/examples/mllib/KMeansExample.scala\n",
            "spark-2.4.7-bin-hadoop2.7/examples/src/main/scala/org/apache/spark/examples/mllib/LinearRegression.scala\n",
            "spark-2.4.7-bin-hadoop2.7/examples/src/main/scala/org/apache/spark/examples/mllib/KernelDensityEstimationExample.scala\n",
            "spark-2.4.7-bin-hadoop2.7/examples/src/main/scala/org/apache/spark/examples/mllib/PCAOnSourceVectorExample.scala\n",
            "spark-2.4.7-bin-hadoop2.7/examples/src/main/scala/org/apache/spark/examples/mllib/RandomRDDGeneration.scala\n",
            "spark-2.4.7-bin-hadoop2.7/examples/src/main/scala/org/apache/spark/examples/mllib/TallSkinnyPCA.scala\n",
            "spark-2.4.7-bin-hadoop2.7/examples/src/main/scala/org/apache/spark/examples/mllib/GradientBoostedTreesRunner.scala\n",
            "spark-2.4.7-bin-hadoop2.7/examples/src/main/scala/org/apache/spark/examples/mllib/LogisticRegressionWithLBFGSExample.scala\n",
            "spark-2.4.7-bin-hadoop2.7/examples/src/main/scala/org/apache/spark/examples/mllib/BisectingKMeansExample.scala\n",
            "spark-2.4.7-bin-hadoop2.7/examples/src/main/scala/org/apache/spark/examples/mllib/PCAExample.scala\n",
            "spark-2.4.7-bin-hadoop2.7/examples/src/main/scala/org/apache/spark/examples/mllib/RegressionMetricsExample.scala\n",
            "spark-2.4.7-bin-hadoop2.7/examples/src/main/scala/org/apache/spark/examples/mllib/AbstractParams.scala\n",
            "spark-2.4.7-bin-hadoop2.7/examples/src/main/scala/org/apache/spark/examples/mllib/PrefixSpanExample.scala\n",
            "spark-2.4.7-bin-hadoop2.7/examples/src/main/scala/org/apache/spark/examples/mllib/HypothesisTestingExample.scala\n",
            "spark-2.4.7-bin-hadoop2.7/examples/src/main/scala/org/apache/spark/examples/mllib/SimpleFPGrowth.scala\n",
            "spark-2.4.7-bin-hadoop2.7/examples/src/main/scala/org/apache/spark/examples/mllib/PowerIterationClusteringExample.scala\n",
            "spark-2.4.7-bin-hadoop2.7/examples/src/main/scala/org/apache/spark/examples/graphx/\n",
            "spark-2.4.7-bin-hadoop2.7/examples/src/main/scala/org/apache/spark/examples/graphx/AggregateMessagesExample.scala\n",
            "spark-2.4.7-bin-hadoop2.7/examples/src/main/scala/org/apache/spark/examples/graphx/SynthBenchmark.scala\n",
            "spark-2.4.7-bin-hadoop2.7/examples/src/main/scala/org/apache/spark/examples/graphx/TriangleCountingExample.scala\n",
            "spark-2.4.7-bin-hadoop2.7/examples/src/main/scala/org/apache/spark/examples/graphx/ComprehensiveExample.scala\n",
            "spark-2.4.7-bin-hadoop2.7/examples/src/main/scala/org/apache/spark/examples/graphx/Analytics.scala\n",
            "spark-2.4.7-bin-hadoop2.7/examples/src/main/scala/org/apache/spark/examples/graphx/SSSPExample.scala\n",
            "spark-2.4.7-bin-hadoop2.7/examples/src/main/scala/org/apache/spark/examples/graphx/ConnectedComponentsExample.scala\n",
            "spark-2.4.7-bin-hadoop2.7/examples/src/main/scala/org/apache/spark/examples/graphx/PageRankExample.scala\n",
            "spark-2.4.7-bin-hadoop2.7/examples/src/main/scala/org/apache/spark/examples/graphx/LiveJournalPageRank.scala\n",
            "spark-2.4.7-bin-hadoop2.7/examples/src/main/scala/org/apache/spark/examples/SkewedGroupByTest.scala\n",
            "spark-2.4.7-bin-hadoop2.7/examples/src/main/scala/org/apache/spark/examples/DFSReadWriteTest.scala\n",
            "spark-2.4.7-bin-hadoop2.7/examples/src/main/java/\n",
            "spark-2.4.7-bin-hadoop2.7/examples/src/main/java/org/\n",
            "spark-2.4.7-bin-hadoop2.7/examples/src/main/java/org/apache/\n",
            "spark-2.4.7-bin-hadoop2.7/examples/src/main/java/org/apache/spark/\n",
            "spark-2.4.7-bin-hadoop2.7/examples/src/main/java/org/apache/spark/examples/\n",
            "spark-2.4.7-bin-hadoop2.7/examples/src/main/java/org/apache/spark/examples/JavaTC.java\n",
            "spark-2.4.7-bin-hadoop2.7/examples/src/main/java/org/apache/spark/examples/JavaStatusTrackerDemo.java\n",
            "spark-2.4.7-bin-hadoop2.7/examples/src/main/java/org/apache/spark/examples/JavaWordCount.java\n",
            "spark-2.4.7-bin-hadoop2.7/examples/src/main/java/org/apache/spark/examples/JavaPageRank.java\n",
            "spark-2.4.7-bin-hadoop2.7/examples/src/main/java/org/apache/spark/examples/JavaHdfsLR.java\n",
            "spark-2.4.7-bin-hadoop2.7/examples/src/main/java/org/apache/spark/examples/sql/\n",
            "spark-2.4.7-bin-hadoop2.7/examples/src/main/java/org/apache/spark/examples/sql/JavaSparkSQLExample.java\n",
            "spark-2.4.7-bin-hadoop2.7/examples/src/main/java/org/apache/spark/examples/sql/JavaUserDefinedTypedAggregation.java\n",
            "spark-2.4.7-bin-hadoop2.7/examples/src/main/java/org/apache/spark/examples/sql/JavaSQLDataSourceExample.java\n",
            "spark-2.4.7-bin-hadoop2.7/examples/src/main/java/org/apache/spark/examples/sql/streaming/\n",
            "spark-2.4.7-bin-hadoop2.7/examples/src/main/java/org/apache/spark/examples/sql/streaming/JavaStructuredNetworkWordCount.java\n",
            "spark-2.4.7-bin-hadoop2.7/examples/src/main/java/org/apache/spark/examples/sql/streaming/JavaStructuredKafkaWordCount.java\n",
            "spark-2.4.7-bin-hadoop2.7/examples/src/main/java/org/apache/spark/examples/sql/streaming/JavaStructuredSessionization.java\n",
            "spark-2.4.7-bin-hadoop2.7/examples/src/main/java/org/apache/spark/examples/sql/streaming/JavaStructuredNetworkWordCountWindowed.java\n",
            "spark-2.4.7-bin-hadoop2.7/examples/src/main/java/org/apache/spark/examples/sql/JavaUserDefinedUntypedAggregation.java\n",
            "spark-2.4.7-bin-hadoop2.7/examples/src/main/java/org/apache/spark/examples/sql/hive/\n",
            "spark-2.4.7-bin-hadoop2.7/examples/src/main/java/org/apache/spark/examples/sql/hive/JavaSparkHiveExample.java\n",
            "spark-2.4.7-bin-hadoop2.7/examples/src/main/java/org/apache/spark/examples/streaming/\n",
            "spark-2.4.7-bin-hadoop2.7/examples/src/main/java/org/apache/spark/examples/streaming/JavaCustomReceiver.java\n",
            "spark-2.4.7-bin-hadoop2.7/examples/src/main/java/org/apache/spark/examples/streaming/JavaRecord.java\n",
            "spark-2.4.7-bin-hadoop2.7/examples/src/main/java/org/apache/spark/examples/streaming/JavaQueueStream.java\n",
            "spark-2.4.7-bin-hadoop2.7/examples/src/main/java/org/apache/spark/examples/streaming/JavaRecoverableNetworkWordCount.java\n",
            "spark-2.4.7-bin-hadoop2.7/examples/src/main/java/org/apache/spark/examples/streaming/JavaSqlNetworkWordCount.java\n",
            "spark-2.4.7-bin-hadoop2.7/examples/src/main/java/org/apache/spark/examples/streaming/JavaStatefulNetworkWordCount.java\n",
            "spark-2.4.7-bin-hadoop2.7/examples/src/main/java/org/apache/spark/examples/streaming/JavaDirectKafkaWordCount.java\n",
            "spark-2.4.7-bin-hadoop2.7/examples/src/main/java/org/apache/spark/examples/streaming/JavaNetworkWordCount.java\n",
            "spark-2.4.7-bin-hadoop2.7/examples/src/main/java/org/apache/spark/examples/ml/\n",
            "spark-2.4.7-bin-hadoop2.7/examples/src/main/java/org/apache/spark/examples/ml/JavaGradientBoostedTreeRegressorExample.java\n",
            "spark-2.4.7-bin-hadoop2.7/examples/src/main/java/org/apache/spark/examples/ml/JavaPowerIterationClusteringExample.java\n",
            "spark-2.4.7-bin-hadoop2.7/examples/src/main/java/org/apache/spark/examples/ml/JavaMaxAbsScalerExample.java\n",
            "spark-2.4.7-bin-hadoop2.7/examples/src/main/java/org/apache/spark/examples/ml/JavaGradientBoostedTreeClassifierExample.java\n",
            "spark-2.4.7-bin-hadoop2.7/examples/src/main/java/org/apache/spark/examples/ml/JavaSQLTransformerExample.java\n",
            "spark-2.4.7-bin-hadoop2.7/examples/src/main/java/org/apache/spark/examples/ml/JavaModelSelectionViaCrossValidationExample.java\n",
            "spark-2.4.7-bin-hadoop2.7/examples/src/main/java/org/apache/spark/examples/ml/JavaCorrelationExample.java\n",
            "spark-2.4.7-bin-hadoop2.7/examples/src/main/java/org/apache/spark/examples/ml/JavaDecisionTreeClassificationExample.java\n",
            "spark-2.4.7-bin-hadoop2.7/examples/src/main/java/org/apache/spark/examples/ml/JavaDocument.java\n",
            "spark-2.4.7-bin-hadoop2.7/examples/src/main/java/org/apache/spark/examples/ml/JavaChiSqSelectorExample.java\n",
            "spark-2.4.7-bin-hadoop2.7/examples/src/main/java/org/apache/spark/examples/ml/JavaLabeledDocument.java\n",
            "spark-2.4.7-bin-hadoop2.7/examples/src/main/java/org/apache/spark/examples/ml/JavaGaussianMixtureExample.java\n",
            "spark-2.4.7-bin-hadoop2.7/examples/src/main/java/org/apache/spark/examples/ml/JavaModelSelectionViaTrainValidationSplitExample.java\n",
            "spark-2.4.7-bin-hadoop2.7/examples/src/main/java/org/apache/spark/examples/ml/JavaDCTExample.java\n",
            "spark-2.4.7-bin-hadoop2.7/examples/src/main/java/org/apache/spark/examples/ml/JavaNaiveBayesExample.java\n",
            "spark-2.4.7-bin-hadoop2.7/examples/src/main/java/org/apache/spark/examples/ml/JavaRandomForestRegressorExample.java\n",
            "spark-2.4.7-bin-hadoop2.7/examples/src/main/java/org/apache/spark/examples/ml/JavaPolynomialExpansionExample.java\n",
            "spark-2.4.7-bin-hadoop2.7/examples/src/main/java/org/apache/spark/examples/ml/JavaLDAExample.java\n",
            "spark-2.4.7-bin-hadoop2.7/examples/src/main/java/org/apache/spark/examples/ml/JavaAFTSurvivalRegressionExample.java\n",
            "spark-2.4.7-bin-hadoop2.7/examples/src/main/java/org/apache/spark/examples/ml/JavaEstimatorTransformerParamExample.java\n",
            "spark-2.4.7-bin-hadoop2.7/examples/src/main/java/org/apache/spark/examples/ml/JavaMultilayerPerceptronClassifierExample.java\n",
            "spark-2.4.7-bin-hadoop2.7/examples/src/main/java/org/apache/spark/examples/ml/JavaRFormulaExample.java\n",
            "spark-2.4.7-bin-hadoop2.7/examples/src/main/java/org/apache/spark/examples/ml/JavaBucketedRandomProjectionLSHExample.java\n",
            "spark-2.4.7-bin-hadoop2.7/examples/src/main/java/org/apache/spark/examples/ml/JavaLogisticRegressionWithElasticNetExample.java\n",
            "spark-2.4.7-bin-hadoop2.7/examples/src/main/java/org/apache/spark/examples/ml/JavaVectorSlicerExample.java\n",
            "spark-2.4.7-bin-hadoop2.7/examples/src/main/java/org/apache/spark/examples/ml/JavaMinHashLSHExample.java\n",
            "spark-2.4.7-bin-hadoop2.7/examples/src/main/java/org/apache/spark/examples/ml/JavaBisectingKMeansExample.java\n",
            "spark-2.4.7-bin-hadoop2.7/examples/src/main/java/org/apache/spark/examples/ml/JavaStandardScalerExample.java\n",
            "spark-2.4.7-bin-hadoop2.7/examples/src/main/java/org/apache/spark/examples/ml/JavaIndexToStringExample.java\n",
            "spark-2.4.7-bin-hadoop2.7/examples/src/main/java/org/apache/spark/examples/ml/JavaPipelineExample.java\n",
            "spark-2.4.7-bin-hadoop2.7/examples/src/main/java/org/apache/spark/examples/ml/JavaNGramExample.java\n",
            "spark-2.4.7-bin-hadoop2.7/examples/src/main/java/org/apache/spark/examples/ml/JavaGeneralizedLinearRegressionExample.java\n",
            "spark-2.4.7-bin-hadoop2.7/examples/src/main/java/org/apache/spark/examples/ml/JavaIsotonicRegressionExample.java\n",
            "spark-2.4.7-bin-hadoop2.7/examples/src/main/java/org/apache/spark/examples/ml/JavaWord2VecExample.java\n",
            "spark-2.4.7-bin-hadoop2.7/examples/src/main/java/org/apache/spark/examples/ml/JavaFPGrowthExample.java\n",
            "spark-2.4.7-bin-hadoop2.7/examples/src/main/java/org/apache/spark/examples/ml/JavaMulticlassLogisticRegressionWithElasticNetExample.java\n",
            "spark-2.4.7-bin-hadoop2.7/examples/src/main/java/org/apache/spark/examples/ml/JavaVectorAssemblerExample.java\n",
            "spark-2.4.7-bin-hadoop2.7/examples/src/main/java/org/apache/spark/examples/ml/JavaLinearRegressionWithElasticNetExample.java\n",
            "spark-2.4.7-bin-hadoop2.7/examples/src/main/java/org/apache/spark/examples/ml/JavaElementwiseProductExample.java\n",
            "spark-2.4.7-bin-hadoop2.7/examples/src/main/java/org/apache/spark/examples/ml/JavaOneVsRestExample.java\n",
            "spark-2.4.7-bin-hadoop2.7/examples/src/main/java/org/apache/spark/examples/ml/JavaInteractionExample.java\n",
            "spark-2.4.7-bin-hadoop2.7/examples/src/main/java/org/apache/spark/examples/ml/JavaVectorSizeHintExample.java\n",
            "spark-2.4.7-bin-hadoop2.7/examples/src/main/java/org/apache/spark/examples/ml/JavaPrefixSpanExample.java\n",
            "spark-2.4.7-bin-hadoop2.7/examples/src/main/java/org/apache/spark/examples/ml/JavaNormalizerExample.java\n",
            "spark-2.4.7-bin-hadoop2.7/examples/src/main/java/org/apache/spark/examples/ml/JavaTokenizerExample.java\n",
            "spark-2.4.7-bin-hadoop2.7/examples/src/main/java/org/apache/spark/examples/ml/JavaLinearSVCExample.java\n",
            "spark-2.4.7-bin-hadoop2.7/examples/src/main/java/org/apache/spark/examples/ml/JavaVectorIndexerExample.java\n",
            "spark-2.4.7-bin-hadoop2.7/examples/src/main/java/org/apache/spark/examples/ml/JavaCountVectorizerExample.java\n",
            "spark-2.4.7-bin-hadoop2.7/examples/src/main/java/org/apache/spark/examples/ml/JavaStringIndexerExample.java\n",
            "spark-2.4.7-bin-hadoop2.7/examples/src/main/java/org/apache/spark/examples/ml/JavaBinarizerExample.java\n",
            "spark-2.4.7-bin-hadoop2.7/examples/src/main/java/org/apache/spark/examples/ml/JavaChiSquareTestExample.java\n",
            "spark-2.4.7-bin-hadoop2.7/examples/src/main/java/org/apache/spark/examples/ml/JavaPCAExample.java\n",
            "spark-2.4.7-bin-hadoop2.7/examples/src/main/java/org/apache/spark/examples/ml/JavaRandomForestClassifierExample.java\n",
            "spark-2.4.7-bin-hadoop2.7/examples/src/main/java/org/apache/spark/examples/ml/JavaSummarizerExample.java\n",
            "spark-2.4.7-bin-hadoop2.7/examples/src/main/java/org/apache/spark/examples/ml/JavaQuantileDiscretizerExample.java\n",
            "spark-2.4.7-bin-hadoop2.7/examples/src/main/java/org/apache/spark/examples/ml/JavaALSExample.java\n",
            "spark-2.4.7-bin-hadoop2.7/examples/src/main/java/org/apache/spark/examples/ml/JavaOneHotEncoderEstimatorExample.java\n",
            "spark-2.4.7-bin-hadoop2.7/examples/src/main/java/org/apache/spark/examples/ml/JavaFeatureHasherExample.java\n",
            "spark-2.4.7-bin-hadoop2.7/examples/src/main/java/org/apache/spark/examples/ml/JavaTfIdfExample.java\n",
            "spark-2.4.7-bin-hadoop2.7/examples/src/main/java/org/apache/spark/examples/ml/JavaStopWordsRemoverExample.java\n",
            "spark-2.4.7-bin-hadoop2.7/examples/src/main/java/org/apache/spark/examples/ml/JavaMinMaxScalerExample.java\n",
            "spark-2.4.7-bin-hadoop2.7/examples/src/main/java/org/apache/spark/examples/ml/JavaLogisticRegressionSummaryExample.java\n",
            "spark-2.4.7-bin-hadoop2.7/examples/src/main/java/org/apache/spark/examples/ml/JavaKMeansExample.java\n",
            "spark-2.4.7-bin-hadoop2.7/examples/src/main/java/org/apache/spark/examples/ml/JavaDecisionTreeRegressionExample.java\n",
            "spark-2.4.7-bin-hadoop2.7/examples/src/main/java/org/apache/spark/examples/ml/JavaBucketizerExample.java\n",
            "spark-2.4.7-bin-hadoop2.7/examples/src/main/java/org/apache/spark/examples/ml/JavaImputerExample.java\n",
            "spark-2.4.7-bin-hadoop2.7/examples/src/main/java/org/apache/spark/examples/JavaLogQuery.java\n",
            "spark-2.4.7-bin-hadoop2.7/examples/src/main/java/org/apache/spark/examples/JavaSparkPi.java\n",
            "spark-2.4.7-bin-hadoop2.7/examples/src/main/java/org/apache/spark/examples/mllib/\n",
            "spark-2.4.7-bin-hadoop2.7/examples/src/main/java/org/apache/spark/examples/mllib/JavaPowerIterationClusteringExample.java\n",
            "spark-2.4.7-bin-hadoop2.7/examples/src/main/java/org/apache/spark/examples/mllib/JavaALS.java\n",
            "spark-2.4.7-bin-hadoop2.7/examples/src/main/java/org/apache/spark/examples/mllib/JavaDecisionTreeClassificationExample.java\n",
            "spark-2.4.7-bin-hadoop2.7/examples/src/main/java/org/apache/spark/examples/mllib/JavaSVMWithSGDExample.java\n",
            "spark-2.4.7-bin-hadoop2.7/examples/src/main/java/org/apache/spark/examples/mllib/JavaLinearRegressionWithSGDExample.java\n",
            "spark-2.4.7-bin-hadoop2.7/examples/src/main/java/org/apache/spark/examples/mllib/JavaGradientBoostingClassificationExample.java\n",
            "spark-2.4.7-bin-hadoop2.7/examples/src/main/java/org/apache/spark/examples/mllib/JavaChiSqSelectorExample.java\n",
            "spark-2.4.7-bin-hadoop2.7/examples/src/main/java/org/apache/spark/examples/mllib/JavaRankingMetricsExample.java\n",
            "spark-2.4.7-bin-hadoop2.7/examples/src/main/java/org/apache/spark/examples/mllib/JavaKernelDensityEstimationExample.java\n",
            "spark-2.4.7-bin-hadoop2.7/examples/src/main/java/org/apache/spark/examples/mllib/JavaGaussianMixtureExample.java\n",
            "spark-2.4.7-bin-hadoop2.7/examples/src/main/java/org/apache/spark/examples/mllib/JavaNaiveBayesExample.java\n",
            "spark-2.4.7-bin-hadoop2.7/examples/src/main/java/org/apache/spark/examples/mllib/JavaStreamingTestExample.java\n",
            "spark-2.4.7-bin-hadoop2.7/examples/src/main/java/org/apache/spark/examples/mllib/JavaSimpleFPGrowth.java\n",
            "spark-2.4.7-bin-hadoop2.7/examples/src/main/java/org/apache/spark/examples/mllib/JavaAssociationRulesExample.java\n",
            "spark-2.4.7-bin-hadoop2.7/examples/src/main/java/org/apache/spark/examples/mllib/JavaLBFGSExample.java\n",
            "spark-2.4.7-bin-hadoop2.7/examples/src/main/java/org/apache/spark/examples/mllib/JavaBinaryClassificationMetricsExample.java\n",
            "spark-2.4.7-bin-hadoop2.7/examples/src/main/java/org/apache/spark/examples/mllib/JavaRecommendationExample.java\n",
            "spark-2.4.7-bin-hadoop2.7/examples/src/main/java/org/apache/spark/examples/mllib/JavaBisectingKMeansExample.java\n",
            "spark-2.4.7-bin-hadoop2.7/examples/src/main/java/org/apache/spark/examples/mllib/JavaHypothesisTestingExample.java\n",
            "spark-2.4.7-bin-hadoop2.7/examples/src/main/java/org/apache/spark/examples/mllib/JavaLatentDirichletAllocationExample.java\n",
            "spark-2.4.7-bin-hadoop2.7/examples/src/main/java/org/apache/spark/examples/mllib/JavaIsotonicRegressionExample.java\n",
            "spark-2.4.7-bin-hadoop2.7/examples/src/main/java/org/apache/spark/examples/mllib/JavaMulticlassClassificationMetricsExample.java\n",
            "spark-2.4.7-bin-hadoop2.7/examples/src/main/java/org/apache/spark/examples/mllib/JavaSVDExample.java\n",
            "spark-2.4.7-bin-hadoop2.7/examples/src/main/java/org/apache/spark/examples/mllib/JavaStratifiedSamplingExample.java\n",
            "spark-2.4.7-bin-hadoop2.7/examples/src/main/java/org/apache/spark/examples/mllib/JavaElementwiseProductExample.java\n",
            "spark-2.4.7-bin-hadoop2.7/examples/src/main/java/org/apache/spark/examples/mllib/JavaRegressionMetricsExample.java\n",
            "spark-2.4.7-bin-hadoop2.7/examples/src/main/java/org/apache/spark/examples/mllib/JavaLogisticRegressionWithLBFGSExample.java\n",
            "spark-2.4.7-bin-hadoop2.7/examples/src/main/java/org/apache/spark/examples/mllib/JavaPrefixSpanExample.java\n",
            "spark-2.4.7-bin-hadoop2.7/examples/src/main/java/org/apache/spark/examples/mllib/JavaRandomForestClassificationExample.java\n",
            "spark-2.4.7-bin-hadoop2.7/examples/src/main/java/org/apache/spark/examples/mllib/JavaHypothesisTestingKolmogorovSmirnovTestExample.java\n",
            "spark-2.4.7-bin-hadoop2.7/examples/src/main/java/org/apache/spark/examples/mllib/JavaRandomForestRegressionExample.java\n",
            "spark-2.4.7-bin-hadoop2.7/examples/src/main/java/org/apache/spark/examples/mllib/JavaCorrelationsExample.java\n",
            "spark-2.4.7-bin-hadoop2.7/examples/src/main/java/org/apache/spark/examples/mllib/JavaMultiLabelClassificationMetricsExample.java\n",
            "spark-2.4.7-bin-hadoop2.7/examples/src/main/java/org/apache/spark/examples/mllib/JavaPCAExample.java\n",
            "spark-2.4.7-bin-hadoop2.7/examples/src/main/java/org/apache/spark/examples/mllib/JavaKMeansExample.java\n",
            "spark-2.4.7-bin-hadoop2.7/examples/src/main/java/org/apache/spark/examples/mllib/JavaDecisionTreeRegressionExample.java\n",
            "spark-2.4.7-bin-hadoop2.7/examples/src/main/java/org/apache/spark/examples/mllib/JavaSummaryStatisticsExample.java\n",
            "spark-2.4.7-bin-hadoop2.7/examples/src/main/java/org/apache/spark/examples/mllib/JavaGradientBoostingRegressionExample.java\n",
            "spark-2.4.7-bin-hadoop2.7/examples/src/main/python/\n",
            "spark-2.4.7-bin-hadoop2.7/examples/src/main/python/parquet_inputformat.py\n",
            "spark-2.4.7-bin-hadoop2.7/examples/src/main/python/pagerank.py\n",
            "spark-2.4.7-bin-hadoop2.7/examples/src/main/python/transitive_closure.py\n",
            "spark-2.4.7-bin-hadoop2.7/examples/src/main/python/logistic_regression.py\n",
            "spark-2.4.7-bin-hadoop2.7/examples/src/main/python/kmeans.py\n",
            "spark-2.4.7-bin-hadoop2.7/examples/src/main/python/wordcount.py\n",
            "spark-2.4.7-bin-hadoop2.7/examples/src/main/python/sql/\n",
            "spark-2.4.7-bin-hadoop2.7/examples/src/main/python/sql/basic.py\n",
            "spark-2.4.7-bin-hadoop2.7/examples/src/main/python/sql/arrow.py\n",
            "spark-2.4.7-bin-hadoop2.7/examples/src/main/python/sql/hive.py\n",
            "spark-2.4.7-bin-hadoop2.7/examples/src/main/python/sql/streaming/\n",
            "spark-2.4.7-bin-hadoop2.7/examples/src/main/python/sql/streaming/structured_network_wordcount.py\n",
            "spark-2.4.7-bin-hadoop2.7/examples/src/main/python/sql/streaming/structured_kafka_wordcount.py\n",
            "spark-2.4.7-bin-hadoop2.7/examples/src/main/python/sql/streaming/structured_network_wordcount_windowed.py\n",
            "spark-2.4.7-bin-hadoop2.7/examples/src/main/python/sql/datasource.py\n",
            "spark-2.4.7-bin-hadoop2.7/examples/src/main/python/status_api_demo.py\n",
            "spark-2.4.7-bin-hadoop2.7/examples/src/main/python/pi.py\n",
            "spark-2.4.7-bin-hadoop2.7/examples/src/main/python/streaming/\n",
            "spark-2.4.7-bin-hadoop2.7/examples/src/main/python/streaming/hdfs_wordcount.py\n",
            "spark-2.4.7-bin-hadoop2.7/examples/src/main/python/streaming/recoverable_network_wordcount.py\n",
            "spark-2.4.7-bin-hadoop2.7/examples/src/main/python/streaming/network_wordjoinsentiments.py\n",
            "spark-2.4.7-bin-hadoop2.7/examples/src/main/python/streaming/stateful_network_wordcount.py\n",
            "spark-2.4.7-bin-hadoop2.7/examples/src/main/python/streaming/kafka_wordcount.py\n",
            "spark-2.4.7-bin-hadoop2.7/examples/src/main/python/streaming/sql_network_wordcount.py\n",
            "spark-2.4.7-bin-hadoop2.7/examples/src/main/python/streaming/network_wordcount.py\n",
            "spark-2.4.7-bin-hadoop2.7/examples/src/main/python/streaming/direct_kafka_wordcount.py\n",
            "spark-2.4.7-bin-hadoop2.7/examples/src/main/python/streaming/flume_wordcount.py\n",
            "spark-2.4.7-bin-hadoop2.7/examples/src/main/python/streaming/queue_stream.py\n",
            "spark-2.4.7-bin-hadoop2.7/examples/src/main/python/ml/\n",
            "spark-2.4.7-bin-hadoop2.7/examples/src/main/python/ml/logistic_regression_with_elastic_net.py\n",
            "spark-2.4.7-bin-hadoop2.7/examples/src/main/python/ml/decision_tree_regression_example.py\n",
            "spark-2.4.7-bin-hadoop2.7/examples/src/main/python/ml/generalized_linear_regression_example.py\n",
            "spark-2.4.7-bin-hadoop2.7/examples/src/main/python/ml/vector_assembler_example.py\n",
            "spark-2.4.7-bin-hadoop2.7/examples/src/main/python/ml/elementwise_product_example.py\n",
            "spark-2.4.7-bin-hadoop2.7/examples/src/main/python/ml/polynomial_expansion_example.py\n",
            "spark-2.4.7-bin-hadoop2.7/examples/src/main/python/ml/vector_slicer_example.py\n",
            "spark-2.4.7-bin-hadoop2.7/examples/src/main/python/ml/train_validation_split.py\n",
            "spark-2.4.7-bin-hadoop2.7/examples/src/main/python/ml/index_to_string_example.py\n",
            "spark-2.4.7-bin-hadoop2.7/examples/src/main/python/ml/n_gram_example.py\n",
            "spark-2.4.7-bin-hadoop2.7/examples/src/main/python/ml/pca_example.py\n",
            "spark-2.4.7-bin-hadoop2.7/examples/src/main/python/ml/one_vs_rest_example.py\n",
            "spark-2.4.7-bin-hadoop2.7/examples/src/main/python/ml/logistic_regression_summary_example.py\n",
            "spark-2.4.7-bin-hadoop2.7/examples/src/main/python/ml/dct_example.py\n",
            "spark-2.4.7-bin-hadoop2.7/examples/src/main/python/ml/quantile_discretizer_example.py\n",
            "spark-2.4.7-bin-hadoop2.7/examples/src/main/python/ml/bucketizer_example.py\n",
            "spark-2.4.7-bin-hadoop2.7/examples/src/main/python/ml/binarizer_example.py\n",
            "spark-2.4.7-bin-hadoop2.7/examples/src/main/python/ml/fpgrowth_example.py\n",
            "spark-2.4.7-bin-hadoop2.7/examples/src/main/python/ml/stopwords_remover_example.py\n",
            "spark-2.4.7-bin-hadoop2.7/examples/src/main/python/ml/correlation_example.py\n",
            "spark-2.4.7-bin-hadoop2.7/examples/src/main/python/ml/min_hash_lsh_example.py\n",
            "spark-2.4.7-bin-hadoop2.7/examples/src/main/python/ml/standard_scaler_example.py\n",
            "spark-2.4.7-bin-hadoop2.7/examples/src/main/python/ml/multiclass_logistic_regression_with_elastic_net.py\n",
            "spark-2.4.7-bin-hadoop2.7/examples/src/main/python/ml/naive_bayes_example.py\n",
            "spark-2.4.7-bin-hadoop2.7/examples/src/main/python/ml/linearsvc.py\n",
            "spark-2.4.7-bin-hadoop2.7/examples/src/main/python/ml/vector_size_hint_example.py\n",
            "spark-2.4.7-bin-hadoop2.7/examples/src/main/python/ml/rformula_example.py\n",
            "spark-2.4.7-bin-hadoop2.7/examples/src/main/python/ml/count_vectorizer_example.py\n",
            "spark-2.4.7-bin-hadoop2.7/examples/src/main/python/ml/min_max_scaler_example.py\n",
            "spark-2.4.7-bin-hadoop2.7/examples/src/main/python/ml/cross_validator.py\n",
            "spark-2.4.7-bin-hadoop2.7/examples/src/main/python/ml/gaussian_mixture_example.py\n",
            "spark-2.4.7-bin-hadoop2.7/examples/src/main/python/ml/tokenizer_example.py\n",
            "spark-2.4.7-bin-hadoop2.7/examples/src/main/python/ml/dataframe_example.py\n",
            "spark-2.4.7-bin-hadoop2.7/examples/src/main/python/ml/chisq_selector_example.py\n",
            "spark-2.4.7-bin-hadoop2.7/examples/src/main/python/ml/max_abs_scaler_example.py\n",
            "spark-2.4.7-bin-hadoop2.7/examples/src/main/python/ml/gradient_boosted_tree_classifier_example.py\n",
            "spark-2.4.7-bin-hadoop2.7/examples/src/main/python/ml/random_forest_classifier_example.py\n",
            "spark-2.4.7-bin-hadoop2.7/examples/src/main/python/ml/bisecting_k_means_example.py\n",
            "spark-2.4.7-bin-hadoop2.7/examples/src/main/python/ml/aft_survival_regression.py\n",
            "spark-2.4.7-bin-hadoop2.7/examples/src/main/python/ml/kmeans_example.py\n",
            "spark-2.4.7-bin-hadoop2.7/examples/src/main/python/ml/decision_tree_classification_example.py\n",
            "spark-2.4.7-bin-hadoop2.7/examples/src/main/python/ml/linear_regression_with_elastic_net.py\n",
            "spark-2.4.7-bin-hadoop2.7/examples/src/main/python/ml/lda_example.py\n",
            "spark-2.4.7-bin-hadoop2.7/examples/src/main/python/ml/string_indexer_example.py\n",
            "spark-2.4.7-bin-hadoop2.7/examples/src/main/python/ml/estimator_transformer_param_example.py\n",
            "spark-2.4.7-bin-hadoop2.7/examples/src/main/python/ml/imputer_example.py\n",
            "spark-2.4.7-bin-hadoop2.7/examples/src/main/python/ml/isotonic_regression_example.py\n",
            "spark-2.4.7-bin-hadoop2.7/examples/src/main/python/ml/als_example.py\n",
            "spark-2.4.7-bin-hadoop2.7/examples/src/main/python/ml/sql_transformer.py\n",
            "spark-2.4.7-bin-hadoop2.7/examples/src/main/python/ml/summarizer_example.py\n",
            "spark-2.4.7-bin-hadoop2.7/examples/src/main/python/ml/multilayer_perceptron_classification.py\n",
            "spark-2.4.7-bin-hadoop2.7/examples/src/main/python/ml/prefixspan_example.py\n",
            "spark-2.4.7-bin-hadoop2.7/examples/src/main/python/ml/normalizer_example.py\n",
            "spark-2.4.7-bin-hadoop2.7/examples/src/main/python/ml/bucketed_random_projection_lsh_example.py\n",
            "spark-2.4.7-bin-hadoop2.7/examples/src/main/python/ml/feature_hasher_example.py\n",
            "spark-2.4.7-bin-hadoop2.7/examples/src/main/python/ml/random_forest_regressor_example.py\n",
            "spark-2.4.7-bin-hadoop2.7/examples/src/main/python/ml/chi_square_test_example.py\n",
            "spark-2.4.7-bin-hadoop2.7/examples/src/main/python/ml/tf_idf_example.py\n",
            "spark-2.4.7-bin-hadoop2.7/examples/src/main/python/ml/vector_indexer_example.py\n",
            "spark-2.4.7-bin-hadoop2.7/examples/src/main/python/ml/onehot_encoder_estimator_example.py\n",
            "spark-2.4.7-bin-hadoop2.7/examples/src/main/python/ml/pipeline_example.py\n",
            "spark-2.4.7-bin-hadoop2.7/examples/src/main/python/ml/word2vec_example.py\n",
            "spark-2.4.7-bin-hadoop2.7/examples/src/main/python/ml/gradient_boosted_tree_regressor_example.py\n",
            "spark-2.4.7-bin-hadoop2.7/examples/src/main/python/mllib/\n",
            "spark-2.4.7-bin-hadoop2.7/examples/src/main/python/mllib/summary_statistics_example.py\n",
            "spark-2.4.7-bin-hadoop2.7/examples/src/main/python/mllib/decision_tree_regression_example.py\n",
            "spark-2.4.7-bin-hadoop2.7/examples/src/main/python/mllib/stratified_sampling_example.py\n",
            "spark-2.4.7-bin-hadoop2.7/examples/src/main/python/mllib/multi_class_metrics_example.py\n",
            "spark-2.4.7-bin-hadoop2.7/examples/src/main/python/mllib/elementwise_product_example.py\n",
            "spark-2.4.7-bin-hadoop2.7/examples/src/main/python/mllib/streaming_k_means_example.py\n",
            "spark-2.4.7-bin-hadoop2.7/examples/src/main/python/mllib/binary_classification_metrics_example.py\n",
            "spark-2.4.7-bin-hadoop2.7/examples/src/main/python/mllib/svd_example.py\n",
            "spark-2.4.7-bin-hadoop2.7/examples/src/main/python/mllib/random_forest_classification_example.py\n",
            "spark-2.4.7-bin-hadoop2.7/examples/src/main/python/mllib/correlations_example.py\n",
            "spark-2.4.7-bin-hadoop2.7/examples/src/main/python/mllib/pca_rowmatrix_example.py\n",
            "spark-2.4.7-bin-hadoop2.7/examples/src/main/python/mllib/hypothesis_testing_kolmogorov_smirnov_test_example.py\n",
            "spark-2.4.7-bin-hadoop2.7/examples/src/main/python/mllib/sampled_rdds.py\n",
            "spark-2.4.7-bin-hadoop2.7/examples/src/main/python/mllib/correlations.py\n",
            "spark-2.4.7-bin-hadoop2.7/examples/src/main/python/mllib/regression_metrics_example.py\n",
            "spark-2.4.7-bin-hadoop2.7/examples/src/main/python/mllib/logistic_regression.py\n",
            "spark-2.4.7-bin-hadoop2.7/examples/src/main/python/mllib/linear_regression_with_sgd_example.py\n",
            "spark-2.4.7-bin-hadoop2.7/examples/src/main/python/mllib/logistic_regression_with_lbfgs_example.py\n",
            "spark-2.4.7-bin-hadoop2.7/examples/src/main/python/mllib/fpgrowth_example.py\n",
            "spark-2.4.7-bin-hadoop2.7/examples/src/main/python/mllib/svm_with_sgd_example.py\n",
            "spark-2.4.7-bin-hadoop2.7/examples/src/main/python/mllib/standard_scaler_example.py\n",
            "spark-2.4.7-bin-hadoop2.7/examples/src/main/python/mllib/naive_bayes_example.py\n",
            "spark-2.4.7-bin-hadoop2.7/examples/src/main/python/mllib/power_iteration_clustering_example.py\n",
            "spark-2.4.7-bin-hadoop2.7/examples/src/main/python/mllib/k_means_example.py\n",
            "spark-2.4.7-bin-hadoop2.7/examples/src/main/python/mllib/kmeans.py\n",
            "spark-2.4.7-bin-hadoop2.7/examples/src/main/python/mllib/kernel_density_estimation_example.py\n",
            "spark-2.4.7-bin-hadoop2.7/examples/src/main/python/mllib/gaussian_mixture_example.py\n",
            "spark-2.4.7-bin-hadoop2.7/examples/src/main/python/mllib/word2vec.py\n",
            "spark-2.4.7-bin-hadoop2.7/examples/src/main/python/mllib/random_rdd_generation.py\n",
            "spark-2.4.7-bin-hadoop2.7/examples/src/main/python/mllib/multi_label_metrics_example.py\n",
            "spark-2.4.7-bin-hadoop2.7/examples/src/main/python/mllib/bisecting_k_means_example.py\n",
            "spark-2.4.7-bin-hadoop2.7/examples/src/main/python/mllib/gradient_boosting_classification_example.py\n",
            "spark-2.4.7-bin-hadoop2.7/examples/src/main/python/mllib/hypothesis_testing_example.py\n",
            "spark-2.4.7-bin-hadoop2.7/examples/src/main/python/mllib/decision_tree_classification_example.py\n",
            "spark-2.4.7-bin-hadoop2.7/examples/src/main/python/mllib/recommendation_example.py\n",
            "spark-2.4.7-bin-hadoop2.7/examples/src/main/python/mllib/gaussian_mixture_model.py\n",
            "spark-2.4.7-bin-hadoop2.7/examples/src/main/python/mllib/isotonic_regression_example.py\n",
            "spark-2.4.7-bin-hadoop2.7/examples/src/main/python/mllib/gradient_boosting_regression_example.py\n",
            "spark-2.4.7-bin-hadoop2.7/examples/src/main/python/mllib/normalizer_example.py\n",
            "spark-2.4.7-bin-hadoop2.7/examples/src/main/python/mllib/random_forest_regression_example.py\n",
            "spark-2.4.7-bin-hadoop2.7/examples/src/main/python/mllib/tf_idf_example.py\n",
            "spark-2.4.7-bin-hadoop2.7/examples/src/main/python/mllib/latent_dirichlet_allocation_example.py\n",
            "spark-2.4.7-bin-hadoop2.7/examples/src/main/python/mllib/ranking_metrics_example.py\n",
            "spark-2.4.7-bin-hadoop2.7/examples/src/main/python/mllib/word2vec_example.py\n",
            "spark-2.4.7-bin-hadoop2.7/examples/src/main/python/mllib/streaming_linear_regression_example.py\n",
            "spark-2.4.7-bin-hadoop2.7/examples/src/main/python/als.py\n",
            "spark-2.4.7-bin-hadoop2.7/examples/src/main/python/sort.py\n",
            "spark-2.4.7-bin-hadoop2.7/examples/src/main/python/avro_inputformat.py\n",
            "spark-2.4.7-bin-hadoop2.7/examples/jars/\n",
            "spark-2.4.7-bin-hadoop2.7/examples/jars/spark-examples_2.11-2.4.7.jar\n",
            "spark-2.4.7-bin-hadoop2.7/examples/jars/scopt_2.11-3.7.0.jar\n",
            "spark-2.4.7-bin-hadoop2.7/R/\n",
            "spark-2.4.7-bin-hadoop2.7/R/lib/\n",
            "spark-2.4.7-bin-hadoop2.7/R/lib/SparkR/\n",
            "spark-2.4.7-bin-hadoop2.7/R/lib/SparkR/tests/\n",
            "spark-2.4.7-bin-hadoop2.7/R/lib/SparkR/tests/testthat/\n",
            "spark-2.4.7-bin-hadoop2.7/R/lib/SparkR/tests/testthat/test_basic.R\n",
            "spark-2.4.7-bin-hadoop2.7/R/lib/SparkR/html/\n",
            "spark-2.4.7-bin-hadoop2.7/R/lib/SparkR/html/R.css\n",
            "spark-2.4.7-bin-hadoop2.7/R/lib/SparkR/html/00Index.html\n",
            "spark-2.4.7-bin-hadoop2.7/R/lib/SparkR/NAMESPACE\n",
            "spark-2.4.7-bin-hadoop2.7/R/lib/SparkR/profile/\n",
            "spark-2.4.7-bin-hadoop2.7/R/lib/SparkR/profile/shell.R\n",
            "spark-2.4.7-bin-hadoop2.7/R/lib/SparkR/profile/general.R\n",
            "spark-2.4.7-bin-hadoop2.7/R/lib/SparkR/Meta/\n",
            "spark-2.4.7-bin-hadoop2.7/R/lib/SparkR/Meta/Rd.rds\n",
            "spark-2.4.7-bin-hadoop2.7/R/lib/SparkR/Meta/features.rds\n",
            "spark-2.4.7-bin-hadoop2.7/R/lib/SparkR/Meta/hsearch.rds\n",
            "spark-2.4.7-bin-hadoop2.7/R/lib/SparkR/Meta/links.rds\n",
            "spark-2.4.7-bin-hadoop2.7/R/lib/SparkR/Meta/nsInfo.rds\n",
            "spark-2.4.7-bin-hadoop2.7/R/lib/SparkR/Meta/package.rds\n",
            "spark-2.4.7-bin-hadoop2.7/R/lib/SparkR/worker/\n",
            "spark-2.4.7-bin-hadoop2.7/R/lib/SparkR/worker/daemon.R\n",
            "spark-2.4.7-bin-hadoop2.7/R/lib/SparkR/worker/worker.R\n",
            "spark-2.4.7-bin-hadoop2.7/R/lib/SparkR/help/\n",
            "spark-2.4.7-bin-hadoop2.7/R/lib/SparkR/help/paths.rds\n",
            "spark-2.4.7-bin-hadoop2.7/R/lib/SparkR/help/aliases.rds\n",
            "spark-2.4.7-bin-hadoop2.7/R/lib/SparkR/help/SparkR.rdx\n",
            "spark-2.4.7-bin-hadoop2.7/R/lib/SparkR/help/AnIndex\n",
            "spark-2.4.7-bin-hadoop2.7/R/lib/SparkR/help/SparkR.rdb\n",
            "spark-2.4.7-bin-hadoop2.7/R/lib/SparkR/DESCRIPTION\n",
            "spark-2.4.7-bin-hadoop2.7/R/lib/SparkR/INDEX\n",
            "spark-2.4.7-bin-hadoop2.7/R/lib/SparkR/R/\n",
            "spark-2.4.7-bin-hadoop2.7/R/lib/SparkR/R/SparkR\n",
            "spark-2.4.7-bin-hadoop2.7/R/lib/SparkR/R/SparkR.rdx\n",
            "spark-2.4.7-bin-hadoop2.7/R/lib/SparkR/R/SparkR.rdb\n",
            "spark-2.4.7-bin-hadoop2.7/R/lib/sparkr.zip\n",
            "spark-2.4.7-bin-hadoop2.7/RELEASE\n",
            "spark-2.4.7-bin-hadoop2.7/jars/\n",
            "spark-2.4.7-bin-hadoop2.7/jars/hadoop-client-2.7.3.jar\n",
            "spark-2.4.7-bin-hadoop2.7/jars/compress-lzf-1.0.3.jar\n",
            "spark-2.4.7-bin-hadoop2.7/jars/activation-1.1.1.jar\n",
            "spark-2.4.7-bin-hadoop2.7/jars/json4s-scalap_2.11-3.5.3.jar\n",
            "spark-2.4.7-bin-hadoop2.7/jars/chill-java-0.9.3.jar\n",
            "spark-2.4.7-bin-hadoop2.7/jars/hk2-locator-2.4.0-b34.jar\n",
            "spark-2.4.7-bin-hadoop2.7/jars/validation-api-1.1.0.Final.jar\n",
            "spark-2.4.7-bin-hadoop2.7/jars/super-csv-2.2.0.jar\n",
            "spark-2.4.7-bin-hadoop2.7/jars/leveldbjni-all-1.8.jar\n",
            "spark-2.4.7-bin-hadoop2.7/jars/arrow-format-0.10.0.jar\n",
            "spark-2.4.7-bin-hadoop2.7/jars/hadoop-common-2.7.3.jar\n",
            "spark-2.4.7-bin-hadoop2.7/jars/spark-hive_2.11-2.4.7.jar\n",
            "spark-2.4.7-bin-hadoop2.7/jars/javassist-3.18.1-GA.jar\n",
            "spark-2.4.7-bin-hadoop2.7/jars/oro-2.0.8.jar\n",
            "spark-2.4.7-bin-hadoop2.7/jars/jersey-client-2.22.2.jar\n",
            "spark-2.4.7-bin-hadoop2.7/jars/parquet-encoding-1.10.1.jar\n",
            "spark-2.4.7-bin-hadoop2.7/jars/janino-3.0.16.jar\n",
            "spark-2.4.7-bin-hadoop2.7/jars/arrow-memory-0.10.0.jar\n",
            "spark-2.4.7-bin-hadoop2.7/jars/hadoop-mapreduce-client-core-2.7.3.jar\n",
            "spark-2.4.7-bin-hadoop2.7/jars/logging-interceptor-3.12.0.jar\n",
            "spark-2.4.7-bin-hadoop2.7/jars/flatbuffers-1.2.0-3f79e055.jar\n",
            "spark-2.4.7-bin-hadoop2.7/jars/slf4j-log4j12-1.7.16.jar\n",
            "spark-2.4.7-bin-hadoop2.7/jars/guava-14.0.1.jar\n",
            "spark-2.4.7-bin-hadoop2.7/jars/datanucleus-core-3.2.10.jar\n",
            "spark-2.4.7-bin-hadoop2.7/jars/calcite-core-1.2.0-incubating.jar\n",
            "spark-2.4.7-bin-hadoop2.7/jars/antlr-2.7.7.jar\n",
            "spark-2.4.7-bin-hadoop2.7/jars/jackson-core-2.6.7.jar\n",
            "spark-2.4.7-bin-hadoop2.7/jars/jaxb-api-2.2.2.jar\n",
            "spark-2.4.7-bin-hadoop2.7/jars/commons-configuration-1.6.jar\n",
            "spark-2.4.7-bin-hadoop2.7/jars/json4s-ast_2.11-3.5.3.jar\n",
            "spark-2.4.7-bin-hadoop2.7/jars/hive-jdbc-1.2.1.spark2.jar\n",
            "spark-2.4.7-bin-hadoop2.7/jars/jackson-module-jaxb-annotations-2.6.7.jar\n",
            "spark-2.4.7-bin-hadoop2.7/jars/bonecp-0.8.0.RELEASE.jar\n",
            "spark-2.4.7-bin-hadoop2.7/jars/spark-hive-thriftserver_2.11-2.4.7.jar\n",
            "spark-2.4.7-bin-hadoop2.7/jars/hadoop-yarn-client-2.7.3.jar\n",
            "spark-2.4.7-bin-hadoop2.7/jars/machinist_2.11-0.6.1.jar\n",
            "spark-2.4.7-bin-hadoop2.7/jars/kubernetes-model-common-4.6.1.jar\n",
            "spark-2.4.7-bin-hadoop2.7/jars/hive-beeline-1.2.1.spark2.jar\n",
            "spark-2.4.7-bin-hadoop2.7/jars/libthrift-0.9.3.jar\n",
            "spark-2.4.7-bin-hadoop2.7/jars/commons-pool-1.5.4.jar\n",
            "spark-2.4.7-bin-hadoop2.7/jars/metrics-graphite-3.1.5.jar\n",
            "spark-2.4.7-bin-hadoop2.7/jars/libfb303-0.9.3.jar\n",
            "spark-2.4.7-bin-hadoop2.7/jars/commons-lang-2.6.jar\n",
            "spark-2.4.7-bin-hadoop2.7/jars/pyrolite-4.13.jar\n",
            "spark-2.4.7-bin-hadoop2.7/jars/lz4-java-1.4.0.jar\n",
            "spark-2.4.7-bin-hadoop2.7/jars/orc-core-1.5.5-nohive.jar\n",
            "spark-2.4.7-bin-hadoop2.7/jars/calcite-linq4j-1.2.0-incubating.jar\n",
            "spark-2.4.7-bin-hadoop2.7/jars/hk2-api-2.4.0-b34.jar\n",
            "spark-2.4.7-bin-hadoop2.7/jars/snakeyaml-1.15.jar\n",
            "spark-2.4.7-bin-hadoop2.7/jars/shapeless_2.11-2.3.2.jar\n",
            "spark-2.4.7-bin-hadoop2.7/jars/arrow-vector-0.10.0.jar\n",
            "spark-2.4.7-bin-hadoop2.7/jars/spark-tags_2.11-2.4.7-tests.jar\n",
            "spark-2.4.7-bin-hadoop2.7/jars/jackson-module-paranamer-2.7.9.jar\n",
            "spark-2.4.7-bin-hadoop2.7/jars/api-asn1-api-1.0.0-M20.jar\n",
            "spark-2.4.7-bin-hadoop2.7/jars/minlog-1.3.0.jar\n",
            "spark-2.4.7-bin-hadoop2.7/jars/spark-yarn_2.11-2.4.7.jar\n",
            "spark-2.4.7-bin-hadoop2.7/jars/curator-framework-2.7.1.jar\n",
            "spark-2.4.7-bin-hadoop2.7/jars/commons-compress-1.8.1.jar\n",
            "spark-2.4.7-bin-hadoop2.7/jars/javax.ws.rs-api-2.0.1.jar\n",
            "spark-2.4.7-bin-hadoop2.7/jars/scala-compiler-2.11.12.jar\n",
            "spark-2.4.7-bin-hadoop2.7/jars/jackson-xc-1.9.13.jar\n",
            "spark-2.4.7-bin-hadoop2.7/jars/jackson-databind-2.6.7.3.jar\n",
            "spark-2.4.7-bin-hadoop2.7/jars/jersey-media-jaxb-2.22.2.jar\n",
            "spark-2.4.7-bin-hadoop2.7/jars/arpack_combined_all-0.1.jar\n",
            "spark-2.4.7-bin-hadoop2.7/jars/gson-2.2.4.jar\n",
            "spark-2.4.7-bin-hadoop2.7/jars/hadoop-yarn-api-2.7.3.jar\n",
            "spark-2.4.7-bin-hadoop2.7/jars/parquet-hadoop-1.10.1.jar\n",
            "spark-2.4.7-bin-hadoop2.7/jars/apacheds-i18n-2.0.0-M15.jar\n",
            "spark-2.4.7-bin-hadoop2.7/jars/metrics-json-3.1.5.jar\n",
            "spark-2.4.7-bin-hadoop2.7/jars/hk2-utils-2.4.0-b34.jar\n",
            "spark-2.4.7-bin-hadoop2.7/jars/log4j-1.2.17.jar\n",
            "spark-2.4.7-bin-hadoop2.7/jars/javolution-5.5.1.jar\n",
            "spark-2.4.7-bin-hadoop2.7/jars/macro-compat_2.11-1.1.1.jar\n",
            "spark-2.4.7-bin-hadoop2.7/jars/aopalliance-repackaged-2.4.0-b34.jar\n",
            "spark-2.4.7-bin-hadoop2.7/jars/spark-graphx_2.11-2.4.7.jar\n",
            "spark-2.4.7-bin-hadoop2.7/jars/commons-beanutils-1.9.4.jar\n",
            "spark-2.4.7-bin-hadoop2.7/jars/xz-1.5.jar\n",
            "spark-2.4.7-bin-hadoop2.7/jars/xmlenc-0.52.jar\n",
            "spark-2.4.7-bin-hadoop2.7/jars/jersey-container-servlet-2.22.2.jar\n",
            "spark-2.4.7-bin-hadoop2.7/jars/jcl-over-slf4j-1.7.16.jar\n",
            "spark-2.4.7-bin-hadoop2.7/jars/parquet-format-2.4.0.jar\n",
            "spark-2.4.7-bin-hadoop2.7/jars/spark-streaming_2.11-2.4.7.jar\n",
            "spark-2.4.7-bin-hadoop2.7/jars/spark-sql_2.11-2.4.7.jar\n",
            "spark-2.4.7-bin-hadoop2.7/jars/jdo-api-3.0.1.jar\n",
            "spark-2.4.7-bin-hadoop2.7/jars/jpam-1.1.jar\n",
            "spark-2.4.7-bin-hadoop2.7/jars/spark-tags_2.11-2.4.7.jar\n",
            "spark-2.4.7-bin-hadoop2.7/jars/json4s-core_2.11-3.5.3.jar\n",
            "spark-2.4.7-bin-hadoop2.7/jars/core-1.1.2.jar\n",
            "spark-2.4.7-bin-hadoop2.7/jars/hppc-0.7.2.jar\n",
            "spark-2.4.7-bin-hadoop2.7/jars/datanucleus-api-jdo-3.2.6.jar\n",
            "spark-2.4.7-bin-hadoop2.7/jars/commons-math3-3.4.1.jar\n",
            "spark-2.4.7-bin-hadoop2.7/jars/spark-network-common_2.11-2.4.7.jar\n",
            "spark-2.4.7-bin-hadoop2.7/jars/commons-net-3.1.jar\n",
            "spark-2.4.7-bin-hadoop2.7/jars/commons-compiler-3.0.16.jar\n",
            "spark-2.4.7-bin-hadoop2.7/jars/spire_2.11-0.13.0.jar\n",
            "spark-2.4.7-bin-hadoop2.7/jars/aircompressor-0.10.jar\n",
            "spark-2.4.7-bin-hadoop2.7/jars/derby-10.12.1.1.jar\n",
            "spark-2.4.7-bin-hadoop2.7/jars/datanucleus-rdbms-3.2.9.jar\n",
            "spark-2.4.7-bin-hadoop2.7/jars/hadoop-mapreduce-client-jobclient-2.7.3.jar\n",
            "spark-2.4.7-bin-hadoop2.7/jars/avro-1.8.2.jar\n",
            "spark-2.4.7-bin-hadoop2.7/jars/chill_2.11-0.9.3.jar\n",
            "spark-2.4.7-bin-hadoop2.7/jars/hadoop-auth-2.7.3.jar\n",
            "spark-2.4.7-bin-hadoop2.7/jars/stream-2.7.0.jar\n",
            "spark-2.4.7-bin-hadoop2.7/jars/apacheds-kerberos-codec-2.0.0-M15.jar\n",
            "spark-2.4.7-bin-hadoop2.7/jars/antlr4-runtime-4.7.jar\n",
            "spark-2.4.7-bin-hadoop2.7/jars/osgi-resource-locator-1.0.1.jar\n",
            "spark-2.4.7-bin-hadoop2.7/jars/httpcore-4.4.10.jar\n",
            "spark-2.4.7-bin-hadoop2.7/jars/ivy-2.4.0.jar\n",
            "spark-2.4.7-bin-hadoop2.7/jars/kryo-shaded-4.0.2.jar\n",
            "spark-2.4.7-bin-hadoop2.7/jars/jackson-module-scala_2.11-2.6.7.1.jar\n",
            "spark-2.4.7-bin-hadoop2.7/jars/orc-shims-1.5.5.jar\n",
            "spark-2.4.7-bin-hadoop2.7/jars/curator-recipes-2.7.1.jar\n",
            "spark-2.4.7-bin-hadoop2.7/jars/json4s-jackson_2.11-3.5.3.jar\n",
            "spark-2.4.7-bin-hadoop2.7/jars/commons-cli-1.2.jar\n",
            "spark-2.4.7-bin-hadoop2.7/jars/slf4j-api-1.7.16.jar\n",
            "spark-2.4.7-bin-hadoop2.7/jars/jetty-6.1.26.jar\n",
            "spark-2.4.7-bin-hadoop2.7/jars/spark-catalyst_2.11-2.4.7.jar\n",
            "spark-2.4.7-bin-hadoop2.7/jars/stax-api-1.0.1.jar\n",
            "spark-2.4.7-bin-hadoop2.7/jars/eigenbase-properties-1.1.5.jar\n",
            "spark-2.4.7-bin-hadoop2.7/jars/spark-unsafe_2.11-2.4.7.jar\n",
            "spark-2.4.7-bin-hadoop2.7/jars/commons-io-2.4.jar\n",
            "spark-2.4.7-bin-hadoop2.7/jars/javax.inject-1.jar\n",
            "spark-2.4.7-bin-hadoop2.7/jars/guice-3.0.jar\n",
            "spark-2.4.7-bin-hadoop2.7/jars/commons-logging-1.1.3.jar\n",
            "spark-2.4.7-bin-hadoop2.7/jars/spark-mllib_2.11-2.4.7.jar\n",
            "spark-2.4.7-bin-hadoop2.7/jars/hadoop-mapreduce-client-common-2.7.3.jar\n",
            "spark-2.4.7-bin-hadoop2.7/jars/zjsonpatch-0.3.0.jar\n",
            "spark-2.4.7-bin-hadoop2.7/jars/spark-sketch_2.11-2.4.7.jar\n",
            "spark-2.4.7-bin-hadoop2.7/jars/univocity-parsers-2.7.3.jar\n",
            "spark-2.4.7-bin-hadoop2.7/jars/scala-reflect-2.11.12.jar\n",
            "spark-2.4.7-bin-hadoop2.7/jars/jsp-api-2.1.jar\n",
            "spark-2.4.7-bin-hadoop2.7/jars/kubernetes-model-4.6.1.jar\n",
            "spark-2.4.7-bin-hadoop2.7/jars/parquet-jackson-1.10.1.jar\n",
            "spark-2.4.7-bin-hadoop2.7/jars/jackson-core-asl-1.9.13.jar\n",
            "spark-2.4.7-bin-hadoop2.7/jars/aopalliance-1.0.jar\n",
            "spark-2.4.7-bin-hadoop2.7/jars/hadoop-yarn-server-web-proxy-2.7.3.jar\n",
            "spark-2.4.7-bin-hadoop2.7/jars/metrics-jvm-3.1.5.jar\n",
            "spark-2.4.7-bin-hadoop2.7/jars/spark-mesos_2.11-2.4.7.jar\n",
            "spark-2.4.7-bin-hadoop2.7/jars/hive-cli-1.2.1.spark2.jar\n",
            "spark-2.4.7-bin-hadoop2.7/jars/apache-log4j-extras-1.2.17.jar\n",
            "spark-2.4.7-bin-hadoop2.7/jars/guice-servlet-3.0.jar\n",
            "spark-2.4.7-bin-hadoop2.7/jars/commons-dbcp-1.4.jar\n",
            "spark-2.4.7-bin-hadoop2.7/jars/netty-all-4.1.47.Final.jar\n",
            "spark-2.4.7-bin-hadoop2.7/jars/protobuf-java-2.5.0.jar\n",
            "spark-2.4.7-bin-hadoop2.7/jars/jta-1.1.jar\n",
            "spark-2.4.7-bin-hadoop2.7/jars/netty-3.9.9.Final.jar\n",
            "spark-2.4.7-bin-hadoop2.7/jars/orc-mapreduce-1.5.5-nohive.jar\n",
            "spark-2.4.7-bin-hadoop2.7/jars/spark-core_2.11-2.4.7.jar\n",
            "spark-2.4.7-bin-hadoop2.7/jars/scala-xml_2.11-1.0.5.jar\n",
            "spark-2.4.7-bin-hadoop2.7/jars/javax.annotation-api-1.2.jar\n",
            "spark-2.4.7-bin-hadoop2.7/jars/hadoop-yarn-common-2.7.3.jar\n",
            "spark-2.4.7-bin-hadoop2.7/jars/jackson-mapper-asl-1.9.13.jar\n",
            "spark-2.4.7-bin-hadoop2.7/jars/jul-to-slf4j-1.7.16.jar\n",
            "spark-2.4.7-bin-hadoop2.7/jars/spire-macros_2.11-0.13.0.jar\n",
            "spark-2.4.7-bin-hadoop2.7/jars/javax.servlet-api-3.1.0.jar\n",
            "spark-2.4.7-bin-hadoop2.7/jars/hive-exec-1.2.1.spark2.jar\n",
            "spark-2.4.7-bin-hadoop2.7/jars/mesos-1.4.0-shaded-protobuf.jar\n",
            "spark-2.4.7-bin-hadoop2.7/jars/jodd-core-3.5.2.jar\n",
            "spark-2.4.7-bin-hadoop2.7/jars/curator-client-2.7.1.jar\n",
            "spark-2.4.7-bin-hadoop2.7/jars/zookeeper-3.4.6.jar\n",
            "spark-2.4.7-bin-hadoop2.7/jars/commons-digester-1.8.jar\n",
            "spark-2.4.7-bin-hadoop2.7/jars/xbean-asm6-shaded-4.8.jar\n",
            "spark-2.4.7-bin-hadoop2.7/jars/scala-parser-combinators_2.11-1.1.0.jar\n",
            "spark-2.4.7-bin-hadoop2.7/jars/spark-launcher_2.11-2.4.7.jar\n",
            "spark-2.4.7-bin-hadoop2.7/jars/jsr305-1.3.9.jar\n",
            "spark-2.4.7-bin-hadoop2.7/jars/scala-library-2.11.12.jar\n",
            "spark-2.4.7-bin-hadoop2.7/jars/jersey-container-servlet-core-2.22.2.jar\n",
            "spark-2.4.7-bin-hadoop2.7/jars/spark-repl_2.11-2.4.7.jar\n",
            "spark-2.4.7-bin-hadoop2.7/jars/jackson-jaxrs-1.9.13.jar\n",
            "spark-2.4.7-bin-hadoop2.7/jars/opencsv-2.3.jar\n",
            "spark-2.4.7-bin-hadoop2.7/jars/commons-lang3-3.5.jar\n",
            "spark-2.4.7-bin-hadoop2.7/jars/jetty-util-6.1.26.jar\n",
            "spark-2.4.7-bin-hadoop2.7/jars/generex-1.0.2.jar\n",
            "spark-2.4.7-bin-hadoop2.7/jars/joda-time-2.9.3.jar\n",
            "spark-2.4.7-bin-hadoop2.7/jars/shims-0.7.45.jar\n",
            "spark-2.4.7-bin-hadoop2.7/jars/objenesis-2.5.1.jar\n",
            "spark-2.4.7-bin-hadoop2.7/jars/commons-codec-1.10.jar\n",
            "spark-2.4.7-bin-hadoop2.7/jars/py4j-0.10.7.jar\n",
            "spark-2.4.7-bin-hadoop2.7/jars/avro-mapred-1.8.2-hadoop2.jar\n",
            "spark-2.4.7-bin-hadoop2.7/jars/RoaringBitmap-0.7.45.jar\n",
            "spark-2.4.7-bin-hadoop2.7/jars/zstd-jni-1.3.2-2.jar\n",
            "spark-2.4.7-bin-hadoop2.7/jars/hadoop-annotations-2.7.3.jar\n",
            "spark-2.4.7-bin-hadoop2.7/jars/commons-collections-3.2.2.jar\n",
            "spark-2.4.7-bin-hadoop2.7/jars/parquet-column-1.10.1.jar\n",
            "spark-2.4.7-bin-hadoop2.7/jars/commons-crypto-1.0.0.jar\n",
            "spark-2.4.7-bin-hadoop2.7/jars/spark-kvstore_2.11-2.4.7.jar\n",
            "spark-2.4.7-bin-hadoop2.7/jars/snappy-java-1.1.7.5.jar\n",
            "spark-2.4.7-bin-hadoop2.7/jars/httpclient-4.5.6.jar\n",
            "spark-2.4.7-bin-hadoop2.7/jars/spark-mllib-local_2.11-2.4.7.jar\n",
            "spark-2.4.7-bin-hadoop2.7/jars/okio-1.15.0.jar\n",
            "spark-2.4.7-bin-hadoop2.7/jars/hadoop-hdfs-2.7.3.jar\n",
            "spark-2.4.7-bin-hadoop2.7/jars/breeze_2.11-0.13.2.jar\n",
            "spark-2.4.7-bin-hadoop2.7/jars/hadoop-yarn-server-common-2.7.3.jar\n",
            "spark-2.4.7-bin-hadoop2.7/jars/paranamer-2.8.jar\n",
            "spark-2.4.7-bin-hadoop2.7/jars/commons-httpclient-3.1.jar\n",
            "spark-2.4.7-bin-hadoop2.7/jars/jersey-server-2.22.2.jar\n",
            "spark-2.4.7-bin-hadoop2.7/jars/jline-2.14.6.jar\n",
            "spark-2.4.7-bin-hadoop2.7/jars/spark-network-shuffle_2.11-2.4.7.jar\n",
            "spark-2.4.7-bin-hadoop2.7/jars/spark-kubernetes_2.11-2.4.7.jar\n",
            "spark-2.4.7-bin-hadoop2.7/jars/jackson-annotations-2.6.7.jar\n",
            "spark-2.4.7-bin-hadoop2.7/jars/parquet-common-1.10.1.jar\n",
            "spark-2.4.7-bin-hadoop2.7/jars/ST4-4.0.4.jar\n",
            "spark-2.4.7-bin-hadoop2.7/jars/htrace-core-3.1.0-incubating.jar\n",
            "spark-2.4.7-bin-hadoop2.7/jars/JavaEWAH-0.3.2.jar\n",
            "spark-2.4.7-bin-hadoop2.7/jars/api-util-1.0.0-M20.jar\n",
            "spark-2.4.7-bin-hadoop2.7/jars/parquet-hadoop-bundle-1.6.0.jar\n",
            "spark-2.4.7-bin-hadoop2.7/jars/breeze-macros_2.11-0.13.2.jar\n",
            "spark-2.4.7-bin-hadoop2.7/jars/snappy-0.2.jar\n",
            "spark-2.4.7-bin-hadoop2.7/jars/stringtemplate-3.2.1.jar\n",
            "spark-2.4.7-bin-hadoop2.7/jars/kubernetes-client-4.6.1.jar\n",
            "spark-2.4.7-bin-hadoop2.7/jars/automaton-1.11-8.jar\n",
            "spark-2.4.7-bin-hadoop2.7/jars/hive-metastore-1.2.1.spark2.jar\n",
            "spark-2.4.7-bin-hadoop2.7/jars/jersey-common-2.22.2.jar\n",
            "spark-2.4.7-bin-hadoop2.7/jars/javax.inject-2.4.0-b34.jar\n",
            "spark-2.4.7-bin-hadoop2.7/jars/okhttp-3.12.0.jar\n",
            "spark-2.4.7-bin-hadoop2.7/jars/antlr-runtime-3.4.jar\n",
            "spark-2.4.7-bin-hadoop2.7/jars/hadoop-mapreduce-client-app-2.7.3.jar\n",
            "spark-2.4.7-bin-hadoop2.7/jars/xercesImpl-2.9.1.jar\n",
            "spark-2.4.7-bin-hadoop2.7/jars/jersey-guava-2.22.2.jar\n",
            "spark-2.4.7-bin-hadoop2.7/jars/jtransforms-2.4.0.jar\n",
            "spark-2.4.7-bin-hadoop2.7/jars/hadoop-mapreduce-client-shuffle-2.7.3.jar\n",
            "spark-2.4.7-bin-hadoop2.7/jars/stax-api-1.0-2.jar\n",
            "spark-2.4.7-bin-hadoop2.7/jars/metrics-core-3.1.5.jar\n",
            "spark-2.4.7-bin-hadoop2.7/jars/jackson-dataformat-yaml-2.6.7.jar\n",
            "spark-2.4.7-bin-hadoop2.7/jars/avro-ipc-1.8.2.jar\n",
            "spark-2.4.7-bin-hadoop2.7/jars/calcite-avatica-1.2.0-incubating.jar\n"
          ],
          "name": "stdout"
        }
      ]
    },
    {
      "cell_type": "code",
      "metadata": {
        "id": "S8ecotJ3JfMd"
      },
      "source": [
        "!pip install -q findspark"
      ],
      "execution_count": null,
      "outputs": []
    },
    {
      "cell_type": "code",
      "metadata": {
        "id": "2wECmJI4Jk-z"
      },
      "source": [
        "import os\n",
        "os.environ[\"JAVA_HOME\"] = \"/usr/lib/jvm/java-8-openjdk-amd64\"\n",
        "os.environ[\"SPARK_HOME\"] = \"/content/spark-2.4.7-bin-hadoop2.7\""
      ],
      "execution_count": null,
      "outputs": []
    },
    {
      "cell_type": "code",
      "metadata": {
        "id": "wpgGTFdWJphF"
      },
      "source": [
        "import findspark\n",
        "findspark.init()\n",
        "from pyspark.sql import SparkSession\n",
        "\n",
        "spark = SparkSession.builder.master(\"local[*]\").getOrCreate()"
      ],
      "execution_count": null,
      "outputs": []
    },
    {
      "cell_type": "code",
      "metadata": {
        "id": "UIWpjWRGgTgc"
      },
      "source": [
        "import math"
      ],
      "execution_count": null,
      "outputs": []
    },
    {
      "cell_type": "code",
      "metadata": {
        "id": "YX9s0oCJZEA8"
      },
      "source": [
        "df_rating = spark.read.csv('u.data.csv',  header=None, sep = '\\t', inferSchema=True)"
      ],
      "execution_count": null,
      "outputs": []
    },
    {
      "cell_type": "code",
      "metadata": {
        "id": "KYxWyJmmZjEY"
      },
      "source": [
        "df_rating = df_rating.toDF ( 'user id', 'movie id', 'rating', 'timestamp')"
      ],
      "execution_count": null,
      "outputs": []
    },
    {
      "cell_type": "code",
      "metadata": {
        "colab": {
          "base_uri": "https://localhost:8080/"
        },
        "id": "taQ78xc3KCLb",
        "outputId": "c6a9e6d0-b3ba-4e15-e75f-65aef4a2d01b"
      },
      "source": [
        "df_rating.show(10)"
      ],
      "execution_count": null,
      "outputs": [
        {
          "output_type": "stream",
          "text": [
            "+-------+--------+------+---------+\n",
            "|user id|movie id|rating|timestamp|\n",
            "+-------+--------+------+---------+\n",
            "|    196|     242|     3|881250949|\n",
            "|    186|     302|     3|891717742|\n",
            "|     22|     377|     1|878887116|\n",
            "|    244|      51|     2|880606923|\n",
            "|    166|     346|     1|886397596|\n",
            "|    298|     474|     4|884182806|\n",
            "|    115|     265|     2|881171488|\n",
            "|    253|     465|     5|891628467|\n",
            "|    305|     451|     3|886324817|\n",
            "|      6|      86|     3|883603013|\n",
            "+-------+--------+------+---------+\n",
            "only showing top 10 rows\n",
            "\n"
          ],
          "name": "stdout"
        }
      ]
    },
    {
      "cell_type": "code",
      "metadata": {
        "id": "IeahEAmjKVEV"
      },
      "source": [
        "df_movies = spark.read.csv('u.item.csv', inferSchema=True, header=None, sep='|')"
      ],
      "execution_count": null,
      "outputs": []
    },
    {
      "cell_type": "code",
      "metadata": {
        "id": "8L4AMfsgZ1AQ"
      },
      "source": [
        "df_movies = df_movies.toDF ('movie id', 'movie title', 'release date', 'video release date', 'IMDb URL', 'unknown', 'Action', 'Adventure', \n",
        "'Animation', 'Childrens', 'Comedy', 'Crime', 'Documentary', 'Drama', 'Fantasy', 'Film-Noir', 'Horror', 'Musical', 'Mystery', 'Romance', 'Sci-Fi', \n",
        "'Thriller', 'War', 'Western')"
      ],
      "execution_count": null,
      "outputs": []
    },
    {
      "cell_type": "code",
      "metadata": {
        "colab": {
          "base_uri": "https://localhost:8080/"
        },
        "id": "qOtKqxV4KaBm",
        "outputId": "c9868b24-519f-4da5-8601-6aba08e76e92"
      },
      "source": [
        "df_movies.show(10)"
      ],
      "execution_count": null,
      "outputs": [
        {
          "output_type": "stream",
          "text": [
            "+--------+--------------------+------------+------------------+--------------------+-------+------+---------+---------+---------+------+-----+-----------+-----+-------+---------+------+-------+-------+-------+------+--------+---+-------+\n",
            "|movie id|         movie title|release date|video release date|            IMDb URL|unknown|Action|Adventure|Animation|Childrens|Comedy|Crime|Documentary|Drama|Fantasy|Film-Noir|Horror|Musical|Mystery|Romance|Sci-Fi|Thriller|War|Western|\n",
            "+--------+--------------------+------------+------------------+--------------------+-------+------+---------+---------+---------+------+-----+-----------+-----+-------+---------+------+-------+-------+-------+------+--------+---+-------+\n",
            "|       1|    Toy Story (1995)| 01-Jan-1995|              null|http://us.imdb.co...|      0|     0|        0|        1|        1|     1|    0|          0|    0|      0|        0|     0|      0|      0|      0|     0|       0|  0|      0|\n",
            "|       2|    GoldenEye (1995)| 01-Jan-1995|              null|http://us.imdb.co...|      0|     1|        1|        0|        0|     0|    0|          0|    0|      0|        0|     0|      0|      0|      0|     0|       1|  0|      0|\n",
            "|       3|   Four Rooms (1995)| 01-Jan-1995|              null|http://us.imdb.co...|      0|     0|        0|        0|        0|     0|    0|          0|    0|      0|        0|     0|      0|      0|      0|     0|       1|  0|      0|\n",
            "|       4|   Get Shorty (1995)| 01-Jan-1995|              null|http://us.imdb.co...|      0|     1|        0|        0|        0|     1|    0|          0|    1|      0|        0|     0|      0|      0|      0|     0|       0|  0|      0|\n",
            "|       5|      Copycat (1995)| 01-Jan-1995|              null|http://us.imdb.co...|      0|     0|        0|        0|        0|     0|    1|          0|    1|      0|        0|     0|      0|      0|      0|     0|       1|  0|      0|\n",
            "|       6|Shanghai Triad (Y...| 01-Jan-1995|              null|http://us.imdb.co...|      0|     0|        0|        0|        0|     0|    0|          0|    1|      0|        0|     0|      0|      0|      0|     0|       0|  0|      0|\n",
            "|       7|Twelve Monkeys (1...| 01-Jan-1995|              null|http://us.imdb.co...|      0|     0|        0|        0|        0|     0|    0|          0|    1|      0|        0|     0|      0|      0|      0|     1|       0|  0|      0|\n",
            "|       8|         Babe (1995)| 01-Jan-1995|              null|http://us.imdb.co...|      0|     0|        0|        0|        1|     1|    0|          0|    1|      0|        0|     0|      0|      0|      0|     0|       0|  0|      0|\n",
            "|       9|Dead Man Walking ...| 01-Jan-1995|              null|http://us.imdb.co...|      0|     0|        0|        0|        0|     0|    0|          0|    1|      0|        0|     0|      0|      0|      0|     0|       0|  0|      0|\n",
            "|      10|  Richard III (1995)| 22-Jan-1996|              null|http://us.imdb.co...|      0|     0|        0|        0|        0|     0|    0|          0|    1|      0|        0|     0|      0|      0|      0|     0|       0|  1|      0|\n",
            "+--------+--------------------+------------+------------------+--------------------+-------+------+---------+---------+---------+------+-----+-----------+-----+-------+---------+------+-------+-------+-------+------+--------+---+-------+\n",
            "only showing top 10 rows\n",
            "\n"
          ],
          "name": "stdout"
        }
      ]
    },
    {
      "cell_type": "markdown",
      "metadata": {
        "id": "PenwQk2uz9wh"
      },
      "source": [
        "Выведем среднюю оценку для каждого фильма"
      ]
    },
    {
      "cell_type": "code",
      "metadata": {
        "id": "O2boMxMR0LdG"
      },
      "source": [
        "from pyspark.sql import functions as F"
      ],
      "execution_count": null,
      "outputs": []
    },
    {
      "cell_type": "code",
      "metadata": {
        "id": "XYMU1Apk0Mbi"
      },
      "source": [
        "df_rat_avg = df_rating.groupBy('movie id').agg(F.count(df_rating.rating).alias('count'), F.avg(df_rating.rating).alias('avg'))"
      ],
      "execution_count": null,
      "outputs": []
    },
    {
      "cell_type": "code",
      "metadata": {
        "colab": {
          "base_uri": "https://localhost:8080/"
        },
        "id": "brbELNtTanwE",
        "outputId": "86cb0e10-eaec-4c06-afc4-ae9e22fdcfe0"
      },
      "source": [
        "df_rat_avg.show()"
      ],
      "execution_count": null,
      "outputs": [
        {
          "output_type": "stream",
          "text": [
            "+--------+-----+------------------+\n",
            "|movie id|count|               avg|\n",
            "+--------+-----+------------------+\n",
            "|     496|  231| 4.121212121212121|\n",
            "|     471|  221|3.6108597285067874|\n",
            "|     463|   71| 3.859154929577465|\n",
            "|     148|  128|          3.203125|\n",
            "|    1342|    2|               2.5|\n",
            "|     833|   49| 3.204081632653061|\n",
            "|    1088|   13| 2.230769230769231|\n",
            "|    1591|    6|3.1666666666666665|\n",
            "|    1238|    8|             3.125|\n",
            "|    1580|    1|               1.0|\n",
            "|    1645|    1|               4.0|\n",
            "|     392|   68|3.5441176470588234|\n",
            "|     623|   39| 2.923076923076923|\n",
            "|     540|   43| 2.511627906976744|\n",
            "|     858|    3|               1.0|\n",
            "|     737|   59| 2.983050847457627|\n",
            "|     243|  132|2.4393939393939394|\n",
            "|    1025|   44|2.9318181818181817|\n",
            "|    1084|   21| 3.857142857142857|\n",
            "|    1127|   11| 2.909090909090909|\n",
            "+--------+-----+------------------+\n",
            "only showing top 20 rows\n",
            "\n"
          ],
          "name": "stdout"
        }
      ]
    },
    {
      "cell_type": "markdown",
      "metadata": {
        "id": "Yi1k0sJy2igz"
      },
      "source": [
        "Получим 2 датафрейма с 5-ю самыми популярными и самыми непопулярными фильмами (по количеству оценок и по средней оценке)"
      ]
    },
    {
      "cell_type": "code",
      "metadata": {
        "colab": {
          "base_uri": "https://localhost:8080/"
        },
        "id": "KvHVsbtI2Q0w",
        "outputId": "0ae8b3b5-9721-4028-907c-756bfa680c33"
      },
      "source": [
        "df_rat_avg.orderBy('count', ascending=False).show(5)"
      ],
      "execution_count": null,
      "outputs": [
        {
          "output_type": "stream",
          "text": [
            "+--------+-----+------------------+\n",
            "|movie id|count|               avg|\n",
            "+--------+-----+------------------+\n",
            "|      50|  583|4.3584905660377355|\n",
            "|     258|  509|3.8035363457760316|\n",
            "|     100|  508| 4.155511811023622|\n",
            "|     181|  507| 4.007889546351085|\n",
            "|     294|  485| 3.156701030927835|\n",
            "+--------+-----+------------------+\n",
            "only showing top 5 rows\n",
            "\n"
          ],
          "name": "stdout"
        }
      ]
    },
    {
      "cell_type": "code",
      "metadata": {
        "colab": {
          "base_uri": "https://localhost:8080/"
        },
        "id": "Vys5Wrt94Qzw",
        "outputId": "49e882ff-f3dd-46f9-8386-6bdfacac3e3f"
      },
      "source": [
        "df_rat_avg.orderBy('count', ascending=True).show(5)"
      ],
      "execution_count": null,
      "outputs": [
        {
          "output_type": "stream",
          "text": [
            "+--------+-----+---+\n",
            "|movie id|count|avg|\n",
            "+--------+-----+---+\n",
            "|    1339|    1|1.0|\n",
            "|    1507|    1|3.0|\n",
            "|    1580|    1|1.0|\n",
            "|    1460|    1|3.0|\n",
            "|    1645|    1|4.0|\n",
            "+--------+-----+---+\n",
            "only showing top 5 rows\n",
            "\n"
          ],
          "name": "stdout"
        }
      ]
    },
    {
      "cell_type": "code",
      "metadata": {
        "colab": {
          "base_uri": "https://localhost:8080/"
        },
        "id": "24rjk1cz4hCL",
        "outputId": "57c9e5d1-b7f7-443e-f171-d356c306fa61"
      },
      "source": [
        "df_rat_avg.orderBy('avg', ascending=False).show(5)"
      ],
      "execution_count": null,
      "outputs": [
        {
          "output_type": "stream",
          "text": [
            "+--------+-----+---+\n",
            "|movie id|count|avg|\n",
            "+--------+-----+---+\n",
            "|    1599|    1|5.0|\n",
            "|    1653|    1|5.0|\n",
            "|    1122|    1|5.0|\n",
            "|    1500|    2|5.0|\n",
            "|    1201|    1|5.0|\n",
            "+--------+-----+---+\n",
            "only showing top 5 rows\n",
            "\n"
          ],
          "name": "stdout"
        }
      ]
    },
    {
      "cell_type": "code",
      "metadata": {
        "colab": {
          "base_uri": "https://localhost:8080/"
        },
        "id": "DoXfqDH84lq0",
        "outputId": "261a0bc1-1ade-436f-d2e9-aaa2f128047a"
      },
      "source": [
        "df_rat_avg.orderBy('avg', ascending=True).show(5)"
      ],
      "execution_count": null,
      "outputs": [
        {
          "output_type": "stream",
          "text": [
            "+--------+-----+---+\n",
            "|movie id|count|avg|\n",
            "+--------+-----+---+\n",
            "|    1580|    1|1.0|\n",
            "|    1352|    1|1.0|\n",
            "|    1618|    1|1.0|\n",
            "|     858|    3|1.0|\n",
            "|    1339|    1|1.0|\n",
            "+--------+-----+---+\n",
            "only showing top 5 rows\n",
            "\n"
          ],
          "name": "stdout"
        }
      ]
    },
    {
      "cell_type": "markdown",
      "metadata": {
        "id": "uAUuwnqQ2RPH"
      },
      "source": [
        "Посчитаем среднюю оценку для каждого жанра"
      ]
    },
    {
      "cell_type": "code",
      "metadata": {
        "id": "swZo2w2Eect1"
      },
      "source": [
        "df_join = df_rating.join(df_movies, on='movie id')"
      ],
      "execution_count": null,
      "outputs": []
    },
    {
      "cell_type": "code",
      "metadata": {
        "colab": {
          "base_uri": "https://localhost:8080/"
        },
        "id": "T9f5Tsdt2qlw",
        "outputId": "ba6f3503-f7a1-42d6-dad4-73052dd1f68a"
      },
      "source": [
        "df = df_join.select ('movie id', 'rating', 'unknown', 'Action', 'Adventure', 'Animation', 'Childrens', 'Comedy', 'Crime', 'Documentary', 'Drama', 'Fantasy', 'Film-Noir', 'Horror', 'Musical', 'Mystery', 'Romance', 'Sci-Fi', \n",
        "'Thriller', 'War', 'Western')\n",
        "df.show()"
      ],
      "execution_count": null,
      "outputs": [
        {
          "output_type": "stream",
          "text": [
            "+--------+------+-------+------+---------+---------+---------+------+-----+-----------+-----+-------+---------+------+-------+-------+-------+------+--------+---+-------+\n",
            "|movie id|rating|unknown|Action|Adventure|Animation|Childrens|Comedy|Crime|Documentary|Drama|Fantasy|Film-Noir|Horror|Musical|Mystery|Romance|Sci-Fi|Thriller|War|Western|\n",
            "+--------+------+-------+------+---------+---------+---------+------+-----+-----------+-----+-------+---------+------+-------+-------+-------+------+--------+---+-------+\n",
            "|     242|     3|      0|     0|        0|        0|        0|     1|    0|          0|    0|      0|        0|     0|      0|      0|      0|     0|       0|  0|      0|\n",
            "|     302|     3|      0|     0|        0|        0|        0|     0|    1|          0|    0|      0|        1|     0|      0|      1|      0|     0|       1|  0|      0|\n",
            "|     377|     1|      0|     0|        0|        0|        1|     1|    0|          0|    0|      0|        0|     0|      0|      0|      0|     0|       0|  0|      0|\n",
            "|      51|     2|      0|     0|        0|        0|        0|     0|    0|          0|    1|      0|        0|     0|      0|      0|      1|     0|       0|  1|      1|\n",
            "|     346|     1|      0|     0|        0|        0|        0|     0|    1|          0|    1|      0|        0|     0|      0|      0|      0|     0|       0|  0|      0|\n",
            "|     474|     4|      0|     0|        0|        0|        0|     0|    0|          0|    0|      0|        0|     0|      0|      0|      0|     1|       0|  1|      0|\n",
            "|     265|     2|      0|     1|        0|        0|        0|     0|    0|          0|    0|      0|        0|     0|      0|      0|      0|     0|       1|  0|      0|\n",
            "|     465|     5|      0|     0|        1|        0|        1|     0|    0|          0|    0|      0|        0|     0|      0|      0|      1|     0|       0|  0|      0|\n",
            "|     451|     3|      0|     0|        0|        0|        0|     1|    0|          0|    0|      0|        0|     0|      1|      0|      1|     0|       0|  0|      0|\n",
            "|      86|     3|      0|     0|        0|        0|        0|     0|    0|          0|    1|      0|        0|     0|      0|      0|      0|     0|       0|  0|      0|\n",
            "|     257|     2|      0|     1|        1|        0|        0|     1|    0|          0|    0|      0|        0|     0|      0|      0|      0|     1|       0|  0|      0|\n",
            "|    1014|     5|      0|     0|        0|        0|        0|     1|    0|          0|    0|      0|        0|     0|      0|      0|      0|     0|       0|  0|      0|\n",
            "|     222|     5|      0|     1|        1|        0|        0|     0|    0|          0|    0|      0|        0|     0|      0|      0|      0|     1|       0|  0|      0|\n",
            "|      40|     3|      0|     0|        0|        0|        0|     1|    0|          0|    0|      0|        0|     0|      0|      0|      0|     0|       0|  0|      0|\n",
            "|      29|     3|      0|     1|        1|        0|        0|     1|    1|          0|    0|      0|        0|     0|      0|      0|      0|     0|       0|  0|      0|\n",
            "|     785|     3|      0|     0|        0|        0|        0|     1|    0|          0|    0|      0|        0|     0|      0|      0|      1|     0|       0|  0|      0|\n",
            "|     387|     5|      0|     0|        0|        0|        0|     0|    0|          0|    1|      0|        0|     0|      0|      0|      0|     0|       0|  0|      0|\n",
            "|     274|     2|      0|     0|        0|        0|        0|     1|    0|          0|    0|      0|        0|     0|      0|      0|      1|     0|       0|  0|      0|\n",
            "|    1042|     4|      0|     0|        0|        0|        0|     0|    0|          0|    0|      0|        0|     0|      0|      1|      0|     0|       1|  0|      0|\n",
            "|    1184|     2|      0|     0|        0|        0|        0|     0|    0|          1|    0|      0|        0|     0|      0|      0|      0|     0|       0|  0|      0|\n",
            "+--------+------+-------+------+---------+---------+---------+------+-----+-----------+-----+-------+---------+------+-------+-------+-------+------+--------+---+-------+\n",
            "only showing top 20 rows\n",
            "\n"
          ],
          "name": "stdout"
        }
      ]
    },
    {
      "cell_type": "code",
      "metadata": {
        "id": "19p4e27l4hhI"
      },
      "source": [
        "list_genres = ['unknown', 'Action', 'Adventure', 'Animation', 'Childrens', 'Comedy', 'Crime', 'Documentary', 'Drama', 'Fantasy', 'Film-Noir', 'Horror', 'Musical', 'Mystery', 'Romance', 'Sci-Fi', \n",
        "'Thriller', 'War', 'Western'] "
      ],
      "execution_count": null,
      "outputs": []
    },
    {
      "cell_type": "code",
      "metadata": {
        "colab": {
          "base_uri": "https://localhost:8080/"
        },
        "id": "MYar2b9C5IET",
        "outputId": "bd78264f-0344-4292-bf32-290bbf14b3a7"
      },
      "source": [
        "for Genre in list_genres:\n",
        "    df_genre = df.where(df[Genre] == 1)\n",
        "    df_genre.groupby(Genre).avg('rating').show()"
      ],
      "execution_count": null,
      "outputs": [
        {
          "output_type": "stream",
          "text": [
            "+-------+-----------+\n",
            "|unknown|avg(rating)|\n",
            "+-------+-----------+\n",
            "|      1|        3.2|\n",
            "+-------+-----------+\n",
            "\n",
            "+------+-----------------+\n",
            "|Action|      avg(rating)|\n",
            "+------+-----------------+\n",
            "|     1|3.480245417953027|\n",
            "+------+-----------------+\n",
            "\n",
            "+---------+-----------------+\n",
            "|Adventure|      avg(rating)|\n",
            "+---------+-----------------+\n",
            "|        1|3.503526503308369|\n",
            "+---------+-----------------+\n",
            "\n",
            "+---------+------------------+\n",
            "|Animation|       avg(rating)|\n",
            "+---------+------------------+\n",
            "|        1|3.5766990291262135|\n",
            "+---------+------------------+\n",
            "\n",
            "+---------+------------------+\n",
            "|Childrens|       avg(rating)|\n",
            "+---------+------------------+\n",
            "|        1|3.3532442216652742|\n",
            "+---------+------------------+\n",
            "\n",
            "+------+------------------+\n",
            "|Comedy|       avg(rating)|\n",
            "+------+------------------+\n",
            "|     1|3.3940734781442745|\n",
            "+------+------------------+\n",
            "\n",
            "+-----+------------------+\n",
            "|Crime|       avg(rating)|\n",
            "+-----+------------------+\n",
            "|    1|3.6322780881440098|\n",
            "+-----+------------------+\n",
            "\n",
            "+-----------+------------------+\n",
            "|Documentary|       avg(rating)|\n",
            "+-----------+------------------+\n",
            "|          1|3.6728232189973613|\n",
            "+-----------+------------------+\n",
            "\n",
            "+-----+------------------+\n",
            "|Drama|       avg(rating)|\n",
            "+-----+------------------+\n",
            "|    1|3.6873793708484772|\n",
            "+-----+------------------+\n",
            "\n",
            "+-------+------------------+\n",
            "|Fantasy|       avg(rating)|\n",
            "+-------+------------------+\n",
            "|      1|3.2152366863905324|\n",
            "+-------+------------------+\n",
            "\n",
            "+---------+------------------+\n",
            "|Film-Noir|       avg(rating)|\n",
            "+---------+------------------+\n",
            "|        1|3.9215233698788228|\n",
            "+---------+------------------+\n",
            "\n",
            "+------+------------------+\n",
            "|Horror|       avg(rating)|\n",
            "+------+------------------+\n",
            "|     1|3.2903893172841827|\n",
            "+------+------------------+\n",
            "\n",
            "+-------+-----------------+\n",
            "|Musical|      avg(rating)|\n",
            "+-------+-----------------+\n",
            "|      1|3.521396851029471|\n",
            "+-------+-----------------+\n",
            "\n",
            "+-------+----------------+\n",
            "|Mystery|     avg(rating)|\n",
            "+-------+----------------+\n",
            "|      1|3.63813155386082|\n",
            "+-------+----------------+\n",
            "\n",
            "+-------+-----------------+\n",
            "|Romance|      avg(rating)|\n",
            "+-------+-----------------+\n",
            "|      1|3.621704948358255|\n",
            "+-------+-----------------+\n",
            "\n",
            "+------+------------------+\n",
            "|Sci-Fi|       avg(rating)|\n",
            "+------+------------------+\n",
            "|     1|3.5607227022780834|\n",
            "+------+------------------+\n",
            "\n",
            "+--------+------------------+\n",
            "|Thriller|       avg(rating)|\n",
            "+--------+------------------+\n",
            "|       1|3.5090069495245064|\n",
            "+--------+------------------+\n",
            "\n",
            "+---+-----------------+\n",
            "|War|      avg(rating)|\n",
            "+---+-----------------+\n",
            "|  1|3.815811874866993|\n",
            "+---+-----------------+\n",
            "\n",
            "+-------+------------------+\n",
            "|Western|       avg(rating)|\n",
            "+-------+------------------+\n",
            "|      1|3.6132686084142396|\n",
            "+-------+------------------+\n",
            "\n"
          ],
          "name": "stdout"
        }
      ]
    }
  ]
}